{
 "cells": [
  {
   "cell_type": "code",
   "execution_count": 131,
   "id": "5b9009eb",
   "metadata": {},
   "outputs": [],
   "source": [
    "import warnings \n",
    "warnings.filterwarnings('ignore')\n",
    "warnings.simplefilter('ignore')"
   ]
  },
  {
   "cell_type": "code",
   "execution_count": 132,
   "id": "aa119e10",
   "metadata": {},
   "outputs": [],
   "source": [
    "import pandas as pd \n",
    "import matplotlib.pyplot as plt\n",
    "from matplotlib.patches import Rectangle\n",
    "import numpy as np\n",
    "from pprint import pprint as pp\n",
    "import csv\n",
    "from pathlib import Path\n",
    "import seaborn as sns \n",
    "from itertools import product \n",
    "import string\n",
    "import nltk\n",
    "from nltk.corpus import stopwords\n",
    "from nltk.stem.wordnet import WordNetLemmatizer\n",
    "\n",
    "from imblearn.over_sampling import SMOTE\n",
    "from imblearn.over_sampling import SMOTE\n",
    "from imblearn.over_sampling import BorderlineSMOTE\n",
    "from imblearn.pipeline import Pipeline\n",
    "\n",
    "from sklearn.model_selection import train_test_split, GridSearchCV\n",
    "from sklearn.linear_model import LinearRegression, LogisticRegression\n",
    "from sklearn.tree import DecisionTreeClassifier\n",
    "from sklearn.metrics import r2_score, classification_report, confusion_matrix, accuracy_score, roc_auc_score, roc_curve, precision_recall_curve, average_precision_score\n",
    "from sklearn.ensemble import RandomForestClassifier, VotingClassifier\n",
    "from sklearn.preprocessing import MinMaxScaler\n",
    "from sklearn.cluster import MiniBatchKMeans,DBSCAN\n",
    "from sklearn.metrics import homogeneity_score, silhouette_score\n",
    "\n",
    "import nltk\n",
    "from nltk.corpus import stopwords\n",
    "from nltk.stem.wordnet import WordNetLemmatizer\n",
    "import string\n",
    "from nltk.stem.porter import PorterStemmer"
   ]
  },
  {
   "cell_type": "code",
   "execution_count": 133,
   "id": "d2852e43",
   "metadata": {},
   "outputs": [],
   "source": [
    "import pandas as pd\n",
    "import matplotlib.pyplot as plt\n",
    "from matplotlib.patches import Rectangle\n",
    "import numpy as np\n",
    "from pprint import pprint as pp\n",
    "import csv\n",
    "from pathlib import Path\n",
    "import seaborn as sns\n",
    "from itertools import product\n",
    "import string\n",
    "\n",
    "import nltk\n",
    "from nltk.corpus import stopwords\n",
    "from nltk.stem.wordnet import WordNetLemmatizer\n",
    "\n",
    "from imblearn.over_sampling import SMOTE\n",
    "from imblearn.over_sampling import BorderlineSMOTE\n",
    "from imblearn.pipeline import Pipeline \n",
    "\n",
    "from sklearn.linear_model import LinearRegression, LogisticRegression\n",
    "from sklearn.model_selection import train_test_split, GridSearchCV\n",
    "from sklearn.tree import DecisionTreeClassifier\n",
    "from sklearn.metrics import r2_score, classification_report, confusion_matrix, accuracy_score, roc_auc_score, roc_curve, precision_recall_curve, average_precision_score\n",
    "from sklearn.metrics import homogeneity_score, silhouette_score\n",
    "from sklearn.ensemble import RandomForestClassifier, VotingClassifier\n",
    "from sklearn.preprocessing import MinMaxScaler\n",
    "from sklearn.cluster import MiniBatchKMeans, DBSCAN\n",
    "\n",
    "import gensim\n",
    "from gensim import corpora"
   ]
  },
  {
   "cell_type": "code",
   "execution_count": 134,
   "id": "922750cc",
   "metadata": {},
   "outputs": [],
   "source": [
    "df=pd.read_csv('data/creditcard_sampledata_3.csv')"
   ]
  },
  {
   "cell_type": "code",
   "execution_count": 135,
   "id": "64e1fd61",
   "metadata": {},
   "outputs": [
    {
     "name": "stdout",
     "output_type": "stream",
     "text": [
      "<class 'pandas.core.frame.DataFrame'>\n",
      "RangeIndex: 5050 entries, 0 to 5049\n",
      "Data columns (total 31 columns):\n",
      " #   Column      Non-Null Count  Dtype  \n",
      "---  ------      --------------  -----  \n",
      " 0   Unnamed: 0  5050 non-null   int64  \n",
      " 1   V1          5050 non-null   float64\n",
      " 2   V2          5050 non-null   float64\n",
      " 3   V3          5050 non-null   float64\n",
      " 4   V4          5050 non-null   float64\n",
      " 5   V5          5050 non-null   float64\n",
      " 6   V6          5050 non-null   float64\n",
      " 7   V7          5050 non-null   float64\n",
      " 8   V8          5050 non-null   float64\n",
      " 9   V9          5050 non-null   float64\n",
      " 10  V10         5050 non-null   float64\n",
      " 11  V11         5050 non-null   float64\n",
      " 12  V12         5050 non-null   float64\n",
      " 13  V13         5050 non-null   float64\n",
      " 14  V14         5050 non-null   float64\n",
      " 15  V15         5050 non-null   float64\n",
      " 16  V16         5050 non-null   float64\n",
      " 17  V17         5050 non-null   float64\n",
      " 18  V18         5050 non-null   float64\n",
      " 19  V19         5050 non-null   float64\n",
      " 20  V20         5050 non-null   float64\n",
      " 21  V21         5050 non-null   float64\n",
      " 22  V22         5050 non-null   float64\n",
      " 23  V23         5050 non-null   float64\n",
      " 24  V24         5050 non-null   float64\n",
      " 25  V25         5050 non-null   float64\n",
      " 26  V26         5050 non-null   float64\n",
      " 27  V27         5050 non-null   float64\n",
      " 28  V28         5050 non-null   float64\n",
      " 29  Amount      5050 non-null   float64\n",
      " 30  Class       5050 non-null   int64  \n",
      "dtypes: float64(29), int64(2)\n",
      "memory usage: 1.2 MB\n"
     ]
    }
   ],
   "source": [
    "df.info()"
   ]
  },
  {
   "cell_type": "code",
   "execution_count": 136,
   "id": "4c1e124c",
   "metadata": {},
   "outputs": [
    {
     "data": {
      "text/html": [
       "<div>\n",
       "<style scoped>\n",
       "    .dataframe tbody tr th:only-of-type {\n",
       "        vertical-align: middle;\n",
       "    }\n",
       "\n",
       "    .dataframe tbody tr th {\n",
       "        vertical-align: top;\n",
       "    }\n",
       "\n",
       "    .dataframe thead th {\n",
       "        text-align: right;\n",
       "    }\n",
       "</style>\n",
       "<table border=\"1\" class=\"dataframe\">\n",
       "  <thead>\n",
       "    <tr style=\"text-align: right;\">\n",
       "      <th></th>\n",
       "      <th>Unnamed: 0</th>\n",
       "      <th>V1</th>\n",
       "      <th>V2</th>\n",
       "      <th>V3</th>\n",
       "      <th>V4</th>\n",
       "      <th>V5</th>\n",
       "      <th>V6</th>\n",
       "      <th>V7</th>\n",
       "      <th>V8</th>\n",
       "      <th>V9</th>\n",
       "      <th>...</th>\n",
       "      <th>V21</th>\n",
       "      <th>V22</th>\n",
       "      <th>V23</th>\n",
       "      <th>V24</th>\n",
       "      <th>V25</th>\n",
       "      <th>V26</th>\n",
       "      <th>V27</th>\n",
       "      <th>V28</th>\n",
       "      <th>Amount</th>\n",
       "      <th>Class</th>\n",
       "    </tr>\n",
       "  </thead>\n",
       "  <tbody>\n",
       "    <tr>\n",
       "      <th>0</th>\n",
       "      <td>258647</td>\n",
       "      <td>1.725265</td>\n",
       "      <td>-1.337256</td>\n",
       "      <td>-1.012687</td>\n",
       "      <td>-0.361656</td>\n",
       "      <td>-1.431611</td>\n",
       "      <td>-1.098681</td>\n",
       "      <td>-0.842274</td>\n",
       "      <td>-0.026594</td>\n",
       "      <td>-0.032409</td>\n",
       "      <td>...</td>\n",
       "      <td>0.414524</td>\n",
       "      <td>0.793434</td>\n",
       "      <td>0.028887</td>\n",
       "      <td>0.419421</td>\n",
       "      <td>-0.367529</td>\n",
       "      <td>-0.155634</td>\n",
       "      <td>-0.015768</td>\n",
       "      <td>0.010790</td>\n",
       "      <td>189.00</td>\n",
       "      <td>0</td>\n",
       "    </tr>\n",
       "    <tr>\n",
       "      <th>1</th>\n",
       "      <td>69263</td>\n",
       "      <td>0.683254</td>\n",
       "      <td>-1.681875</td>\n",
       "      <td>0.533349</td>\n",
       "      <td>-0.326064</td>\n",
       "      <td>-1.455603</td>\n",
       "      <td>0.101832</td>\n",
       "      <td>-0.520590</td>\n",
       "      <td>0.114036</td>\n",
       "      <td>-0.601760</td>\n",
       "      <td>...</td>\n",
       "      <td>0.116898</td>\n",
       "      <td>-0.304605</td>\n",
       "      <td>-0.125547</td>\n",
       "      <td>0.244848</td>\n",
       "      <td>0.069163</td>\n",
       "      <td>-0.460712</td>\n",
       "      <td>-0.017068</td>\n",
       "      <td>0.063542</td>\n",
       "      <td>315.17</td>\n",
       "      <td>0</td>\n",
       "    </tr>\n",
       "    <tr>\n",
       "      <th>2</th>\n",
       "      <td>96552</td>\n",
       "      <td>1.067973</td>\n",
       "      <td>-0.656667</td>\n",
       "      <td>1.029738</td>\n",
       "      <td>0.253899</td>\n",
       "      <td>-1.172715</td>\n",
       "      <td>0.073232</td>\n",
       "      <td>-0.745771</td>\n",
       "      <td>0.249803</td>\n",
       "      <td>1.383057</td>\n",
       "      <td>...</td>\n",
       "      <td>-0.189315</td>\n",
       "      <td>-0.426743</td>\n",
       "      <td>0.079539</td>\n",
       "      <td>0.129692</td>\n",
       "      <td>0.002778</td>\n",
       "      <td>0.970498</td>\n",
       "      <td>-0.035056</td>\n",
       "      <td>0.017313</td>\n",
       "      <td>59.98</td>\n",
       "      <td>0</td>\n",
       "    </tr>\n",
       "    <tr>\n",
       "      <th>3</th>\n",
       "      <td>281898</td>\n",
       "      <td>0.119513</td>\n",
       "      <td>0.729275</td>\n",
       "      <td>-1.678879</td>\n",
       "      <td>-1.551408</td>\n",
       "      <td>3.128914</td>\n",
       "      <td>3.210632</td>\n",
       "      <td>0.356276</td>\n",
       "      <td>0.920374</td>\n",
       "      <td>-0.160589</td>\n",
       "      <td>...</td>\n",
       "      <td>-0.335825</td>\n",
       "      <td>-0.906171</td>\n",
       "      <td>0.108350</td>\n",
       "      <td>0.593062</td>\n",
       "      <td>-0.424303</td>\n",
       "      <td>0.164201</td>\n",
       "      <td>0.245881</td>\n",
       "      <td>0.071029</td>\n",
       "      <td>0.89</td>\n",
       "      <td>0</td>\n",
       "    </tr>\n",
       "    <tr>\n",
       "      <th>4</th>\n",
       "      <td>86917</td>\n",
       "      <td>1.271253</td>\n",
       "      <td>0.275694</td>\n",
       "      <td>0.159568</td>\n",
       "      <td>1.003096</td>\n",
       "      <td>-0.128535</td>\n",
       "      <td>-0.608730</td>\n",
       "      <td>0.088777</td>\n",
       "      <td>-0.145336</td>\n",
       "      <td>0.156047</td>\n",
       "      <td>...</td>\n",
       "      <td>0.031958</td>\n",
       "      <td>0.123503</td>\n",
       "      <td>-0.174528</td>\n",
       "      <td>-0.147535</td>\n",
       "      <td>0.735909</td>\n",
       "      <td>-0.262270</td>\n",
       "      <td>0.015577</td>\n",
       "      <td>0.015955</td>\n",
       "      <td>6.53</td>\n",
       "      <td>0</td>\n",
       "    </tr>\n",
       "  </tbody>\n",
       "</table>\n",
       "<p>5 rows × 31 columns</p>\n",
       "</div>"
      ],
      "text/plain": [
       "   Unnamed: 0        V1        V2        V3        V4        V5        V6  \\\n",
       "0      258647  1.725265 -1.337256 -1.012687 -0.361656 -1.431611 -1.098681   \n",
       "1       69263  0.683254 -1.681875  0.533349 -0.326064 -1.455603  0.101832   \n",
       "2       96552  1.067973 -0.656667  1.029738  0.253899 -1.172715  0.073232   \n",
       "3      281898  0.119513  0.729275 -1.678879 -1.551408  3.128914  3.210632   \n",
       "4       86917  1.271253  0.275694  0.159568  1.003096 -0.128535 -0.608730   \n",
       "\n",
       "         V7        V8        V9  ...       V21       V22       V23       V24  \\\n",
       "0 -0.842274 -0.026594 -0.032409  ...  0.414524  0.793434  0.028887  0.419421   \n",
       "1 -0.520590  0.114036 -0.601760  ...  0.116898 -0.304605 -0.125547  0.244848   \n",
       "2 -0.745771  0.249803  1.383057  ... -0.189315 -0.426743  0.079539  0.129692   \n",
       "3  0.356276  0.920374 -0.160589  ... -0.335825 -0.906171  0.108350  0.593062   \n",
       "4  0.088777 -0.145336  0.156047  ...  0.031958  0.123503 -0.174528 -0.147535   \n",
       "\n",
       "        V25       V26       V27       V28  Amount  Class  \n",
       "0 -0.367529 -0.155634 -0.015768  0.010790  189.00      0  \n",
       "1  0.069163 -0.460712 -0.017068  0.063542  315.17      0  \n",
       "2  0.002778  0.970498 -0.035056  0.017313   59.98      0  \n",
       "3 -0.424303  0.164201  0.245881  0.071029    0.89      0  \n",
       "4  0.735909 -0.262270  0.015577  0.015955    6.53      0  \n",
       "\n",
       "[5 rows x 31 columns]"
      ]
     },
     "execution_count": 136,
     "metadata": {},
     "output_type": "execute_result"
    }
   ],
   "source": [
    "df.head()"
   ]
  },
  {
   "cell_type": "code",
   "execution_count": 137,
   "id": "8c8f5399",
   "metadata": {},
   "outputs": [
    {
     "name": "stdout",
     "output_type": "stream",
     "text": [
      "0    5000\n",
      "1      50\n",
      "Name: Class, dtype: int64\n"
     ]
    }
   ],
   "source": [
    "occ=df['Class'].value_counts()\n",
    "print(occ)"
   ]
  },
  {
   "cell_type": "markdown",
   "id": "cb59c2c1",
   "metadata": {},
   "source": [
    "We have a class balance problem we can confire it on calculating the ratio."
   ]
  },
  {
   "cell_type": "code",
   "execution_count": 138,
   "id": "cd9cc7ac",
   "metadata": {},
   "outputs": [
    {
     "name": "stdout",
     "output_type": "stream",
     "text": [
      "Ratio of fraudulent cases : 0.009900990099009901\n",
      "Ratio of non-fraudulent cases: 0.9900990099009901\n"
     ]
    }
   ],
   "source": [
    "ratio_cases = occ/len(df.index)\n",
    "print(f'Ratio of fraudulent cases : {ratio_cases[1]}\\nRatio of non-fraudulent cases: {ratio_cases[0]}')\n"
   ]
  },
  {
   "cell_type": "code",
   "execution_count": 139,
   "id": "0d8e9867",
   "metadata": {},
   "outputs": [],
   "source": [
    "def prep_data(df: pd.DataFrame) -> (np.ndarray, np.ndarray):\n",
    "    \"\"\"\n",
    "    Convert the DataFrame into two variable\n",
    "    X: data columns (V1 - V28 and amount)\n",
    "    y: label column\n",
    "    \"\"\"\n",
    "    X = df.iloc[:, 2:30].values\n",
    "    y = df.Class.values\n",
    "    return X, y"
   ]
  },
  {
   "cell_type": "code",
   "execution_count": 140,
   "id": "0bfd65a9",
   "metadata": {},
   "outputs": [],
   "source": [
    "def plot_data(X: np.ndarray, y: np.ndarray):\n",
    "    plt.scatter(X[y == 0, 0], X[y == 0, 1], label=\"Class #0\", alpha=0.5, linewidth=0.15,c='b')\n",
    "    plt.scatter(X[y == 1, 0], X[y == 1, 1], label=\"Class #1\", alpha=0.5, linewidth=0.15, c='r')\n",
    "    plt.legend()\n",
    "    return plt.show()"
   ]
  },
  {
   "cell_type": "code",
   "execution_count": 141,
   "id": "bdeca423",
   "metadata": {},
   "outputs": [],
   "source": [
    "X, y = prep_data(df)"
   ]
  },
  {
   "cell_type": "code",
   "execution_count": 142,
   "id": "be3c4136",
   "metadata": {},
   "outputs": [
    {
     "name": "stdout",
     "output_type": "stream",
     "text": [
      "[[-1.33725592e+00 -1.01268723e+00 -3.61656463e-01 ... -1.57676763e-02\n",
      "   1.07902703e-02  1.89000000e+02]\n",
      " [-1.68187486e+00  5.33349336e-01 -3.26064341e-01 ... -1.70682293e-02\n",
      "   6.35420640e-02  3.15170000e+02]\n",
      " [-6.56667445e-01  1.02973756e+00  2.53898951e-01 ... -3.50555792e-02\n",
      "   1.73125091e-02  5.99800000e+01]\n",
      " ...\n",
      " [ 2.77308160e+00 -6.75784507e+00  4.44645597e+00 ... -7.66848112e-01\n",
      "   4.09423944e-01  1.06900000e+02]\n",
      " [ 1.86341354e+00 -2.51513548e+00  5.46368065e+00 ... -2.40929959e-01\n",
      "  -7.81055196e-01  3.24590000e+02]\n",
      " [ 6.86619841e+00 -1.18382692e+01  4.19421097e+00 ...  1.17002652e+00\n",
      "   2.29300915e-01  9.99900000e+01]]\n",
      "[0 0 0 ... 1 1 1]\n"
     ]
    }
   ],
   "source": [
    "print(X)\n",
    "print(y)"
   ]
  },
  {
   "cell_type": "code",
   "execution_count": 143,
   "id": "e1620314",
   "metadata": {},
   "outputs": [
    {
     "data": {
      "image/png": "[encoded data removed]",
      "text/plain": [
       "<Figure size 640x480 with 1 Axes>"
      ]
     },
     "metadata": {},
     "output_type": "display_data"
    }
   ],
   "source": [
    "plot_data(X, y)"
   ]
  },
  {
   "cell_type": "markdown",
   "id": "523a2b8a",
   "metadata": {},
   "source": [
    "As we visualize the data,we can see right away how dispersed our fraud cases are across the data and how few there are overall.\n",
    "How can we improve our fraud to non-fraud balance?(Data Resampling)"
   ]
  },
  {
   "cell_type": "markdown",
   "id": "0ed2ed10",
   "metadata": {},
   "source": [
    "The best resampling method is situational\n",
    "Random Undersampling (RUS):\n",
    "  If there is a lot of data and many minority cases, then undersampling may be computationally more convenient. In most cases, throwing away data is not desirable\n",
    "Random Oversampling (ROS):\n",
    "  Straightforward. Training the model on many duplicates\n",
    "SMOTE:\n",
    "  more sophisticated. Realistic data set. Training on synthetic data. Only works well if the minority case features are similar\n",
    "  if fraud is spread through the data and not distinct, using nearest neighbors to create more fraud cases, introduces noise into the data, as the nearest neighbors might not be fraud cases"
   ]
  },
  {
   "cell_type": "markdown",
   "id": "d1d26045",
   "metadata": {},
   "source": [
    " We are going to re-balance our data using the Synthetic Minority Over-sampling Technique (SMOTE). Unlike ROS, SMOTE does not create exact copies of observations, but creates new, synthetic, samples that are quite similar to the existing observations in the minority class."
   ]
  },
  {
   "cell_type": "code",
   "execution_count": 144,
   "id": "a8f82428",
   "metadata": {},
   "outputs": [
    {
     "name": "stdout",
     "output_type": "stream",
     "text": [
      "X shape: (5050, 28)\n",
      "y shape: (5050,)\n"
     ]
    }
   ],
   "source": [
    "print(f'X shape: {X.shape}\\ny shape: {y.shape}')"
   ]
  },
  {
   "cell_type": "code",
   "execution_count": 145,
   "id": "2752d07d",
   "metadata": {},
   "outputs": [],
   "source": [
    "oversample = SMOTE()"
   ]
  },
  {
   "cell_type": "code",
   "execution_count": 146,
   "id": "758e43bb",
   "metadata": {},
   "outputs": [],
   "source": [
    "X_resampled, y_resampled = oversample.fit_resample(X, y)"
   ]
  },
  {
   "cell_type": "code",
   "execution_count": 147,
   "id": "29a4e0c2",
   "metadata": {},
   "outputs": [
    {
     "name": "stdout",
     "output_type": "stream",
     "text": [
      "X shape: (10000, 28)\n",
      "y shape: (10000,)\n"
     ]
    }
   ],
   "source": [
    "print(f'X shape: {X_resampled.shape}\\ny shape: {y_resampled.shape}')"
   ]
  },
  {
   "cell_type": "code",
   "execution_count": 148,
   "id": "003c16a5",
   "metadata": {},
   "outputs": [
    {
     "data": {
      "image/png": "[encoded data removed]",
      "text/plain": [
       "<Figure size 640x480 with 1 Axes>"
      ]
     },
     "metadata": {},
     "output_type": "display_data"
    }
   ],
   "source": [
    "plot_data(X_resampled, y_resampled)"
   ]
  },
  {
   "cell_type": "code",
   "execution_count": 149,
   "id": "510aebad",
   "metadata": {},
   "outputs": [],
   "source": [
    "def compare_plot(X: np.ndarray, y: np.ndarray, X_resampled: np.ndarray, y_resampled: np.ndarray, method: str):\n",
    "    plt.subplot(1, 2, 1)\n",
    "    plt.scatter(X[y == 0, 0], X[y == 0, 1], label=\"Class #0\", alpha=0.5, linewidth=0.15)\n",
    "    plt.scatter(X[y == 1, 0], X[y == 1, 1], label=\"Class #1\", alpha=0.5, linewidth=0.15, c='r')\n",
    "    plt.title('Original Set')\n",
    "    plt.subplot(1, 2, 2)\n",
    "    plt.scatter(X_resampled[y_resampled == 0, 0], X_resampled[y_resampled == 0, 1], label=\"Class #0\", alpha=0.5, linewidth=0.15)\n",
    "    plt.scatter(X_resampled[y_resampled == 1, 0], X_resampled[y_resampled == 1, 1], label=\"Class #1\", alpha=0.5, linewidth=0.15, c='r')\n",
    "    plt.title(method)\n",
    "    plt.legend()\n",
    "    plt.show()"
   ]
  },
  {
   "cell_type": "code",
   "execution_count": 150,
   "id": "ffa70150",
   "metadata": {},
   "outputs": [
    {
     "data": {
      "image/png": "[encoded data removed]",
      "text/plain": [
       "<Figure size 640x480 with 2 Axes>"
      ]
     },
     "metadata": {},
     "output_type": "display_data"
    }
   ],
   "source": [
    "compare_plot(X, y, X_resampled, y_resampled, method='SMOTE')"
   ]
  },
  {
   "cell_type": "markdown",
   "id": "d3df839c",
   "metadata": {},
   "source": [
    " Visualizing the data shows the effect on the data very clearly. "
   ]
  },
  {
   "cell_type": "markdown",
   "id": "3a7ac052",
   "metadata": {},
   "source": [
    "Split the features and labels into train and test data"
   ]
  },
  {
   "cell_type": "code",
   "execution_count": 151,
   "id": "d1b3dda1",
   "metadata": {},
   "outputs": [],
   "source": [
    "X_train, X_test, y_train, y_test = train_test_split(X_resampled, y_resampled, test_size=0.2)"
   ]
  },
  {
   "cell_type": "code",
   "execution_count": 152,
   "id": "8b0c0480",
   "metadata": {},
   "outputs": [],
   "source": [
    "model = LinearRegression()"
   ]
  },
  {
   "cell_type": "code",
   "execution_count": 153,
   "id": "82692a6f",
   "metadata": {},
   "outputs": [
    {
     "data": {
      "text/plain": [
       "LinearRegression()"
      ]
     },
     "execution_count": 153,
     "metadata": {},
     "output_type": "execute_result"
    }
   ],
   "source": [
    "model.fit(X_train, y_train)"
   ]
  },
  {
   "cell_type": "code",
   "execution_count": 154,
   "id": "56790e14",
   "metadata": {},
   "outputs": [],
   "source": [
    "y_predicted = model.predict(X_test)"
   ]
  },
  {
   "cell_type": "code",
   "execution_count": 155,
   "id": "efd7c330",
   "metadata": {},
   "outputs": [
    {
     "data": {
      "text/plain": [
       "0.8241013336702188"
      ]
     },
     "execution_count": 155,
     "metadata": {},
     "output_type": "execute_result"
    }
   ],
   "source": [
    "r2_score(y_test, y_predicted)"
   ]
  },
  {
   "cell_type": "code",
   "execution_count": 156,
   "id": "6be5c49c",
   "metadata": {},
   "outputs": [],
   "source": [
    "X_train, X_test, y_train, y_test = train_test_split(X, y, test_size=0.2)"
   ]
  },
  {
   "cell_type": "code",
   "execution_count": 157,
   "id": "d50d5ffb",
   "metadata": {},
   "outputs": [],
   "source": [
    "model = LinearRegression()"
   ]
  },
  {
   "cell_type": "code",
   "execution_count": 158,
   "id": "23d676c2",
   "metadata": {},
   "outputs": [
    {
     "data": {
      "text/plain": [
       "LinearRegression()"
      ]
     },
     "execution_count": 158,
     "metadata": {},
     "output_type": "execute_result"
    }
   ],
   "source": [
    "model.fit(X_train, y_train)"
   ]
  },
  {
   "cell_type": "code",
   "execution_count": 159,
   "id": "a62af908",
   "metadata": {},
   "outputs": [],
   "source": [
    "y_predicted = model.predict(X_test)"
   ]
  },
  {
   "cell_type": "code",
   "execution_count": 160,
   "id": "c823ddab",
   "metadata": {},
   "outputs": [
    {
     "data": {
      "text/plain": [
       "0.6473807343382834"
      ]
     },
     "execution_count": 160,
     "metadata": {},
     "output_type": "execute_result"
    }
   ],
   "source": [
    "r2_score(y_test, y_predicted)"
   ]
  },
  {
   "cell_type": "markdown",
   "id": "d73e5432",
   "metadata": {},
   "source": [
    "We are going to try finding fraud cases in our credit card dataset the \"old way\". First we will define threshold values using common statistics, to split fraud and non-fraud. Then, use those thresholds on our features to detect fraud."
   ]
  },
  {
   "cell_type": "code",
   "execution_count": 161,
   "id": "aad8696a",
   "metadata": {},
   "outputs": [],
   "source": [
    "df.drop(['Unnamed: 0'], axis=1, inplace=True)"
   ]
  },
  {
   "cell_type": "code",
   "execution_count": 162,
   "id": "823ba248",
   "metadata": {},
   "outputs": [
    {
     "data": {
      "text/html": [
       "<div>\n",
       "<style scoped>\n",
       "    .dataframe tbody tr th:only-of-type {\n",
       "        vertical-align: middle;\n",
       "    }\n",
       "\n",
       "    .dataframe tbody tr th {\n",
       "        vertical-align: top;\n",
       "    }\n",
       "\n",
       "    .dataframe thead th {\n",
       "        text-align: right;\n",
       "    }\n",
       "</style>\n",
       "<table border=\"1\" class=\"dataframe\">\n",
       "  <thead>\n",
       "    <tr style=\"text-align: right;\">\n",
       "      <th></th>\n",
       "      <th>V1</th>\n",
       "      <th>V2</th>\n",
       "      <th>V3</th>\n",
       "      <th>V4</th>\n",
       "      <th>V5</th>\n",
       "      <th>V6</th>\n",
       "      <th>V7</th>\n",
       "      <th>V8</th>\n",
       "      <th>V9</th>\n",
       "      <th>V10</th>\n",
       "      <th>...</th>\n",
       "      <th>V21</th>\n",
       "      <th>V22</th>\n",
       "      <th>V23</th>\n",
       "      <th>V24</th>\n",
       "      <th>V25</th>\n",
       "      <th>V26</th>\n",
       "      <th>V27</th>\n",
       "      <th>V28</th>\n",
       "      <th>Amount</th>\n",
       "      <th>Class</th>\n",
       "    </tr>\n",
       "  </thead>\n",
       "  <tbody>\n",
       "    <tr>\n",
       "      <th>0</th>\n",
       "      <td>1.725265</td>\n",
       "      <td>-1.337256</td>\n",
       "      <td>-1.012687</td>\n",
       "      <td>-0.361656</td>\n",
       "      <td>-1.431611</td>\n",
       "      <td>-1.098681</td>\n",
       "      <td>-0.842274</td>\n",
       "      <td>-0.026594</td>\n",
       "      <td>-0.032409</td>\n",
       "      <td>0.215113</td>\n",
       "      <td>...</td>\n",
       "      <td>0.414524</td>\n",
       "      <td>0.793434</td>\n",
       "      <td>0.028887</td>\n",
       "      <td>0.419421</td>\n",
       "      <td>-0.367529</td>\n",
       "      <td>-0.155634</td>\n",
       "      <td>-0.015768</td>\n",
       "      <td>0.010790</td>\n",
       "      <td>189.00</td>\n",
       "      <td>0</td>\n",
       "    </tr>\n",
       "    <tr>\n",
       "      <th>1</th>\n",
       "      <td>0.683254</td>\n",
       "      <td>-1.681875</td>\n",
       "      <td>0.533349</td>\n",
       "      <td>-0.326064</td>\n",
       "      <td>-1.455603</td>\n",
       "      <td>0.101832</td>\n",
       "      <td>-0.520590</td>\n",
       "      <td>0.114036</td>\n",
       "      <td>-0.601760</td>\n",
       "      <td>0.444011</td>\n",
       "      <td>...</td>\n",
       "      <td>0.116898</td>\n",
       "      <td>-0.304605</td>\n",
       "      <td>-0.125547</td>\n",
       "      <td>0.244848</td>\n",
       "      <td>0.069163</td>\n",
       "      <td>-0.460712</td>\n",
       "      <td>-0.017068</td>\n",
       "      <td>0.063542</td>\n",
       "      <td>315.17</td>\n",
       "      <td>0</td>\n",
       "    </tr>\n",
       "    <tr>\n",
       "      <th>2</th>\n",
       "      <td>1.067973</td>\n",
       "      <td>-0.656667</td>\n",
       "      <td>1.029738</td>\n",
       "      <td>0.253899</td>\n",
       "      <td>-1.172715</td>\n",
       "      <td>0.073232</td>\n",
       "      <td>-0.745771</td>\n",
       "      <td>0.249803</td>\n",
       "      <td>1.383057</td>\n",
       "      <td>-0.483771</td>\n",
       "      <td>...</td>\n",
       "      <td>-0.189315</td>\n",
       "      <td>-0.426743</td>\n",
       "      <td>0.079539</td>\n",
       "      <td>0.129692</td>\n",
       "      <td>0.002778</td>\n",
       "      <td>0.970498</td>\n",
       "      <td>-0.035056</td>\n",
       "      <td>0.017313</td>\n",
       "      <td>59.98</td>\n",
       "      <td>0</td>\n",
       "    </tr>\n",
       "    <tr>\n",
       "      <th>3</th>\n",
       "      <td>0.119513</td>\n",
       "      <td>0.729275</td>\n",
       "      <td>-1.678879</td>\n",
       "      <td>-1.551408</td>\n",
       "      <td>3.128914</td>\n",
       "      <td>3.210632</td>\n",
       "      <td>0.356276</td>\n",
       "      <td>0.920374</td>\n",
       "      <td>-0.160589</td>\n",
       "      <td>-0.801748</td>\n",
       "      <td>...</td>\n",
       "      <td>-0.335825</td>\n",
       "      <td>-0.906171</td>\n",
       "      <td>0.108350</td>\n",
       "      <td>0.593062</td>\n",
       "      <td>-0.424303</td>\n",
       "      <td>0.164201</td>\n",
       "      <td>0.245881</td>\n",
       "      <td>0.071029</td>\n",
       "      <td>0.89</td>\n",
       "      <td>0</td>\n",
       "    </tr>\n",
       "    <tr>\n",
       "      <th>4</th>\n",
       "      <td>1.271253</td>\n",
       "      <td>0.275694</td>\n",
       "      <td>0.159568</td>\n",
       "      <td>1.003096</td>\n",
       "      <td>-0.128535</td>\n",
       "      <td>-0.608730</td>\n",
       "      <td>0.088777</td>\n",
       "      <td>-0.145336</td>\n",
       "      <td>0.156047</td>\n",
       "      <td>0.022707</td>\n",
       "      <td>...</td>\n",
       "      <td>0.031958</td>\n",
       "      <td>0.123503</td>\n",
       "      <td>-0.174528</td>\n",
       "      <td>-0.147535</td>\n",
       "      <td>0.735909</td>\n",
       "      <td>-0.262270</td>\n",
       "      <td>0.015577</td>\n",
       "      <td>0.015955</td>\n",
       "      <td>6.53</td>\n",
       "      <td>0</td>\n",
       "    </tr>\n",
       "  </tbody>\n",
       "</table>\n",
       "<p>5 rows × 30 columns</p>\n",
       "</div>"
      ],
      "text/plain": [
       "         V1        V2        V3        V4        V5        V6        V7  \\\n",
       "0  1.725265 -1.337256 -1.012687 -0.361656 -1.431611 -1.098681 -0.842274   \n",
       "1  0.683254 -1.681875  0.533349 -0.326064 -1.455603  0.101832 -0.520590   \n",
       "2  1.067973 -0.656667  1.029738  0.253899 -1.172715  0.073232 -0.745771   \n",
       "3  0.119513  0.729275 -1.678879 -1.551408  3.128914  3.210632  0.356276   \n",
       "4  1.271253  0.275694  0.159568  1.003096 -0.128535 -0.608730  0.088777   \n",
       "\n",
       "         V8        V9       V10  ...       V21       V22       V23       V24  \\\n",
       "0 -0.026594 -0.032409  0.215113  ...  0.414524  0.793434  0.028887  0.419421   \n",
       "1  0.114036 -0.601760  0.444011  ...  0.116898 -0.304605 -0.125547  0.244848   \n",
       "2  0.249803  1.383057 -0.483771  ... -0.189315 -0.426743  0.079539  0.129692   \n",
       "3  0.920374 -0.160589 -0.801748  ... -0.335825 -0.906171  0.108350  0.593062   \n",
       "4 -0.145336  0.156047  0.022707  ...  0.031958  0.123503 -0.174528 -0.147535   \n",
       "\n",
       "        V25       V26       V27       V28  Amount  Class  \n",
       "0 -0.367529 -0.155634 -0.015768  0.010790  189.00      0  \n",
       "1  0.069163 -0.460712 -0.017068  0.063542  315.17      0  \n",
       "2  0.002778  0.970498 -0.035056  0.017313   59.98      0  \n",
       "3 -0.424303  0.164201  0.245881  0.071029    0.89      0  \n",
       "4  0.735909 -0.262270  0.015577  0.015955    6.53      0  \n",
       "\n",
       "[5 rows x 30 columns]"
      ]
     },
     "execution_count": 162,
     "metadata": {},
     "output_type": "execute_result"
    }
   ],
   "source": [
    "df.head()"
   ]
  },
  {
   "cell_type": "code",
   "execution_count": 163,
   "id": "f205fcdc",
   "metadata": {},
   "outputs": [
    {
     "data": {
      "text/html": [
       "<div>\n",
       "<style scoped>\n",
       "    .dataframe tbody tr th:only-of-type {\n",
       "        vertical-align: middle;\n",
       "    }\n",
       "\n",
       "    .dataframe tbody tr th {\n",
       "        vertical-align: top;\n",
       "    }\n",
       "\n",
       "    .dataframe thead th {\n",
       "        text-align: right;\n",
       "    }\n",
       "</style>\n",
       "<table border=\"1\" class=\"dataframe\">\n",
       "  <thead>\n",
       "    <tr style=\"text-align: right;\">\n",
       "      <th></th>\n",
       "      <th>V1</th>\n",
       "      <th>V2</th>\n",
       "      <th>V3</th>\n",
       "      <th>V4</th>\n",
       "      <th>V5</th>\n",
       "      <th>V6</th>\n",
       "      <th>V7</th>\n",
       "      <th>V8</th>\n",
       "      <th>V9</th>\n",
       "      <th>V10</th>\n",
       "      <th>...</th>\n",
       "      <th>V20</th>\n",
       "      <th>V21</th>\n",
       "      <th>V22</th>\n",
       "      <th>V23</th>\n",
       "      <th>V24</th>\n",
       "      <th>V25</th>\n",
       "      <th>V26</th>\n",
       "      <th>V27</th>\n",
       "      <th>V28</th>\n",
       "      <th>Amount</th>\n",
       "    </tr>\n",
       "    <tr>\n",
       "      <th>Class</th>\n",
       "      <th></th>\n",
       "      <th></th>\n",
       "      <th></th>\n",
       "      <th></th>\n",
       "      <th></th>\n",
       "      <th></th>\n",
       "      <th></th>\n",
       "      <th></th>\n",
       "      <th></th>\n",
       "      <th></th>\n",
       "      <th></th>\n",
       "      <th></th>\n",
       "      <th></th>\n",
       "      <th></th>\n",
       "      <th></th>\n",
       "      <th></th>\n",
       "      <th></th>\n",
       "      <th></th>\n",
       "      <th></th>\n",
       "      <th></th>\n",
       "      <th></th>\n",
       "    </tr>\n",
       "  </thead>\n",
       "  <tbody>\n",
       "    <tr>\n",
       "      <th>0</th>\n",
       "      <td>0.035030</td>\n",
       "      <td>0.011553</td>\n",
       "      <td>0.037444</td>\n",
       "      <td>-0.045760</td>\n",
       "      <td>-0.013825</td>\n",
       "      <td>-0.030885</td>\n",
       "      <td>0.014315</td>\n",
       "      <td>-0.022432</td>\n",
       "      <td>-0.002227</td>\n",
       "      <td>0.001667</td>\n",
       "      <td>...</td>\n",
       "      <td>-0.002896</td>\n",
       "      <td>-0.010583</td>\n",
       "      <td>-0.010206</td>\n",
       "      <td>-0.003305</td>\n",
       "      <td>-0.000918</td>\n",
       "      <td>-0.002613</td>\n",
       "      <td>-0.004651</td>\n",
       "      <td>-0.009584</td>\n",
       "      <td>0.002414</td>\n",
       "      <td>85.843714</td>\n",
       "    </tr>\n",
       "    <tr>\n",
       "      <th>1</th>\n",
       "      <td>-4.985211</td>\n",
       "      <td>3.321539</td>\n",
       "      <td>-7.293909</td>\n",
       "      <td>4.827952</td>\n",
       "      <td>-3.326587</td>\n",
       "      <td>-1.591882</td>\n",
       "      <td>-5.776541</td>\n",
       "      <td>1.395058</td>\n",
       "      <td>-2.537728</td>\n",
       "      <td>-5.917934</td>\n",
       "      <td>...</td>\n",
       "      <td>0.194580</td>\n",
       "      <td>0.703182</td>\n",
       "      <td>0.069065</td>\n",
       "      <td>-0.088374</td>\n",
       "      <td>-0.029425</td>\n",
       "      <td>-0.073336</td>\n",
       "      <td>-0.023377</td>\n",
       "      <td>0.380072</td>\n",
       "      <td>0.009304</td>\n",
       "      <td>113.469000</td>\n",
       "    </tr>\n",
       "  </tbody>\n",
       "</table>\n",
       "<p>2 rows × 29 columns</p>\n",
       "</div>"
      ],
      "text/plain": [
       "             V1        V2        V3        V4        V5        V6        V7  \\\n",
       "Class                                                                         \n",
       "0      0.035030  0.011553  0.037444 -0.045760 -0.013825 -0.030885  0.014315   \n",
       "1     -4.985211  3.321539 -7.293909  4.827952 -3.326587 -1.591882 -5.776541   \n",
       "\n",
       "             V8        V9       V10  ...       V20       V21       V22  \\\n",
       "Class                                ...                                 \n",
       "0     -0.022432 -0.002227  0.001667  ... -0.002896 -0.010583 -0.010206   \n",
       "1      1.395058 -2.537728 -5.917934  ...  0.194580  0.703182  0.069065   \n",
       "\n",
       "            V23       V24       V25       V26       V27       V28      Amount  \n",
       "Class                                                                          \n",
       "0     -0.003305 -0.000918 -0.002613 -0.004651 -0.009584  0.002414   85.843714  \n",
       "1     -0.088374 -0.029425 -0.073336 -0.023377  0.380072  0.009304  113.469000  \n",
       "\n",
       "[2 rows x 29 columns]"
      ]
     },
     "execution_count": 163,
     "metadata": {},
     "output_type": "execute_result"
    }
   ],
   "source": [
    "df.groupby('Class').mean()"
   ]
  },
  {
   "cell_type": "code",
   "execution_count": 164,
   "id": "7c417e3a",
   "metadata": {},
   "outputs": [],
   "source": [
    "df['flag_as_fraud']=np.where((df.V1< -3) & (df.V3< -5),1,0 )"
   ]
  },
  {
   "cell_type": "code",
   "execution_count": 165,
   "id": "10369aa0",
   "metadata": {},
   "outputs": [
    {
     "data": {
      "text/html": [
       "<div>\n",
       "<style scoped>\n",
       "    .dataframe tbody tr th:only-of-type {\n",
       "        vertical-align: middle;\n",
       "    }\n",
       "\n",
       "    .dataframe tbody tr th {\n",
       "        vertical-align: top;\n",
       "    }\n",
       "\n",
       "    .dataframe thead th {\n",
       "        text-align: right;\n",
       "    }\n",
       "</style>\n",
       "<table border=\"1\" class=\"dataframe\">\n",
       "  <thead>\n",
       "    <tr style=\"text-align: right;\">\n",
       "      <th></th>\n",
       "      <th>V1</th>\n",
       "      <th>V2</th>\n",
       "      <th>V3</th>\n",
       "      <th>V4</th>\n",
       "      <th>V5</th>\n",
       "      <th>V6</th>\n",
       "      <th>V7</th>\n",
       "      <th>V8</th>\n",
       "      <th>V9</th>\n",
       "      <th>V10</th>\n",
       "      <th>...</th>\n",
       "      <th>V22</th>\n",
       "      <th>V23</th>\n",
       "      <th>V24</th>\n",
       "      <th>V25</th>\n",
       "      <th>V26</th>\n",
       "      <th>V27</th>\n",
       "      <th>V28</th>\n",
       "      <th>Amount</th>\n",
       "      <th>Class</th>\n",
       "      <th>flag_as_fraud</th>\n",
       "    </tr>\n",
       "  </thead>\n",
       "  <tbody>\n",
       "    <tr>\n",
       "      <th>0</th>\n",
       "      <td>1.725265</td>\n",
       "      <td>-1.337256</td>\n",
       "      <td>-1.012687</td>\n",
       "      <td>-0.361656</td>\n",
       "      <td>-1.431611</td>\n",
       "      <td>-1.098681</td>\n",
       "      <td>-0.842274</td>\n",
       "      <td>-0.026594</td>\n",
       "      <td>-0.032409</td>\n",
       "      <td>0.215113</td>\n",
       "      <td>...</td>\n",
       "      <td>0.793434</td>\n",
       "      <td>0.028887</td>\n",
       "      <td>0.419421</td>\n",
       "      <td>-0.367529</td>\n",
       "      <td>-0.155634</td>\n",
       "      <td>-0.015768</td>\n",
       "      <td>0.010790</td>\n",
       "      <td>189.00</td>\n",
       "      <td>0</td>\n",
       "      <td>0</td>\n",
       "    </tr>\n",
       "    <tr>\n",
       "      <th>1</th>\n",
       "      <td>0.683254</td>\n",
       "      <td>-1.681875</td>\n",
       "      <td>0.533349</td>\n",
       "      <td>-0.326064</td>\n",
       "      <td>-1.455603</td>\n",
       "      <td>0.101832</td>\n",
       "      <td>-0.520590</td>\n",
       "      <td>0.114036</td>\n",
       "      <td>-0.601760</td>\n",
       "      <td>0.444011</td>\n",
       "      <td>...</td>\n",
       "      <td>-0.304605</td>\n",
       "      <td>-0.125547</td>\n",
       "      <td>0.244848</td>\n",
       "      <td>0.069163</td>\n",
       "      <td>-0.460712</td>\n",
       "      <td>-0.017068</td>\n",
       "      <td>0.063542</td>\n",
       "      <td>315.17</td>\n",
       "      <td>0</td>\n",
       "      <td>0</td>\n",
       "    </tr>\n",
       "    <tr>\n",
       "      <th>2</th>\n",
       "      <td>1.067973</td>\n",
       "      <td>-0.656667</td>\n",
       "      <td>1.029738</td>\n",
       "      <td>0.253899</td>\n",
       "      <td>-1.172715</td>\n",
       "      <td>0.073232</td>\n",
       "      <td>-0.745771</td>\n",
       "      <td>0.249803</td>\n",
       "      <td>1.383057</td>\n",
       "      <td>-0.483771</td>\n",
       "      <td>...</td>\n",
       "      <td>-0.426743</td>\n",
       "      <td>0.079539</td>\n",
       "      <td>0.129692</td>\n",
       "      <td>0.002778</td>\n",
       "      <td>0.970498</td>\n",
       "      <td>-0.035056</td>\n",
       "      <td>0.017313</td>\n",
       "      <td>59.98</td>\n",
       "      <td>0</td>\n",
       "      <td>0</td>\n",
       "    </tr>\n",
       "    <tr>\n",
       "      <th>3</th>\n",
       "      <td>0.119513</td>\n",
       "      <td>0.729275</td>\n",
       "      <td>-1.678879</td>\n",
       "      <td>-1.551408</td>\n",
       "      <td>3.128914</td>\n",
       "      <td>3.210632</td>\n",
       "      <td>0.356276</td>\n",
       "      <td>0.920374</td>\n",
       "      <td>-0.160589</td>\n",
       "      <td>-0.801748</td>\n",
       "      <td>...</td>\n",
       "      <td>-0.906171</td>\n",
       "      <td>0.108350</td>\n",
       "      <td>0.593062</td>\n",
       "      <td>-0.424303</td>\n",
       "      <td>0.164201</td>\n",
       "      <td>0.245881</td>\n",
       "      <td>0.071029</td>\n",
       "      <td>0.89</td>\n",
       "      <td>0</td>\n",
       "      <td>0</td>\n",
       "    </tr>\n",
       "    <tr>\n",
       "      <th>4</th>\n",
       "      <td>1.271253</td>\n",
       "      <td>0.275694</td>\n",
       "      <td>0.159568</td>\n",
       "      <td>1.003096</td>\n",
       "      <td>-0.128535</td>\n",
       "      <td>-0.608730</td>\n",
       "      <td>0.088777</td>\n",
       "      <td>-0.145336</td>\n",
       "      <td>0.156047</td>\n",
       "      <td>0.022707</td>\n",
       "      <td>...</td>\n",
       "      <td>0.123503</td>\n",
       "      <td>-0.174528</td>\n",
       "      <td>-0.147535</td>\n",
       "      <td>0.735909</td>\n",
       "      <td>-0.262270</td>\n",
       "      <td>0.015577</td>\n",
       "      <td>0.015955</td>\n",
       "      <td>6.53</td>\n",
       "      <td>0</td>\n",
       "      <td>0</td>\n",
       "    </tr>\n",
       "  </tbody>\n",
       "</table>\n",
       "<p>5 rows × 31 columns</p>\n",
       "</div>"
      ],
      "text/plain": [
       "         V1        V2        V3        V4        V5        V6        V7  \\\n",
       "0  1.725265 -1.337256 -1.012687 -0.361656 -1.431611 -1.098681 -0.842274   \n",
       "1  0.683254 -1.681875  0.533349 -0.326064 -1.455603  0.101832 -0.520590   \n",
       "2  1.067973 -0.656667  1.029738  0.253899 -1.172715  0.073232 -0.745771   \n",
       "3  0.119513  0.729275 -1.678879 -1.551408  3.128914  3.210632  0.356276   \n",
       "4  1.271253  0.275694  0.159568  1.003096 -0.128535 -0.608730  0.088777   \n",
       "\n",
       "         V8        V9       V10  ...       V22       V23       V24       V25  \\\n",
       "0 -0.026594 -0.032409  0.215113  ...  0.793434  0.028887  0.419421 -0.367529   \n",
       "1  0.114036 -0.601760  0.444011  ... -0.304605 -0.125547  0.244848  0.069163   \n",
       "2  0.249803  1.383057 -0.483771  ... -0.426743  0.079539  0.129692  0.002778   \n",
       "3  0.920374 -0.160589 -0.801748  ... -0.906171  0.108350  0.593062 -0.424303   \n",
       "4 -0.145336  0.156047  0.022707  ...  0.123503 -0.174528 -0.147535  0.735909   \n",
       "\n",
       "        V26       V27       V28  Amount  Class  flag_as_fraud  \n",
       "0 -0.155634 -0.015768  0.010790  189.00      0              0  \n",
       "1 -0.460712 -0.017068  0.063542  315.17      0              0  \n",
       "2  0.970498 -0.035056  0.017313   59.98      0              0  \n",
       "3  0.164201  0.245881  0.071029    0.89      0              0  \n",
       "4 -0.262270  0.015577  0.015955    6.53      0              0  \n",
       "\n",
       "[5 rows x 31 columns]"
      ]
     },
     "execution_count": 165,
     "metadata": {},
     "output_type": "execute_result"
    }
   ],
   "source": [
    "df.head()"
   ]
  },
  {
   "cell_type": "code",
   "execution_count": 166,
   "id": "7222042c",
   "metadata": {},
   "outputs": [
    {
     "data": {
      "text/html": [
       "<div>\n",
       "<style scoped>\n",
       "    .dataframe tbody tr th:only-of-type {\n",
       "        vertical-align: middle;\n",
       "    }\n",
       "\n",
       "    .dataframe tbody tr th {\n",
       "        vertical-align: top;\n",
       "    }\n",
       "\n",
       "    .dataframe thead th {\n",
       "        text-align: right;\n",
       "    }\n",
       "</style>\n",
       "<table border=\"1\" class=\"dataframe\">\n",
       "  <thead>\n",
       "    <tr style=\"text-align: right;\">\n",
       "      <th>Flagged Fraud</th>\n",
       "      <th>0</th>\n",
       "      <th>1</th>\n",
       "    </tr>\n",
       "    <tr>\n",
       "      <th>Actual Fraud</th>\n",
       "      <th></th>\n",
       "      <th></th>\n",
       "    </tr>\n",
       "  </thead>\n",
       "  <tbody>\n",
       "    <tr>\n",
       "      <th>0</th>\n",
       "      <td>4984</td>\n",
       "      <td>16</td>\n",
       "    </tr>\n",
       "    <tr>\n",
       "      <th>1</th>\n",
       "      <td>28</td>\n",
       "      <td>22</td>\n",
       "    </tr>\n",
       "  </tbody>\n",
       "</table>\n",
       "</div>"
      ],
      "text/plain": [
       "Flagged Fraud     0   1\n",
       "Actual Fraud           \n",
       "0              4984  16\n",
       "1                28  22"
      ]
     },
     "execution_count": 166,
     "metadata": {},
     "output_type": "execute_result"
    }
   ],
   "source": [
    "pd.crosstab(df.Class,df.flag_as_fraud,rownames=['Actual Fraud'],colnames=['Flagged Fraud'])"
   ]
  },
  {
   "cell_type": "markdown",
   "id": "9e05d710",
   "metadata": {},
   "source": [
    " Let's use the Logistic Regression model"
   ]
  },
  {
   "cell_type": "code",
   "execution_count": 167,
   "id": "735eef18",
   "metadata": {},
   "outputs": [],
   "source": [
    "X_train, X_test, y_train, y_test = train_test_split(X, y, test_size=0.3, random_state=0)"
   ]
  },
  {
   "cell_type": "code",
   "execution_count": 168,
   "id": "469345b8",
   "metadata": {},
   "outputs": [
    {
     "data": {
      "text/plain": [
       "LogisticRegression(solver='liblinear')"
      ]
     },
     "execution_count": 168,
     "metadata": {},
     "output_type": "execute_result"
    }
   ],
   "source": [
    "model = LogisticRegression(solver='liblinear')\n",
    "model.fit(X_train, y_train)"
   ]
  },
  {
   "cell_type": "code",
   "execution_count": 169,
   "id": "57a56b8d",
   "metadata": {},
   "outputs": [],
   "source": [
    "predicted=model.predict(X_test)"
   ]
  },
  {
   "cell_type": "code",
   "execution_count": 170,
   "id": "d5f76bd5",
   "metadata": {},
   "outputs": [
    {
     "name": "stdout",
     "output_type": "stream",
     "text": [
      "Classification report:\n",
      "               precision    recall  f1-score   support\n",
      "\n",
      "           0       1.00      1.00      1.00      1505\n",
      "           1       0.89      0.80      0.84        10\n",
      "\n",
      "    accuracy                           1.00      1515\n",
      "   macro avg       0.94      0.90      0.92      1515\n",
      "weighted avg       1.00      1.00      1.00      1515\n",
      "\n"
     ]
    }
   ],
   "source": [
    "print('Classification report:\\n', classification_report(y_test, predicted))"
   ]
  },
  {
   "cell_type": "code",
   "execution_count": 171,
   "id": "7a850ef6",
   "metadata": {},
   "outputs": [
    {
     "name": "stdout",
     "output_type": "stream",
     "text": [
      "[[1504    1]\n",
      " [   2    8]]\n"
     ]
    }
   ],
   "source": [
    "cnf_mat=confusion_matrix(y_true=y_test,y_pred=predicted)\n",
    "print(cnf_mat)"
   ]
  },
  {
   "cell_type": "markdown",
   "id": "0d2832f1",
   "metadata": {},
   "source": [
    "If we compare it with the results of the threshould methode we can see the difference.\n",
    "The classification methode is more accurate than the threshold method.\n",
    "We miss 1 fraud transaction, in the old method we miss 28.\n",
    "Also, we detect 2 normal transactions as frauds, in the old method 16.\n",
    "So the accuracy is better when we use logistic regression."
   ]
  },
  {
   "cell_type": "markdown",
   "id": "3b273fae",
   "metadata": {},
   "source": [
    "We will combine the Logistic Regression model and the SMOTE resampling method, to see what imporvement that maketo our model.(We will use Pipeline to do such combination.)"
   ]
  },
  {
   "cell_type": "code",
   "execution_count": 172,
   "id": "20eb3a8f",
   "metadata": {},
   "outputs": [],
   "source": [
    "resampling = BorderlineSMOTE()\n",
    "model = LogisticRegression(solver='liblinear')"
   ]
  },
  {
   "cell_type": "code",
   "execution_count": 173,
   "id": "6f8bd91f",
   "metadata": {},
   "outputs": [],
   "source": [
    "pipeline = Pipeline([('SMOTE', resampling), ('Logistic Regression', model)])"
   ]
  },
  {
   "cell_type": "code",
   "execution_count": 174,
   "id": "753ec713",
   "metadata": {},
   "outputs": [],
   "source": [
    "pipeline.fit(X_train, y_train) \n",
    "predicted = pipeline.predict(X_test)"
   ]
  },
  {
   "cell_type": "code",
   "execution_count": 175,
   "id": "fce2ae11",
   "metadata": {},
   "outputs": [
    {
     "name": "stdout",
     "output_type": "stream",
     "text": [
      "Classifcation report:\n",
      "               precision    recall  f1-score   support\n",
      "\n",
      "           0       1.00      1.00      1.00      1505\n",
      "           1       0.71      1.00      0.83        10\n",
      "\n",
      "    accuracy                           1.00      1515\n",
      "   macro avg       0.86      1.00      0.92      1515\n",
      "weighted avg       1.00      1.00      1.00      1515\n",
      "\n"
     ]
    }
   ],
   "source": [
    "print('Classifcation report:\\n', classification_report(y_test, predicted))"
   ]
  },
  {
   "cell_type": "code",
   "execution_count": 176,
   "id": "460cf47b",
   "metadata": {},
   "outputs": [
    {
     "name": "stdout",
     "output_type": "stream",
     "text": [
      "Confusion matrix:\n",
      " [[1501    4]\n",
      " [   0   10]]\n"
     ]
    }
   ],
   "source": [
    "conf_mat = confusion_matrix(y_true=y_test, y_pred=predicted)\n",
    "print('Confusion matrix:\\n', conf_mat)"
   ]
  },
  {
   "cell_type": "markdown",
   "id": "9bf576b1",
   "metadata": {},
   "source": [
    "The SMOTE improves our resutls,we detect all the frauds but we have higher number of false posities"
   ]
  },
  {
   "cell_type": "markdown",
   "id": "3a27315e",
   "metadata": {},
   "source": [
    "Now, let us create our first random forest classifier for our peoblem. It will serve as the baseline model that we are going to improve to optimize the accuracy."
   ]
  },
  {
   "cell_type": "code",
   "execution_count": 177,
   "id": "f36def51",
   "metadata": {},
   "outputs": [],
   "source": [
    "df2=pd.read_csv('data/creditcard_sampledata_2.csv')"
   ]
  },
  {
   "cell_type": "code",
   "execution_count": 178,
   "id": "26c9a65a",
   "metadata": {},
   "outputs": [
    {
     "data": {
      "text/html": [
       "<div>\n",
       "<style scoped>\n",
       "    .dataframe tbody tr th:only-of-type {\n",
       "        vertical-align: middle;\n",
       "    }\n",
       "\n",
       "    .dataframe tbody tr th {\n",
       "        vertical-align: top;\n",
       "    }\n",
       "\n",
       "    .dataframe thead th {\n",
       "        text-align: right;\n",
       "    }\n",
       "</style>\n",
       "<table border=\"1\" class=\"dataframe\">\n",
       "  <thead>\n",
       "    <tr style=\"text-align: right;\">\n",
       "      <th></th>\n",
       "      <th>Unnamed: 0</th>\n",
       "      <th>V1</th>\n",
       "      <th>V2</th>\n",
       "      <th>V3</th>\n",
       "      <th>V4</th>\n",
       "      <th>V5</th>\n",
       "      <th>V6</th>\n",
       "      <th>V7</th>\n",
       "      <th>V8</th>\n",
       "      <th>V9</th>\n",
       "      <th>...</th>\n",
       "      <th>V21</th>\n",
       "      <th>V22</th>\n",
       "      <th>V23</th>\n",
       "      <th>V24</th>\n",
       "      <th>V25</th>\n",
       "      <th>V26</th>\n",
       "      <th>V27</th>\n",
       "      <th>V28</th>\n",
       "      <th>Amount</th>\n",
       "      <th>Class</th>\n",
       "    </tr>\n",
       "  </thead>\n",
       "  <tbody>\n",
       "    <tr>\n",
       "      <th>0</th>\n",
       "      <td>221547</td>\n",
       "      <td>-1.191668</td>\n",
       "      <td>0.428409</td>\n",
       "      <td>1.640028</td>\n",
       "      <td>-1.848859</td>\n",
       "      <td>-0.870903</td>\n",
       "      <td>-0.204849</td>\n",
       "      <td>-0.385675</td>\n",
       "      <td>0.352793</td>\n",
       "      <td>-1.098301</td>\n",
       "      <td>...</td>\n",
       "      <td>0.507173</td>\n",
       "      <td>1.292565</td>\n",
       "      <td>-0.467752</td>\n",
       "      <td>1.244887</td>\n",
       "      <td>0.697707</td>\n",
       "      <td>0.059375</td>\n",
       "      <td>-0.319964</td>\n",
       "      <td>-0.017444</td>\n",
       "      <td>27.44</td>\n",
       "      <td>0</td>\n",
       "    </tr>\n",
       "    <tr>\n",
       "      <th>1</th>\n",
       "      <td>184524</td>\n",
       "      <td>1.966614</td>\n",
       "      <td>-0.450087</td>\n",
       "      <td>-1.228586</td>\n",
       "      <td>0.142873</td>\n",
       "      <td>-0.150627</td>\n",
       "      <td>-0.543590</td>\n",
       "      <td>-0.076217</td>\n",
       "      <td>-0.108390</td>\n",
       "      <td>0.973310</td>\n",
       "      <td>...</td>\n",
       "      <td>0.124055</td>\n",
       "      <td>0.564916</td>\n",
       "      <td>-0.039331</td>\n",
       "      <td>-0.283904</td>\n",
       "      <td>0.186400</td>\n",
       "      <td>0.192932</td>\n",
       "      <td>-0.039155</td>\n",
       "      <td>-0.071314</td>\n",
       "      <td>35.95</td>\n",
       "      <td>0</td>\n",
       "    </tr>\n",
       "    <tr>\n",
       "      <th>2</th>\n",
       "      <td>91201</td>\n",
       "      <td>1.528452</td>\n",
       "      <td>-1.296191</td>\n",
       "      <td>-0.890677</td>\n",
       "      <td>-2.504028</td>\n",
       "      <td>0.803202</td>\n",
       "      <td>3.350793</td>\n",
       "      <td>-1.633016</td>\n",
       "      <td>0.815350</td>\n",
       "      <td>-1.884692</td>\n",
       "      <td>...</td>\n",
       "      <td>-0.412088</td>\n",
       "      <td>-1.017485</td>\n",
       "      <td>0.129566</td>\n",
       "      <td>0.948048</td>\n",
       "      <td>0.287826</td>\n",
       "      <td>-0.396592</td>\n",
       "      <td>0.042997</td>\n",
       "      <td>0.025853</td>\n",
       "      <td>28.40</td>\n",
       "      <td>0</td>\n",
       "    </tr>\n",
       "    <tr>\n",
       "      <th>3</th>\n",
       "      <td>26115</td>\n",
       "      <td>-0.774614</td>\n",
       "      <td>1.100916</td>\n",
       "      <td>0.679080</td>\n",
       "      <td>1.034016</td>\n",
       "      <td>0.168633</td>\n",
       "      <td>0.874582</td>\n",
       "      <td>0.209454</td>\n",
       "      <td>0.770550</td>\n",
       "      <td>-0.558106</td>\n",
       "      <td>...</td>\n",
       "      <td>0.011158</td>\n",
       "      <td>0.146017</td>\n",
       "      <td>-0.130401</td>\n",
       "      <td>-0.848815</td>\n",
       "      <td>0.005698</td>\n",
       "      <td>-0.183295</td>\n",
       "      <td>0.282940</td>\n",
       "      <td>0.123856</td>\n",
       "      <td>43.20</td>\n",
       "      <td>0</td>\n",
       "    </tr>\n",
       "    <tr>\n",
       "      <th>4</th>\n",
       "      <td>201292</td>\n",
       "      <td>-1.075860</td>\n",
       "      <td>1.361160</td>\n",
       "      <td>1.496972</td>\n",
       "      <td>2.242604</td>\n",
       "      <td>1.314751</td>\n",
       "      <td>0.272787</td>\n",
       "      <td>1.005246</td>\n",
       "      <td>0.132932</td>\n",
       "      <td>-1.558317</td>\n",
       "      <td>...</td>\n",
       "      <td>0.254485</td>\n",
       "      <td>0.530692</td>\n",
       "      <td>-0.651119</td>\n",
       "      <td>0.626389</td>\n",
       "      <td>1.040212</td>\n",
       "      <td>0.249501</td>\n",
       "      <td>-0.146745</td>\n",
       "      <td>0.029714</td>\n",
       "      <td>10.59</td>\n",
       "      <td>0</td>\n",
       "    </tr>\n",
       "  </tbody>\n",
       "</table>\n",
       "<p>5 rows × 31 columns</p>\n",
       "</div>"
      ],
      "text/plain": [
       "   Unnamed: 0        V1        V2        V3        V4        V5        V6  \\\n",
       "0      221547 -1.191668  0.428409  1.640028 -1.848859 -0.870903 -0.204849   \n",
       "1      184524  1.966614 -0.450087 -1.228586  0.142873 -0.150627 -0.543590   \n",
       "2       91201  1.528452 -1.296191 -0.890677 -2.504028  0.803202  3.350793   \n",
       "3       26115 -0.774614  1.100916  0.679080  1.034016  0.168633  0.874582   \n",
       "4      201292 -1.075860  1.361160  1.496972  2.242604  1.314751  0.272787   \n",
       "\n",
       "         V7        V8        V9  ...       V21       V22       V23       V24  \\\n",
       "0 -0.385675  0.352793 -1.098301  ...  0.507173  1.292565 -0.467752  1.244887   \n",
       "1 -0.076217 -0.108390  0.973310  ...  0.124055  0.564916 -0.039331 -0.283904   \n",
       "2 -1.633016  0.815350 -1.884692  ... -0.412088 -1.017485  0.129566  0.948048   \n",
       "3  0.209454  0.770550 -0.558106  ...  0.011158  0.146017 -0.130401 -0.848815   \n",
       "4  1.005246  0.132932 -1.558317  ...  0.254485  0.530692 -0.651119  0.626389   \n",
       "\n",
       "        V25       V26       V27       V28  Amount  Class  \n",
       "0  0.697707  0.059375 -0.319964 -0.017444   27.44      0  \n",
       "1  0.186400  0.192932 -0.039155 -0.071314   35.95      0  \n",
       "2  0.287826 -0.396592  0.042997  0.025853   28.40      0  \n",
       "3  0.005698 -0.183295  0.282940  0.123856   43.20      0  \n",
       "4  1.040212  0.249501 -0.146745  0.029714   10.59      0  \n",
       "\n",
       "[5 rows x 31 columns]"
      ]
     },
     "execution_count": 178,
     "metadata": {},
     "output_type": "execute_result"
    }
   ],
   "source": [
    "df2.head()"
   ]
  },
  {
   "cell_type": "code",
   "execution_count": 179,
   "id": "950e9c01",
   "metadata": {},
   "outputs": [
    {
     "name": "stdout",
     "output_type": "stream",
     "text": [
      "X shape: (7300, 28)\n",
      "y shape: (7300,)\n"
     ]
    }
   ],
   "source": [
    "X, y = prep_data(df2)\n",
    "print(f'X shape: {X.shape}\\ny shape: {y.shape}')"
   ]
  },
  {
   "cell_type": "code",
   "execution_count": 180,
   "id": "e4e9f98f",
   "metadata": {},
   "outputs": [
    {
     "data": {
      "text/plain": [
       "array([ 4.28408570e-01,  1.64002800e+00, -1.84885886e+00, -8.70902974e-01,\n",
       "       -2.04848888e-01, -3.85675453e-01,  3.52792552e-01, -1.09830131e+00,\n",
       "       -3.34596757e-01, -6.79088729e-01, -3.96709268e-02,  1.37266082e+00,\n",
       "       -7.32000706e-01, -3.44528134e-01,  1.02475103e+00,  3.80208554e-01,\n",
       "       -1.08734881e+00,  3.64507163e-01,  5.19236276e-02,  5.07173439e-01,\n",
       "        1.29256539e+00, -4.67752261e-01,  1.24488683e+00,  6.97706854e-01,\n",
       "        5.93750372e-02, -3.19964326e-01, -1.74444289e-02,  2.74400000e+01])"
      ]
     },
     "execution_count": 180,
     "metadata": {},
     "output_type": "execute_result"
    }
   ],
   "source": [
    "X[0,:]"
   ]
  },
  {
   "cell_type": "code",
   "execution_count": 181,
   "id": "2749ed67",
   "metadata": {},
   "outputs": [
    {
     "data": {
      "text/plain": [
       "0    7000\n",
       "1     300\n",
       "Name: Class, dtype: int64"
      ]
     },
     "execution_count": 181,
     "metadata": {},
     "output_type": "execute_result"
    }
   ],
   "source": [
    "df2.Class.value_counts()"
   ]
  },
  {
   "cell_type": "code",
   "execution_count": 182,
   "id": "deb21d28",
   "metadata": {},
   "outputs": [
    {
     "name": "stdout",
     "output_type": "stream",
     "text": [
      "7300\n"
     ]
    }
   ],
   "source": [
    "total_obs=len(y)\n",
    "print(total_obs)"
   ]
  },
  {
   "cell_type": "code",
   "execution_count": 183,
   "id": "583577e1",
   "metadata": {},
   "outputs": [
    {
     "name": "stdout",
     "output_type": "stream",
     "text": [
      "7000\n"
     ]
    }
   ],
   "source": [
    "non_fraud=[i for i in y if i==0]\n",
    "nub_non_fraud=non_fraud.count(0)\n",
    "print(nub_non_fraud)"
   ]
  },
  {
   "cell_type": "code",
   "execution_count": 184,
   "id": "6ebc12fa",
   "metadata": {},
   "outputs": [
    {
     "name": "stdout",
     "output_type": "stream",
     "text": [
      "95.89%\n"
     ]
    }
   ],
   "source": [
    "percentage=(nub_non_fraud/total_obs )*100\n",
    "print(f'{percentage:0.2f}%')"
   ]
  },
  {
   "cell_type": "markdown",
   "id": "3a023fdc",
   "metadata": {},
   "source": [
    "By doing nothing we have a 95.89% of accuracy. Lets see how can we improve that using random forest."
   ]
  },
  {
   "cell_type": "code",
   "execution_count": 185,
   "id": "5832c921",
   "metadata": {},
   "outputs": [],
   "source": [
    "X_train, X_test,y_train,y_test=train_test_split(X,y,test_size=0.3,random_state=0)"
   ]
  },
  {
   "cell_type": "code",
   "execution_count": 186,
   "id": "d30eb4ce",
   "metadata": {},
   "outputs": [
    {
     "name": "stdout",
     "output_type": "stream",
     "text": [
      "(5110, 28)\n"
     ]
    },
    {
     "data": {
      "text/plain": [
       "(2190, 28)"
      ]
     },
     "execution_count": 186,
     "metadata": {},
     "output_type": "execute_result"
    }
   ],
   "source": [
    "print(X_train.shape)\n",
    "X_test.shape"
   ]
  },
  {
   "cell_type": "code",
   "execution_count": 187,
   "id": "be5fca52",
   "metadata": {},
   "outputs": [],
   "source": [
    "model=RandomForestClassifier(random_state=5,n_estimators=20)"
   ]
  },
  {
   "cell_type": "code",
   "execution_count": 188,
   "id": "e0da8084",
   "metadata": {},
   "outputs": [
    {
     "data": {
      "text/plain": [
       "RandomForestClassifier(n_estimators=20, random_state=5)"
      ]
     },
     "execution_count": 188,
     "metadata": {},
     "output_type": "execute_result"
    }
   ],
   "source": [
    "model.fit(X_train,y_train)"
   ]
  },
  {
   "cell_type": "code",
   "execution_count": 189,
   "id": "5f591d69",
   "metadata": {},
   "outputs": [],
   "source": [
    "predicted=model.predict(X_test)"
   ]
  },
  {
   "cell_type": "code",
   "execution_count": 190,
   "id": "70cb7dd7",
   "metadata": {},
   "outputs": [
    {
     "data": {
      "text/plain": [
       "(2190,)"
      ]
     },
     "execution_count": 190,
     "metadata": {},
     "output_type": "execute_result"
    }
   ],
   "source": [
    "predicted.shape"
   ]
  },
  {
   "cell_type": "code",
   "execution_count": 191,
   "id": "8ede5f6e",
   "metadata": {},
   "outputs": [
    {
     "name": "stdout",
     "output_type": "stream",
     "text": [
      "Accuraccy score :\n",
      "99.09%\n"
     ]
    }
   ],
   "source": [
    "print(f'Accuraccy score :\\n{accuracy_score(y_test,predicted)*100:0.2f}%')"
   ]
  },
  {
   "cell_type": "markdown",
   "id": "7bbfa6de",
   "metadata": {},
   "source": [
    "The benefit of using Random Forest is that it prevents overfitting, because it combines the subtrees of submsamples of features."
   ]
  },
  {
   "cell_type": "markdown",
   "id": "88a2d69b",
   "metadata": {},
   "source": [
    "With such problem(imbaleced data) the accuracy can be a miseleading to evaluate our model.\n",
    "So lets use the classification_report"
   ]
  },
  {
   "cell_type": "code",
   "execution_count": 192,
   "id": "27339118",
   "metadata": {},
   "outputs": [
    {
     "name": "stdout",
     "output_type": "stream",
     "text": [
      "              precision    recall  f1-score   support\n",
      "\n",
      "           0       0.99      1.00      1.00      2099\n",
      "           1       0.97      0.80      0.88        91\n",
      "\n",
      "    accuracy                           0.99      2190\n",
      "   macro avg       0.98      0.90      0.94      2190\n",
      "weighted avg       0.99      0.99      0.99      2190\n",
      "\n"
     ]
    }
   ],
   "source": [
    "print(classification_report(y_test,predicted))"
   ]
  },
  {
   "cell_type": "code",
   "execution_count": 193,
   "id": "1f0d8c1c",
   "metadata": {},
   "outputs": [
    {
     "data": {
      "text/plain": [
       "array([[1., 0.],\n",
       "       [1., 0.],\n",
       "       [1., 0.],\n",
       "       ...,\n",
       "       [1., 0.],\n",
       "       [1., 0.],\n",
       "       [1., 0.]])"
      ]
     },
     "execution_count": 193,
     "metadata": {},
     "output_type": "execute_result"
    }
   ],
   "source": [
    "probs=model.predict_proba(X_test)\n",
    "probs"
   ]
  },
  {
   "cell_type": "code",
   "execution_count": 194,
   "id": "55fecfb8",
   "metadata": {},
   "outputs": [
    {
     "name": "stdout",
     "output_type": "stream",
     "text": [
      "ROC Score :  0.94\n",
      "Confusion Martix: \n",
      "[[2097    2]\n",
      " [  18   73]]\n"
     ]
    }
   ],
   "source": [
    "print(f'ROC Score : {roc_auc_score(y_test, probs[:,1]): 0.2f}')\n",
    "print(f'Confusion Martix: \\n{confusion_matrix(y_test,predicted)}')"
   ]
  },
  {
   "cell_type": "markdown",
   "id": "c8ba7b31",
   "metadata": {},
   "source": [
    "To investigate the trade-off between precision and recall curve. We need a balance between these two in our model.Otherwise we might end up with many false positives, or not enough actual fraud cases caught. "
   ]
  },
  {
   "cell_type": "code",
   "execution_count": 195,
   "id": "e155b890",
   "metadata": {},
   "outputs": [
    {
     "data": {
      "text/plain": [
       "0.7890250388880526"
      ]
     },
     "execution_count": 195,
     "metadata": {},
     "output_type": "execute_result"
    }
   ],
   "source": [
    "average_precision=average_precision_score(y_test,predicted)\n",
    "average_precision"
   ]
  },
  {
   "cell_type": "code",
   "execution_count": 196,
   "id": "1045f5ff",
   "metadata": {},
   "outputs": [
    {
     "name": "stdout",
     "output_type": "stream",
     "text": [
      "precision: [0.04155251 0.97333333 1.        ] \n",
      " recall: [1.        0.8021978 0.       ]\n"
     ]
    }
   ],
   "source": [
    "precision,recall,_=precision_recall_curve(y_test,predicted)\n",
    "print(f'precision: {precision} \\n recall: {recall}')"
   ]
  },
  {
   "cell_type": "code",
   "execution_count": 197,
   "id": "16a6719c",
   "metadata": {},
   "outputs": [],
   "source": [
    "def plot_pr_curve(recall, precision, average_precision):\n",
    "    \"\"\"\n",
    "    https://scikit-learn.org/stable/auto_examples/model_selection/plot_precision_recall.html\n",
    "    \"\"\"\n",
    "    from inspect import signature\n",
    "    plt.figure()\n",
    "    step_kwargs = ({'step': 'post'}\n",
    "                   if 'step' in signature(plt.fill_between).parameters\n",
    "                   else {})\n",
    "\n",
    "    plt.step(recall, precision, color='b', alpha=0.2, where='post')\n",
    "    plt.fill_between(recall, precision, alpha=0.2, color='b', **step_kwargs)\n",
    "\n",
    "    plt.xlabel('Recall')\n",
    "    plt.ylabel('Precision')\n",
    "    plt.ylim([0.0, 1.0])\n",
    "    plt.xlim([0.0, 1.0])\n",
    "    plt.title(f'2-class Precision-Recall curve: AP={average_precision:0.2f}')\n",
    "    return plt.show()"
   ]
  },
  {
   "cell_type": "code",
   "execution_count": 198,
   "id": "18ed7a92",
   "metadata": {},
   "outputs": [
    {
     "data": {
      "image/png": "[encoded data removed]",
      "text/plain": [
       "<Figure size 640x480 with 1 Axes>"
      ]
     },
     "metadata": {},
     "output_type": "display_data"
    }
   ],
   "source": [
    "plot_pr_curve(recall,precision,average_precision)"
   ]
  },
  {
   "cell_type": "markdown",
   "id": "9915b142",
   "metadata": {},
   "source": [
    "To optimaze our Random Forest model we will change Hyperparameter of RandomForestClassifier using GridSearchCV.But first we will use class_weights option when defining the sklearn model."
   ]
  },
  {
   "cell_type": "code",
   "execution_count": 199,
   "id": "c465aa0f",
   "metadata": {},
   "outputs": [],
   "source": [
    "model=RandomForestClassifier(class_weight='balanced_subsample',random_state=5,n_estimators=100)"
   ]
  },
  {
   "cell_type": "code",
   "execution_count": null,
   "id": "9d0337f7",
   "metadata": {},
   "outputs": [],
   "source": [
    "model.fit(X_train,y_train)"
   ]
  },
  {
   "cell_type": "code",
   "execution_count": null,
   "id": "f4c9f99e",
   "metadata": {},
   "outputs": [],
   "source": [
    "predicted=model.predict(X_test)\n",
    "prob=model.predict_proba(X_test)"
   ]
  },
  {
   "cell_type": "code",
   "execution_count": null,
   "id": "b6b3802f",
   "metadata": {},
   "outputs": [],
   "source": [
    "print('ROC Score:')\n",
    "print(roc_auc_score(y_test, probs[:,1]))\n",
    "print('\\nClassification Report:')\n",
    "print(classification_report(y_test, predicted))\n",
    "print('\\nConfusion Matrix:')\n",
    "print(confusion_matrix(y_test, predicted))"
   ]
  },
  {
   "cell_type": "markdown",
   "id": "7963e393",
   "metadata": {},
   "source": [
    "We now have 3 less false positives, but now 19 in stead of 18 false negatives.The model don't improve drastically.\n",
    "Now lets adjust Random forest parameters."
   ]
  },
  {
   "cell_type": "code",
   "execution_count": null,
   "id": "4d5ee7c7",
   "metadata": {},
   "outputs": [],
   "source": [
    "def get_model_results(X_train: np.ndarray, y_train: np.ndarray,\n",
    "                      X_test: np.ndarray, y_test: np.ndarray, model):\n",
    "    # Fit your training model to your training set\n",
    "    model.fit(X_train, y_train)\n",
    "\n",
    "    # Obtain the predicted values and probabilities from the model \n",
    "    predicted = model.predict(X_test)\n",
    "    \n",
    "    try:\n",
    "        probs = model.predict_proba(X_test)\n",
    "        print('ROC Score:')\n",
    "        print(roc_auc_score(y_test, probs[:,1]))\n",
    "    except AttributeError:\n",
    "        pass\n",
    "\n",
    "    # Print the ROC curve, classification report and confusion matrix\n",
    "    print('\\nClassification Report:')\n",
    "    print(classification_report(y_test, predicted))\n",
    "    print('\\nConfusion Matrix:')\n",
    "    print(confusion_matrix(y_test, predicted))"
   ]
  },
  {
   "cell_type": "code",
   "execution_count": null,
   "id": "0d6dafaf",
   "metadata": {},
   "outputs": [],
   "source": [
    "model=RandomForestClassifier(bootstrap=True,class_weight={0:1,1:12},criterion='entropy',max_depth=10,min_samples_leaf=10,n_estimators=20,n_jobs=1,random_state=5)"
   ]
  },
  {
   "cell_type": "code",
   "execution_count": null,
   "id": "a97ae405",
   "metadata": {},
   "outputs": [],
   "source": [
    "get_model_results(X_train,y_train,X_test,y_test,model)"
   ]
  },
  {
   "cell_type": "markdown",
   "id": "dd5c5704",
   "metadata": {},
   "source": [
    "We can see that our model improves.Lets see if we use GridSearchCV."
   ]
  },
  {
   "cell_type": "code",
   "execution_count": null,
   "id": "e45617b3",
   "metadata": {},
   "outputs": [],
   "source": [
    "param_grid = {'n_estimators': [1, 30],\n",
    "              'max_features': ['auto', 'log2'], \n",
    "              'max_depth': [4, 8, 10, 12],\n",
    "              'criterion': ['gini', 'entropy']}"
   ]
  },
  {
   "cell_type": "code",
   "execution_count": null,
   "id": "74933358",
   "metadata": {},
   "outputs": [],
   "source": [
    "model=RandomForestClassifier(random_state=5)"
   ]
  },
  {
   "cell_type": "code",
   "execution_count": null,
   "id": "4a37a713",
   "metadata": {},
   "outputs": [],
   "source": [
    "Cv_model=GridSearchCV(estimator=model,param_grid=param_grid,cv=5,scoring='recall',n_jobs=-1)"
   ]
  },
  {
   "cell_type": "code",
   "execution_count": null,
   "id": "d079e0bd",
   "metadata": {},
   "outputs": [],
   "source": [
    "Cv_model.fit(X_train,y_train)"
   ]
  },
  {
   "cell_type": "code",
   "execution_count": null,
   "id": "4161137a",
   "metadata": {},
   "outputs": [],
   "source": [
    "Cv_model.best_params_"
   ]
  },
  {
   "cell_type": "code",
   "execution_count": null,
   "id": "dd754755",
   "metadata": {},
   "outputs": [],
   "source": [
    "model=RandomForestClassifier(random_state=5,min_samples_leaf=10,class_weight={0:1,1:12},criterion='gini',max_depth=8,max_features='log2',n_estimators=30,n_jobs=-1)"
   ]
  },
  {
   "cell_type": "code",
   "execution_count": null,
   "id": "3a9eec97",
   "metadata": {},
   "outputs": [],
   "source": [
    "get_model_results(X_train,y_train,X_test,y_test,model)"
   ]
  },
  {
   "cell_type": "markdown",
   "id": "8027ddb0",
   "metadata": {},
   "source": [
    "We can see that the model improves even further. Now we are catching more cases of fraud. However, you see that the number of false positives actually went up(Precision-Recall trade-off in action)"
   ]
  },
  {
   "cell_type": "markdown",
   "id": "192a6fcb",
   "metadata": {},
   "source": [
    "Ensemble methods are techniques that create multiple machine learning models and then combine them to produce a final result.\n",
    "We will use Voting Classifier.\n",
    "We will combine three algorithms to our model to improve it."
   ]
  },
  {
   "cell_type": "markdown",
   "id": "ded225fb",
   "metadata": {},
   "source": [
    "We will combine LogisticRegression, our optimal Random Forest and a Decision tree with balanced weights. "
   ]
  },
  {
   "cell_type": "markdown",
   "id": "1d1cde9d",
   "metadata": {},
   "source": [
    "First lets check our first model standalone model Logistic Regression."
   ]
  },
  {
   "cell_type": "code",
   "execution_count": null,
   "id": "8e942018",
   "metadata": {},
   "outputs": [],
   "source": [
    "model=LogisticRegression(class_weight={0:1,1:15},random_state=5,solver='liblinear')\n",
    "get_model_results(X_train,y_train,X_test,y_test,model)"
   ]
  },
  {
   "cell_type": "markdown",
   "id": "e8d32956",
   "metadata": {},
   "source": [
    "More false positives, but also a better Recall. It will therefore will a useful addition to the Random Forest in an ensemble model."
   ]
  },
  {
   "cell_type": "code",
   "execution_count": null,
   "id": "116c0e73",
   "metadata": {},
   "outputs": [],
   "source": [
    "clf1=LogisticRegression(class_weight={0:1,1:15},random_state=5,solver='liblinear')\n",
    "\n",
    "clf2=RandomForestClassifier(bootstrap=True,class_weight={0:1,1:12},criterion='entropy',max_depth=10,min_samples_leaf=10,n_estimators=20,n_jobs=1,random_state=5)\n",
    "\n",
    "clf3=DecisionTreeClassifier(random_state=5,class_weight=\"balanced\")\n",
    "ensemble_model=VotingClassifier(estimators=[('l',clf1),('r',clf2),('d',clf3)],voting='hard')\n",
    "get_model_results(X_train,y_train,X_test,y_test,ensemble_model)"
   ]
  },
  {
   "cell_type": "markdown",
   "id": "ac77455a",
   "metadata": {},
   "source": [
    "We increase the cases of fraud we are catching from 76 to 78, and  only have 5 extra false positives in return. If we do care about catching as many fraud cases as we can, whilst keeping the false positives low, this is a pretty good trade-off. The Logistic Regression as a standalone was quite bad in terms of false positives, and the Random Forest was worse in terms of false negatives. By combining these together we indeed managed to improve performance."
   ]
  },
  {
   "cell_type": "code",
   "execution_count": null,
   "id": "d0a2d443",
   "metadata": {},
   "outputs": [],
   "source": [
    "ensemble_model=VotingClassifier(estimators=[('l',clf1),('r',clf2),('d',clf3)],voting='soft',weights=[1,4,1],flatten_transform=True)\n",
    "get_model_results(X_train,y_train,X_test,y_test,ensemble_model)"
   ]
  },
  {
   "cell_type": "markdown",
   "id": "5b929886",
   "metadata": {},
   "source": [
    "The weight option allows us to play with the individual models to get the best final mix for our fraud detection model. Now that we have finalized fraud detection with supervised learning, let's have a look at how fraud detetion can be done when we don't have any labels to train on."
   ]
  },
  {
   "cell_type": "markdown",
   "id": "0534c96e",
   "metadata": {},
   "source": [
    "Now, we will use unsupervised learning techniques to detect fraud.Such us Segment customers, K-means clustering and other clustering algorithms to find suspicious occurrences in our data."
   ]
  },
  {
   "cell_type": "markdown",
   "id": "df214586",
   "metadata": {},
   "source": [
    "We have a bank payment transaction data lets explore our data to distinguish normal from abnormal."
   ]
  },
  {
   "cell_type": "code",
   "execution_count": null,
   "id": "f319d0e5",
   "metadata": {},
   "outputs": [],
   "source": [
    "banksim_df=pd.read_csv('data/banksim.csv')\n",
    "banksim_df.drop(['Unnamed: 0'],axis=1,inplace=True)\n",
    "banksim_df_adj=pd.read_csv('data/banksim_adj.csv')\n",
    "banksim_df_adj.drop(['Unnamed: 0'],axis=1,inplace=True)"
   ]
  },
  {
   "cell_type": "code",
   "execution_count": null,
   "id": "ce394c4e",
   "metadata": {},
   "outputs": [],
   "source": [
    "banksim_df.head() "
   ]
  },
  {
   "cell_type": "code",
   "execution_count": null,
   "id": "d74d51e1",
   "metadata": {},
   "outputs": [],
   "source": [
    "banksim_df_adj.head()"
   ]
  },
  {
   "cell_type": "code",
   "execution_count": null,
   "id": "5309d560",
   "metadata": {},
   "outputs": [],
   "source": [
    "print(banksim_df.shape)\n",
    "print(banksim_df_adj.shape)"
   ]
  },
  {
   "cell_type": "code",
   "execution_count": null,
   "id": "4eb9c602",
   "metadata": {},
   "outputs": [],
   "source": [
    "banksim_df_cat=banksim_df[['category','amount','fraud']].groupby(['category']).mean()\n",
    "banksim_df_cat"
   ]
  },
  {
   "cell_type": "markdown",
   "id": "bfa74f14",
   "metadata": {},
   "source": [
    "As we can see the majority of leisure, travel and sportsandtoys categories are fraud."
   ]
  },
  {
   "cell_type": "code",
   "execution_count": null,
   "id": "642bc334",
   "metadata": {},
   "outputs": [],
   "source": [
    "banksim_df_age=banksim_df.groupby(['age']).mean()\n",
    "banksim_df_age"
   ]
  },
  {
   "cell_type": "code",
   "execution_count": null,
   "id": "f75f537c",
   "metadata": {},
   "outputs": [],
   "source": [
    "banksim_df.age.value_counts()"
   ]
  },
  {
   "cell_type": "markdown",
   "id": "6090a41c",
   "metadata": {},
   "source": [
    "We can conclude anything special."
   ]
  },
  {
   "cell_type": "code",
   "execution_count": null,
   "id": "7893d2b8",
   "metadata": {},
   "outputs": [],
   "source": [
    "df_fraud=banksim_df[banksim_df['fraud']==1]\n",
    "df_no_fraud=banksim_df[banksim_df['fraud']==0]\n",
    "print(f'shape of df_fraud{df_fraud.shape}')\n",
    "print(f'shape of df_no_fraud{df_no_fraud.shape}')"
   ]
  },
  {
   "cell_type": "code",
   "execution_count": null,
   "id": "e19c7aa9",
   "metadata": {},
   "outputs": [],
   "source": [
    "df_fraud.head()"
   ]
  },
  {
   "cell_type": "code",
   "execution_count": null,
   "id": "66f656cb",
   "metadata": {},
   "outputs": [],
   "source": [
    "df_no_fraud.head()"
   ]
  },
  {
   "cell_type": "code",
   "execution_count": null,
   "id": "24da3bda",
   "metadata": {},
   "outputs": [],
   "source": [
    "plt.hist(df_fraud.amount,alpha=0.5,label='fraud')\n",
    "plt.hist(df_no_fraud.amount,alpha=0.5,label='nofrausd')\n",
    "plt.xlabel('amount')\n",
    "plt.legend()\n",
    "plt.show()"
   ]
  },
  {
   "cell_type": "markdown",
   "id": "f634d082",
   "metadata": {},
   "source": [
    "We can see that the fraud transactions are more when we have a big amount.This is a good news, as it will help us later in detecting fraud from non fraud transactions."
   ]
  },
  {
   "cell_type": "markdown",
   "id": "16492257",
   "metadata": {},
   "source": [
    "For ML algorithms using distance based metrics, it is crucial to always scale your data, as features using different scales will distort your results. K-means uses the Euclidean distance to assess distance to cluster centroids, therefore we first need to scale our data before continuing to implement the algorithm. Let's do that first."
   ]
  },
  {
   "cell_type": "code",
   "execution_count": null,
   "id": "5ca7feac",
   "metadata": {},
   "outputs": [],
   "source": [
    "labels=banksim_df_adj.fraud\n",
    "banksim_df_adj.head()"
   ]
  },
  {
   "cell_type": "code",
   "execution_count": null,
   "id": "020e04e6",
   "metadata": {},
   "outputs": [],
   "source": [
    "cols = ['age', 'amount', 'M', 'es_barsandrestaurants', 'es_contents',\n",
    "        'es_fashion', 'es_food', 'es_health', 'es_home', 'es_hotelservices',\n",
    "        'es_hyper', 'es_leisure', 'es_otherservices', 'es_sportsandtoys',\n",
    "        'es_tech', 'es_transportation', 'es_travel']"
   ]
  },
  {
   "cell_type": "code",
   "execution_count": null,
   "id": "08d886dd",
   "metadata": {},
   "outputs": [],
   "source": [
    "X=banksim_df_adj[cols].values.astype(np.float)\n",
    "X.shape"
   ]
  },
  {
   "cell_type": "code",
   "execution_count": null,
   "id": "208a3d2b",
   "metadata": {},
   "outputs": [],
   "source": [
    "X.mean()"
   ]
  },
  {
   "cell_type": "code",
   "execution_count": null,
   "id": "7cf0abf0",
   "metadata": {},
   "outputs": [],
   "source": [
    "plt.hist(X,bins=20)"
   ]
  },
  {
   "cell_type": "code",
   "execution_count": null,
   "id": "da6f332b",
   "metadata": {},
   "outputs": [],
   "source": [
    "scaler=MinMaxScaler()\n",
    "X_scaled=scaler.fit_transform(X)\n",
    "X_scaled.mean()"
   ]
  },
  {
   "cell_type": "code",
   "execution_count": null,
   "id": "59fbc764",
   "metadata": {},
   "outputs": [],
   "source": [
    "plt.hist(X_scaled)"
   ]
  },
  {
   "cell_type": "markdown",
   "id": "662f4fea",
   "metadata": {},
   "source": [
    "We can see the difference between the two distibution."
   ]
  },
  {
   "cell_type": "markdown",
   "id": "d41d0f72",
   "metadata": {},
   "source": [
    "We will use the MiniBatch K-means, because we have a large dataset."
   ]
  },
  {
   "cell_type": "code",
   "execution_count": null,
   "id": "fd09b778",
   "metadata": {},
   "outputs": [],
   "source": [
    "kmeans=MiniBatchKMeans(n_clusters=8,random_state=0)\n",
    "kmeans.fit(X_scaled)"
   ]
  },
  {
   "cell_type": "markdown",
   "id": "e54a0ded",
   "metadata": {},
   "source": [
    "And now  We will use Elbow method to find what the optimal number of clusters should be based on this method.To optimize our model."
   ]
  },
  {
   "cell_type": "code",
   "execution_count": null,
   "id": "45a9562f",
   "metadata": {},
   "outputs": [],
   "source": [
    "n=range(1,10)\n",
    "kmeans=[MiniBatchKMeans(n_clusters=i) for i in n]\n",
    "score=[kmeans[i].fit(X_scaled).score(X_scaled) for i in range(len(kmeans))]"
   ]
  },
  {
   "cell_type": "code",
   "execution_count": null,
   "id": "72001f48",
   "metadata": {},
   "outputs": [],
   "source": [
    "plt.plot(n,score)\n",
    "plt.xlabel('number of clusters')\n",
    "plt.ylabel('score')\n",
    "plt.title('Elbow method')\n",
    "plt.show()"
   ]
  },
  {
   "cell_type": "markdown",
   "id": "29d78b03",
   "metadata": {},
   "source": [
    "The optimal number of clusters should probably be at around 3 clusters, as that is where the elbow is in the curve."
   ]
  },
  {
   "cell_type": "code",
   "execution_count": null,
   "id": "3bc99b12",
   "metadata": {},
   "outputs": [],
   "source": [
    "# Split the data into training and test set\n",
    "X_train, X_test, y_train, y_test = train_test_split(X_scaled, labels, test_size=0.3, random_state=0)\n",
    "\n",
    "# Define K-means model \n",
    "kmeans = MiniBatchKMeans(n_clusters=3, random_state=42).fit(X_train)\n",
    "\n",
    "# Obtain predictions and calculate distance from cluster centroid\n",
    "X_test_clusters = kmeans.predict(X_test)\n",
    "X_test_clusters_centers = kmeans.cluster_centers_\n",
    "dist = [np.linalg.norm(x-y) for x, y in zip(X_test, X_test_clusters_centers[X_test_clusters])]\n",
    "\n",
    "# Create fraud predictions based on outliers on clusters \n",
    "km_y_pred = np.array(dist)\n",
    "km_y_pred[dist >= np.percentile(dist, 95)] = 1\n",
    "km_y_pred[dist < np.percentile(dist, 95)] = 0"
   ]
  },
  {
   "cell_type": "code",
   "execution_count": null,
   "id": "044b4937",
   "metadata": {},
   "outputs": [],
   "source": [
    "def plot_confusion_matrix(cm, classes=['Not Fraud', 'Fraud'],\n",
    "                          normalize=False,\n",
    "                          title='Fraud Confusion matrix',\n",
    "                          cmap=plt.cm.Blues):\n",
    "    \"\"\"\n",
    "    This function prints and plots the confusion matrix.\n",
    "    Normalization can be applied by setting `normalize=True`.\n",
    "    From:\n",
    "        http://scikit-learn.org/stable/auto_examples/model_selection/plot_confusion_matrix.html#sphx-glr-auto-\n",
    "        examples-model-selection-plot-confusion-matrix-py\n",
    "    \"\"\"\n",
    "    if normalize:\n",
    "        cm = cm.astype('float') / cm.sum(axis=1)[:, np.newaxis]\n",
    "        print(\"Normalized confusion matrix\")\n",
    "    else:\n",
    "        print('Confusion matrix, without normalization')\n",
    "\n",
    "    # print(cm)\n",
    "\n",
    "    plt.imshow(cm, interpolation='nearest', cmap=cmap)\n",
    "    plt.title(title)\n",
    "    plt.colorbar()\n",
    "    tick_marks = np.arange(len(classes))\n",
    "    plt.xticks(tick_marks, classes, rotation=45)\n",
    "    plt.yticks(tick_marks, classes)\n",
    "\n",
    "    fmt = '.2f' if normalize else 'd'\n",
    "    thresh = cm.max() / 2.\n",
    "    for i, j in product(range(cm.shape[0]), range(cm.shape[1])):\n",
    "        plt.text(j, i, format(cm[i, j], fmt),\n",
    "                 horizontalalignment=\"center\",\n",
    "                 color=\"white\" if cm[i, j] > thresh else \"black\")\n",
    "\n",
    "    plt.tight_layout()\n",
    "    plt.ylabel('True label')\n",
    "    plt.xlabel('Predicted label')\n",
    "    plt.show()"
   ]
  },
  {
   "cell_type": "code",
   "execution_count": null,
   "id": "4b3133de",
   "metadata": {},
   "outputs": [],
   "source": [
    "roc_auc_score(y_test, km_y_pred)"
   ]
  },
  {
   "cell_type": "code",
   "execution_count": null,
   "id": "37d9f5df",
   "metadata": {},
   "outputs": [],
   "source": [
    "km_cm = confusion_matrix(y_test, km_y_pred)\n",
    "plot_confusion_matrix(km_cm) "
   ]
  },
  {
   "cell_type": "markdown",
   "id": "bebba904",
   "metadata": {},
   "source": [
    "We can see that the number of fraud cases caught increases, but false positives also increase."
   ]
  },
  {
   "cell_type": "markdown",
   "id": "09631454",
   "metadata": {},
   "source": [
    "Now we will use DbSCAN "
   ]
  },
  {
   "cell_type": "code",
   "execution_count": null,
   "id": "f60de89c",
   "metadata": {},
   "outputs": [],
   "source": [
    "# Initialize and fit the DBscan model\n",
    "db = DBSCAN(eps=0.9, min_samples=10, n_jobs=-1).fit(X_scaled)\n",
    "\n",
    "# Obtain the predicted labels and calculate number of clusters\n",
    "pred_labels = db.labels_\n",
    "n_clusters = len(set(pred_labels)) - (1 if -1 in labels else 0)"
   ]
  },
  {
   "cell_type": "code",
   "execution_count": null,
   "id": "93489ab6",
   "metadata": {},
   "outputs": [],
   "source": [
    "# Print performance metrics for DBscan\n",
    "print(f'Estimated number of clusters: {n_clusters}')\n",
    "print(f'Homogeneity: {homogeneity_score(labels, pred_labels):0.3f}')\n",
    "print(f'Silhouette Coefficient: {silhouette_score(X_scaled, pred_labels):0.3f}')"
   ]
  },
  {
   "cell_type": "markdown",
   "id": "e0aeb144",
   "metadata": {},
   "source": [
    "The number of clusters is much higher than with K-means. For fraud detection this is for now OK, as we are only interested in the smallest clusters, since those are considered as abnormal. Now have a look at those clusters and decide which one to flag as fraud."
   ]
  },
  {
   "cell_type": "markdown",
   "id": "bb55b8f6",
   "metadata": {},
   "source": [
    "Lets take a look at those clusters and flag certain of them as fraud"
   ]
  },
  {
   "cell_type": "code",
   "execution_count": null,
   "id": "66df0da0",
   "metadata": {},
   "outputs": [],
   "source": [
    "counts = np.bincount(pred_labels[pred_labels >= 0])\n",
    "print(counts)"
   ]
  },
  {
   "cell_type": "code",
   "execution_count": null,
   "id": "5a798541",
   "metadata": {},
   "outputs": [],
   "source": [
    "smallest_clusters = np.argsort(counts)[:3]\n",
    "print(smallest_clusters)"
   ]
  },
  {
   "cell_type": "code",
   "execution_count": null,
   "id": "9213823a",
   "metadata": {},
   "outputs": [],
   "source": [
    "#Smallest clusters that we will flag as fraud\n",
    "print(counts[smallest_clusters])"
   ]
  },
  {
   "cell_type": "code",
   "execution_count": null,
   "id": "9804cda7",
   "metadata": {},
   "outputs": [],
   "source": [
    "df = pd.DataFrame({'clusternr':pred_labels,'fraud':labels})\n",
    "df['predicted_fraud'] = np.where((df['clusternr'].isin([21, 17, 9])), 1 , 0)"
   ]
  },
  {
   "cell_type": "code",
   "execution_count": null,
   "id": "54be432c",
   "metadata": {},
   "outputs": [],
   "source": [
    "print(pd.crosstab(df['fraud'], df['predicted_fraud'], rownames=['Actual Fraud'], colnames=['Flagged Fraud']))"
   ]
  },
  {
   "cell_type": "markdown",
   "id": "7eb3ab7d",
   "metadata": {},
   "source": [
    " Wa are missing quite a lot of fraud cases. Increasing the amount of smallest clusters our flag could improve that, at the cost of more false positives"
   ]
  },
  {
   "cell_type": "markdown",
   "id": "c029cc6f",
   "metadata": {},
   "source": [
    "The next step is to use text data, text mining and topic modeling to detect fraudulent behavior."
   ]
  },
  {
   "cell_type": "markdown",
   "id": "d6bf596d",
   "metadata": {},
   "source": [
    "Now we are gonaa work with text data containing emails from enrom employees. The enrom scandal is  a famous fraud case. The goal is to find all emails that mention specific words such as \"sell enron stock\"."
   ]
  },
  {
   "cell_type": "code",
   "execution_count": null,
   "id": "6a22b2ac",
   "metadata": {},
   "outputs": [],
   "source": [
    "df=pd.read_csv('data/enron_emails_clean.csv')\n",
    "df.head()"
   ]
  },
  {
   "cell_type": "code",
   "execution_count": null,
   "id": "df0e80d3",
   "metadata": {},
   "outputs": [],
   "source": [
    "mask=df['clean_content'].str.contains('sell enron stock', na =False)"
   ]
  },
  {
   "cell_type": "code",
   "execution_count": null,
   "id": "8664db8a",
   "metadata": {},
   "outputs": [],
   "source": [
    "df[mask]"
   ]
  },
  {
   "cell_type": "markdown",
   "id": "a455d48c",
   "metadata": {},
   "source": [
    "We can see that we can add text data as as a feature to detect fraud transactions.\n",
    "Lets see how we can how to filter data using multiple terms searching."
   ]
  },
  {
   "cell_type": "code",
   "execution_count": null,
   "id": "47557cd1",
   "metadata": {},
   "outputs": [],
   "source": [
    "#create a list of terms to search for\n",
    "searchfor=['enron stock', 'sell stock' , 'stock bonus', 'sell enron stock']\n",
    "\n",
    "filtred_emails=df[df.clean_content.str.contains('|'.join(searchfor), na=False)]"
   ]
  },
  {
   "cell_type": "code",
   "execution_count": null,
   "id": "40d7d22e",
   "metadata": {},
   "outputs": [],
   "source": [
    "print(filtred_emails.shape)\n",
    "filtred_emails.head()"
   ]
  },
  {
   "cell_type": "markdown",
   "id": "00328267",
   "metadata": {},
   "source": [
    "Let's create a flag that we will use as a feature in out machone learning model.(the variable gives us 1 when when the email get a hit on the search terms of interest, otherwise it's 0)"
   ]
  },
  {
   "cell_type": "code",
   "execution_count": null,
   "id": "fc24bbd3",
   "metadata": {},
   "outputs": [],
   "source": [
    "df['flag']=np.where((df.clean_content.str.contains('|'.join(searchfor))==True),1,0)\n",
    "print(df['flag'].value_counts())"
   ]
  },
  {
   "cell_type": "markdown",
   "id": "fd7f102a",
   "metadata": {},
   "source": [
    "Let's clean our data"
   ]
  },
  {
   "cell_type": "code",
   "execution_count": null,
   "id": "ed863149",
   "metadata": {},
   "outputs": [],
   "source": [
    "# Define stopwords to exclude\n",
    "stop = set(stopwords.words('english'))\n",
    "stop.update((\"to\", \"cc\", \"subject\", \"http\", \"from\", \"sent\", \"ect\", \"u\", \"fwd\", \"www\", \"com\", 'html'))\n",
    "\n",
    "# Define punctuations to exclude and lemmatizer\n",
    "exclude = set(string.punctuation)"
   ]
  },
  {
   "cell_type": "code",
   "execution_count": null,
   "id": "eae6a69e",
   "metadata": {},
   "outputs": [],
   "source": [
    "# Import the lemmatizer from nltk\n",
    "lemma = WordNetLemmatizer()\n",
    "\n",
    "def clean(text, stop):\n",
    "    text = str(text).rstrip()\n",
    "    stop_free = \" \".join([i for i in text.lower().split() if((i not in stop) and (not i.isdigit()))])\n",
    "    punc_free = ''.join(i for i in stop_free if i not in exclude)\n",
    "    normalized = \" \".join(lemma.lemmatize(i) for i in punc_free.split())      \n",
    "    return normalized"
   ]
  },
  {
   "cell_type": "code",
   "execution_count": null,
   "id": "4b9b0f53",
   "metadata": {},
   "outputs": [],
   "source": [
    "# Clean the emails in df and print results\n",
    "text_clean=[]\n",
    "for text in df['clean_content']:\n",
    "    text_clean.append(clean(text, stop).split())   "
   ]
  },
  {
   "cell_type": "code",
   "execution_count": null,
   "id": "50befb42",
   "metadata": {},
   "outputs": [],
   "source": []
  },
  {
   "cell_type": "code",
   "execution_count": null,
   "id": "e8c1da83",
   "metadata": {},
   "outputs": [],
   "source": []
  },
  {
   "cell_type": "code",
   "execution_count": null,
   "id": "f32f1aeb",
   "metadata": {},
   "outputs": [],
   "source": []
  },
  {
   "cell_type": "code",
   "execution_count": null,
   "id": "43bc3857",
   "metadata": {},
   "outputs": [],
   "source": []
  },
  {
   "cell_type": "code",
   "execution_count": null,
   "id": "9fcd5cc0",
   "metadata": {},
   "outputs": [],
   "source": []
  },
  {
   "cell_type": "code",
   "execution_count": null,
   "id": "4dc30e5c",
   "metadata": {},
   "outputs": [],
   "source": []
  },
  {
   "cell_type": "code",
   "execution_count": null,
   "id": "0aae4087",
   "metadata": {},
   "outputs": [],
   "source": []
  },
  {
   "cell_type": "code",
   "execution_count": null,
   "id": "eb822606",
   "metadata": {},
   "outputs": [],
   "source": []
  },
  {
   "cell_type": "code",
   "execution_count": null,
   "id": "4c061d1f",
   "metadata": {},
   "outputs": [],
   "source": []
  },
  {
   "cell_type": "code",
   "execution_count": null,
   "id": "60e5c0ad",
   "metadata": {},
   "outputs": [],
   "source": []
  },
  {
   "cell_type": "code",
   "execution_count": null,
   "id": "35c78752",
   "metadata": {},
   "outputs": [],
   "source": []
  },
  {
   "cell_type": "code",
   "execution_count": null,
   "id": "bccf838a",
   "metadata": {},
   "outputs": [],
   "source": []
  },
  {
   "cell_type": "code",
   "execution_count": null,
   "id": "3883969e",
   "metadata": {},
   "outputs": [],
   "source": []
  },
  {
   "cell_type": "code",
   "execution_count": null,
   "id": "7df5b0f4",
   "metadata": {},
   "outputs": [],
   "source": []
  },
  {
   "cell_type": "code",
   "execution_count": null,
   "id": "49b3ebc1",
   "metadata": {},
   "outputs": [],
   "source": []
  },
  {
   "cell_type": "code",
   "execution_count": null,
   "id": "1b28a290",
   "metadata": {},
   "outputs": [],
   "source": []
  },
  {
   "cell_type": "code",
   "execution_count": null,
   "id": "3ca71750",
   "metadata": {},
   "outputs": [],
   "source": []
  },
  {
   "cell_type": "code",
   "execution_count": null,
   "id": "f06cf558",
   "metadata": {},
   "outputs": [],
   "source": []
  },
  {
   "cell_type": "code",
   "execution_count": null,
   "id": "d5117ac2",
   "metadata": {},
   "outputs": [],
   "source": []
  },
  {
   "cell_type": "code",
   "execution_count": null,
   "id": "2fa945aa",
   "metadata": {},
   "outputs": [],
   "source": []
  },
  {
   "cell_type": "code",
   "execution_count": null,
   "id": "772cff52",
   "metadata": {},
   "outputs": [],
   "source": []
  },
  {
   "cell_type": "code",
   "execution_count": null,
   "id": "6a1bb373",
   "metadata": {},
   "outputs": [],
   "source": []
  },
  {
   "cell_type": "code",
   "execution_count": null,
   "id": "8fd32565",
   "metadata": {},
   "outputs": [],
   "source": []
  },
  {
   "cell_type": "code",
   "execution_count": null,
   "id": "ade3ddf4",
   "metadata": {},
   "outputs": [],
   "source": []
  },
  {
   "cell_type": "code",
   "execution_count": null,
   "id": "3180fd29",
   "metadata": {},
   "outputs": [],
   "source": []
  },
  {
   "cell_type": "code",
   "execution_count": null,
   "id": "7a692728",
   "metadata": {},
   "outputs": [],
   "source": []
  },
  {
   "cell_type": "code",
   "execution_count": null,
   "id": "86f44713",
   "metadata": {},
   "outputs": [],
   "source": []
  },
  {
   "cell_type": "code",
   "execution_count": null,
   "id": "6095b67f",
   "metadata": {},
   "outputs": [],
   "source": []
  },
  {
   "cell_type": "code",
   "execution_count": null,
   "id": "906605b4",
   "metadata": {},
   "outputs": [],
   "source": []
  },
  {
   "cell_type": "code",
   "execution_count": null,
   "id": "5fbda05c",
   "metadata": {},
   "outputs": [],
   "source": []
  },
  {
   "cell_type": "code",
   "execution_count": null,
   "id": "65893bbb",
   "metadata": {},
   "outputs": [],
   "source": []
  },
  {
   "cell_type": "code",
   "execution_count": null,
   "id": "d92fbeff",
   "metadata": {},
   "outputs": [],
   "source": []
  },
  {
   "cell_type": "code",
   "execution_count": null,
   "id": "5fee6fcc",
   "metadata": {},
   "outputs": [],
   "source": []
  },
  {
   "cell_type": "code",
   "execution_count": null,
   "id": "7a0e1af7",
   "metadata": {},
   "outputs": [],
   "source": []
  },
  {
   "cell_type": "code",
   "execution_count": null,
   "id": "e9e1280c",
   "metadata": {},
   "outputs": [],
   "source": []
  },
  {
   "cell_type": "code",
   "execution_count": null,
   "id": "682b90fb",
   "metadata": {},
   "outputs": [],
   "source": []
  },
  {
   "cell_type": "code",
   "execution_count": null,
   "id": "64997de4",
   "metadata": {},
   "outputs": [],
   "source": []
  },
  {
   "cell_type": "code",
   "execution_count": null,
   "id": "5dfc0262",
   "metadata": {},
   "outputs": [],
   "source": []
  },
  {
   "cell_type": "code",
   "execution_count": null,
   "id": "65c66e29",
   "metadata": {},
   "outputs": [],
   "source": []
  },
  {
   "cell_type": "code",
   "execution_count": null,
   "id": "85bb947d",
   "metadata": {},
   "outputs": [],
   "source": []
  },
  {
   "cell_type": "code",
   "execution_count": null,
   "id": "2469c33a",
   "metadata": {},
   "outputs": [],
   "source": []
  },
  {
   "cell_type": "code",
   "execution_count": null,
   "id": "642f2d56",
   "metadata": {},
   "outputs": [],
   "source": []
  },
  {
   "cell_type": "code",
   "execution_count": null,
   "id": "2257ac53",
   "metadata": {},
   "outputs": [],
   "source": []
  },
  {
   "cell_type": "code",
   "execution_count": null,
   "id": "07f67a3b",
   "metadata": {},
   "outputs": [],
   "source": []
  },
  {
   "cell_type": "code",
   "execution_count": null,
   "id": "44244f3d",
   "metadata": {},
   "outputs": [],
   "source": []
  },
  {
   "cell_type": "code",
   "execution_count": null,
   "id": "73af1ed4",
   "metadata": {},
   "outputs": [],
   "source": []
  },
  {
   "cell_type": "code",
   "execution_count": null,
   "id": "d4a247be",
   "metadata": {},
   "outputs": [],
   "source": []
  },
  {
   "cell_type": "code",
   "execution_count": null,
   "id": "b5843ff1",
   "metadata": {},
   "outputs": [],
   "source": []
  },
  {
   "cell_type": "code",
   "execution_count": null,
   "id": "7b2f3023",
   "metadata": {},
   "outputs": [],
   "source": []
  },
  {
   "cell_type": "code",
   "execution_count": null,
   "id": "2f6a9903",
   "metadata": {},
   "outputs": [],
   "source": []
  },
  {
   "cell_type": "code",
   "execution_count": null,
   "id": "83b4b1c1",
   "metadata": {},
   "outputs": [],
   "source": []
  },
  {
   "cell_type": "code",
   "execution_count": null,
   "id": "8b6c2665",
   "metadata": {},
   "outputs": [],
   "source": []
  },
  {
   "cell_type": "code",
   "execution_count": null,
   "id": "8de0079a",
   "metadata": {},
   "outputs": [],
   "source": []
  },
  {
   "cell_type": "code",
   "execution_count": null,
   "id": "80192176",
   "metadata": {},
   "outputs": [],
   "source": []
  },
  {
   "cell_type": "code",
   "execution_count": null,
   "id": "f51312bf",
   "metadata": {},
   "outputs": [],
   "source": []
  },
  {
   "cell_type": "code",
   "execution_count": null,
   "id": "53581873",
   "metadata": {},
   "outputs": [],
   "source": []
  },
  {
   "cell_type": "code",
   "execution_count": null,
   "id": "855eee5a",
   "metadata": {},
   "outputs": [],
   "source": []
  },
  {
   "cell_type": "code",
   "execution_count": null,
   "id": "a2c8d3f8",
   "metadata": {},
   "outputs": [],
   "source": []
  },
  {
   "cell_type": "code",
   "execution_count": null,
   "id": "684a3013",
   "metadata": {},
   "outputs": [],
   "source": []
  },
  {
   "cell_type": "code",
   "execution_count": null,
   "id": "76c9a3cc",
   "metadata": {},
   "outputs": [],
   "source": []
  },
  {
   "cell_type": "code",
   "execution_count": null,
   "id": "255cbe82",
   "metadata": {},
   "outputs": [],
   "source": []
  },
  {
   "cell_type": "code",
   "execution_count": null,
   "id": "978ec118",
   "metadata": {},
   "outputs": [],
   "source": []
  },
  {
   "cell_type": "code",
   "execution_count": null,
   "id": "7091ce79",
   "metadata": {},
   "outputs": [],
   "source": []
  },
  {
   "cell_type": "code",
   "execution_count": null,
   "id": "12b758c1",
   "metadata": {},
   "outputs": [],
   "source": []
  },
  {
   "cell_type": "code",
   "execution_count": null,
   "id": "b9adcd25",
   "metadata": {},
   "outputs": [],
   "source": []
  },
  {
   "cell_type": "code",
   "execution_count": null,
   "id": "b733aa00",
   "metadata": {},
   "outputs": [],
   "source": []
  },
  {
   "cell_type": "code",
   "execution_count": null,
   "id": "665a1954",
   "metadata": {},
   "outputs": [],
   "source": []
  },
  {
   "cell_type": "code",
   "execution_count": null,
   "id": "5a92d298",
   "metadata": {},
   "outputs": [],
   "source": []
  }
 ],
 "metadata": {
  "kernelspec": {
   "display_name": "Python 3 (ipykernel)",
   "language": "python",
   "name": "python3"
  },
  "language_info": {
   "codemirror_mode": {
    "name": "ipython",
    "version": 3
   },
   "file_extension": ".py",
   "mimetype": "text/x-python",
   "name": "python",
   "nbconvert_exporter": "python",
   "pygments_lexer": "ipython3",
   "version": "3.9.15"
  }
 },
 "nbformat": 4,
 "nbformat_minor": 5
}
