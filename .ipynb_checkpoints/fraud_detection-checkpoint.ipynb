{
 "cells": [
  {
   "cell_type": "code",
   "execution_count": 1,
   "id": "5b9009eb",
   "metadata": {},
   "outputs": [],
   "source": [
    "import warnings \n",
    "warnings.filterwarnings('ignore')\n",
    "warnings.simplefilter('ignore')"
   ]
  },
  {
   "cell_type": "code",
   "execution_count": 89,
   "id": "aa119e10",
   "metadata": {},
   "outputs": [],
   "source": [
    "import pandas as pd \n",
    "import matplotlib.pyplot as plt\n",
    "from matplotlib.patches import Rectangle\n",
    "import numpy as np\n",
    "from pprint import pprint as pp\n",
    "import csv\n",
    "from pathlib import Path\n",
    "import seaborn as sns \n",
    "from itertools import product \n",
    "import string\n",
    "import nltk\n",
    "from nltk.corpus import stopwords\n",
    "from nltk.stem.wordnet import WordNetLemmatizer\n",
    "\n",
    "from imblearn.over_sampling import SMOTE\n",
    "from imblearn.over_sampling import SMOTE\n",
    "from imblearn.over_sampling import BorderlineSMOTE\n",
    "from imblearn.pipeline import Pipeline\n",
    "\n",
    "from sklearn.model_selection import train_test_split, GridSearchCV\n",
    "from sklearn.linear_model import LinearRegression, LogisticRegression\n",
    "from sklearn.metrics import r2_score, classification_report, confusion_matrix, accuracy_score, roc_auc_score, roc_curve, precision_recall_curve, average_precision_score\n",
    "from sklearn.ensemble import RandomForestClassifier, VotingClassifier"
   ]
  },
  {
   "cell_type": "code",
   "execution_count": 3,
   "id": "922750cc",
   "metadata": {},
   "outputs": [],
   "source": [
    "df=pd.read_csv('data/creditcard_sampledata_3.csv')"
   ]
  },
  {
   "cell_type": "code",
   "execution_count": 4,
   "id": "64e1fd61",
   "metadata": {},
   "outputs": [
    {
     "name": "stdout",
     "output_type": "stream",
     "text": [
      "<class 'pandas.core.frame.DataFrame'>\n",
      "RangeIndex: 5050 entries, 0 to 5049\n",
      "Data columns (total 31 columns):\n",
      " #   Column      Non-Null Count  Dtype  \n",
      "---  ------      --------------  -----  \n",
      " 0   Unnamed: 0  5050 non-null   int64  \n",
      " 1   V1          5050 non-null   float64\n",
      " 2   V2          5050 non-null   float64\n",
      " 3   V3          5050 non-null   float64\n",
      " 4   V4          5050 non-null   float64\n",
      " 5   V5          5050 non-null   float64\n",
      " 6   V6          5050 non-null   float64\n",
      " 7   V7          5050 non-null   float64\n",
      " 8   V8          5050 non-null   float64\n",
      " 9   V9          5050 non-null   float64\n",
      " 10  V10         5050 non-null   float64\n",
      " 11  V11         5050 non-null   float64\n",
      " 12  V12         5050 non-null   float64\n",
      " 13  V13         5050 non-null   float64\n",
      " 14  V14         5050 non-null   float64\n",
      " 15  V15         5050 non-null   float64\n",
      " 16  V16         5050 non-null   float64\n",
      " 17  V17         5050 non-null   float64\n",
      " 18  V18         5050 non-null   float64\n",
      " 19  V19         5050 non-null   float64\n",
      " 20  V20         5050 non-null   float64\n",
      " 21  V21         5050 non-null   float64\n",
      " 22  V22         5050 non-null   float64\n",
      " 23  V23         5050 non-null   float64\n",
      " 24  V24         5050 non-null   float64\n",
      " 25  V25         5050 non-null   float64\n",
      " 26  V26         5050 non-null   float64\n",
      " 27  V27         5050 non-null   float64\n",
      " 28  V28         5050 non-null   float64\n",
      " 29  Amount      5050 non-null   float64\n",
      " 30  Class       5050 non-null   int64  \n",
      "dtypes: float64(29), int64(2)\n",
      "memory usage: 1.2 MB\n"
     ]
    }
   ],
   "source": [
    "df.info()"
   ]
  },
  {
   "cell_type": "code",
   "execution_count": 5,
   "id": "4c1e124c",
   "metadata": {},
   "outputs": [
    {
     "data": {
      "text/html": [
       "<div>\n",
       "<style scoped>\n",
       "    .dataframe tbody tr th:only-of-type {\n",
       "        vertical-align: middle;\n",
       "    }\n",
       "\n",
       "    .dataframe tbody tr th {\n",
       "        vertical-align: top;\n",
       "    }\n",
       "\n",
       "    .dataframe thead th {\n",
       "        text-align: right;\n",
       "    }\n",
       "</style>\n",
       "<table border=\"1\" class=\"dataframe\">\n",
       "  <thead>\n",
       "    <tr style=\"text-align: right;\">\n",
       "      <th></th>\n",
       "      <th>Unnamed: 0</th>\n",
       "      <th>V1</th>\n",
       "      <th>V2</th>\n",
       "      <th>V3</th>\n",
       "      <th>V4</th>\n",
       "      <th>V5</th>\n",
       "      <th>V6</th>\n",
       "      <th>V7</th>\n",
       "      <th>V8</th>\n",
       "      <th>V9</th>\n",
       "      <th>...</th>\n",
       "      <th>V21</th>\n",
       "      <th>V22</th>\n",
       "      <th>V23</th>\n",
       "      <th>V24</th>\n",
       "      <th>V25</th>\n",
       "      <th>V26</th>\n",
       "      <th>V27</th>\n",
       "      <th>V28</th>\n",
       "      <th>Amount</th>\n",
       "      <th>Class</th>\n",
       "    </tr>\n",
       "  </thead>\n",
       "  <tbody>\n",
       "    <tr>\n",
       "      <th>0</th>\n",
       "      <td>258647</td>\n",
       "      <td>1.725265</td>\n",
       "      <td>-1.337256</td>\n",
       "      <td>-1.012687</td>\n",
       "      <td>-0.361656</td>\n",
       "      <td>-1.431611</td>\n",
       "      <td>-1.098681</td>\n",
       "      <td>-0.842274</td>\n",
       "      <td>-0.026594</td>\n",
       "      <td>-0.032409</td>\n",
       "      <td>...</td>\n",
       "      <td>0.414524</td>\n",
       "      <td>0.793434</td>\n",
       "      <td>0.028887</td>\n",
       "      <td>0.419421</td>\n",
       "      <td>-0.367529</td>\n",
       "      <td>-0.155634</td>\n",
       "      <td>-0.015768</td>\n",
       "      <td>0.010790</td>\n",
       "      <td>189.00</td>\n",
       "      <td>0</td>\n",
       "    </tr>\n",
       "    <tr>\n",
       "      <th>1</th>\n",
       "      <td>69263</td>\n",
       "      <td>0.683254</td>\n",
       "      <td>-1.681875</td>\n",
       "      <td>0.533349</td>\n",
       "      <td>-0.326064</td>\n",
       "      <td>-1.455603</td>\n",
       "      <td>0.101832</td>\n",
       "      <td>-0.520590</td>\n",
       "      <td>0.114036</td>\n",
       "      <td>-0.601760</td>\n",
       "      <td>...</td>\n",
       "      <td>0.116898</td>\n",
       "      <td>-0.304605</td>\n",
       "      <td>-0.125547</td>\n",
       "      <td>0.244848</td>\n",
       "      <td>0.069163</td>\n",
       "      <td>-0.460712</td>\n",
       "      <td>-0.017068</td>\n",
       "      <td>0.063542</td>\n",
       "      <td>315.17</td>\n",
       "      <td>0</td>\n",
       "    </tr>\n",
       "    <tr>\n",
       "      <th>2</th>\n",
       "      <td>96552</td>\n",
       "      <td>1.067973</td>\n",
       "      <td>-0.656667</td>\n",
       "      <td>1.029738</td>\n",
       "      <td>0.253899</td>\n",
       "      <td>-1.172715</td>\n",
       "      <td>0.073232</td>\n",
       "      <td>-0.745771</td>\n",
       "      <td>0.249803</td>\n",
       "      <td>1.383057</td>\n",
       "      <td>...</td>\n",
       "      <td>-0.189315</td>\n",
       "      <td>-0.426743</td>\n",
       "      <td>0.079539</td>\n",
       "      <td>0.129692</td>\n",
       "      <td>0.002778</td>\n",
       "      <td>0.970498</td>\n",
       "      <td>-0.035056</td>\n",
       "      <td>0.017313</td>\n",
       "      <td>59.98</td>\n",
       "      <td>0</td>\n",
       "    </tr>\n",
       "    <tr>\n",
       "      <th>3</th>\n",
       "      <td>281898</td>\n",
       "      <td>0.119513</td>\n",
       "      <td>0.729275</td>\n",
       "      <td>-1.678879</td>\n",
       "      <td>-1.551408</td>\n",
       "      <td>3.128914</td>\n",
       "      <td>3.210632</td>\n",
       "      <td>0.356276</td>\n",
       "      <td>0.920374</td>\n",
       "      <td>-0.160589</td>\n",
       "      <td>...</td>\n",
       "      <td>-0.335825</td>\n",
       "      <td>-0.906171</td>\n",
       "      <td>0.108350</td>\n",
       "      <td>0.593062</td>\n",
       "      <td>-0.424303</td>\n",
       "      <td>0.164201</td>\n",
       "      <td>0.245881</td>\n",
       "      <td>0.071029</td>\n",
       "      <td>0.89</td>\n",
       "      <td>0</td>\n",
       "    </tr>\n",
       "    <tr>\n",
       "      <th>4</th>\n",
       "      <td>86917</td>\n",
       "      <td>1.271253</td>\n",
       "      <td>0.275694</td>\n",
       "      <td>0.159568</td>\n",
       "      <td>1.003096</td>\n",
       "      <td>-0.128535</td>\n",
       "      <td>-0.608730</td>\n",
       "      <td>0.088777</td>\n",
       "      <td>-0.145336</td>\n",
       "      <td>0.156047</td>\n",
       "      <td>...</td>\n",
       "      <td>0.031958</td>\n",
       "      <td>0.123503</td>\n",
       "      <td>-0.174528</td>\n",
       "      <td>-0.147535</td>\n",
       "      <td>0.735909</td>\n",
       "      <td>-0.262270</td>\n",
       "      <td>0.015577</td>\n",
       "      <td>0.015955</td>\n",
       "      <td>6.53</td>\n",
       "      <td>0</td>\n",
       "    </tr>\n",
       "  </tbody>\n",
       "</table>\n",
       "<p>5 rows × 31 columns</p>\n",
       "</div>"
      ],
      "text/plain": [
       "   Unnamed: 0        V1        V2        V3        V4        V5        V6  \\\n",
       "0      258647  1.725265 -1.337256 -1.012687 -0.361656 -1.431611 -1.098681   \n",
       "1       69263  0.683254 -1.681875  0.533349 -0.326064 -1.455603  0.101832   \n",
       "2       96552  1.067973 -0.656667  1.029738  0.253899 -1.172715  0.073232   \n",
       "3      281898  0.119513  0.729275 -1.678879 -1.551408  3.128914  3.210632   \n",
       "4       86917  1.271253  0.275694  0.159568  1.003096 -0.128535 -0.608730   \n",
       "\n",
       "         V7        V8        V9  ...       V21       V22       V23       V24  \\\n",
       "0 -0.842274 -0.026594 -0.032409  ...  0.414524  0.793434  0.028887  0.419421   \n",
       "1 -0.520590  0.114036 -0.601760  ...  0.116898 -0.304605 -0.125547  0.244848   \n",
       "2 -0.745771  0.249803  1.383057  ... -0.189315 -0.426743  0.079539  0.129692   \n",
       "3  0.356276  0.920374 -0.160589  ... -0.335825 -0.906171  0.108350  0.593062   \n",
       "4  0.088777 -0.145336  0.156047  ...  0.031958  0.123503 -0.174528 -0.147535   \n",
       "\n",
       "        V25       V26       V27       V28  Amount  Class  \n",
       "0 -0.367529 -0.155634 -0.015768  0.010790  189.00      0  \n",
       "1  0.069163 -0.460712 -0.017068  0.063542  315.17      0  \n",
       "2  0.002778  0.970498 -0.035056  0.017313   59.98      0  \n",
       "3 -0.424303  0.164201  0.245881  0.071029    0.89      0  \n",
       "4  0.735909 -0.262270  0.015577  0.015955    6.53      0  \n",
       "\n",
       "[5 rows x 31 columns]"
      ]
     },
     "execution_count": 5,
     "metadata": {},
     "output_type": "execute_result"
    }
   ],
   "source": [
    "df.head()"
   ]
  },
  {
   "cell_type": "code",
   "execution_count": 6,
   "id": "8c8f5399",
   "metadata": {},
   "outputs": [
    {
     "name": "stdout",
     "output_type": "stream",
     "text": [
      "0    5000\n",
      "1      50\n",
      "Name: Class, dtype: int64\n"
     ]
    }
   ],
   "source": [
    "occ=df['Class'].value_counts()\n",
    "print(occ)"
   ]
  },
  {
   "cell_type": "markdown",
   "id": "cb59c2c1",
   "metadata": {},
   "source": [
    "We have a class balance problem we can confire it on calculating the ratio."
   ]
  },
  {
   "cell_type": "code",
   "execution_count": 7,
   "id": "cd9cc7ac",
   "metadata": {},
   "outputs": [
    {
     "name": "stdout",
     "output_type": "stream",
     "text": [
      "Ratio of fraudulent cases: 0.009900990099009901\n",
      "Ratio of non-fraudulent cases: 0.9900990099009901\n"
     ]
    }
   ],
   "source": [
    "ratio_cases = occ/len(df.index)\n",
    "print(f'Ratio of fraudulent cases: {ratio_cases[1]}\\nRatio of non-fraudulent cases: {ratio_cases[0]}')\n",
    "#As we can see the ratio of fraudulent transactions is very low."
   ]
  },
  {
   "cell_type": "code",
   "execution_count": 8,
   "id": "0d8e9867",
   "metadata": {},
   "outputs": [],
   "source": [
    "def prep_data(df: pd.DataFrame) -> (np.ndarray, np.ndarray):\n",
    "    \"\"\"\n",
    "    Convert the DataFrame into two variable\n",
    "    X: data columns (V1 - V28 and amount)\n",
    "    y: label column\n",
    "    \"\"\"\n",
    "    X = df.iloc[:, 2:30].values\n",
    "    y = df.Class.values\n",
    "    return X, y"
   ]
  },
  {
   "cell_type": "code",
   "execution_count": 9,
   "id": "0bfd65a9",
   "metadata": {},
   "outputs": [],
   "source": [
    "def plot_data(X: np.ndarray, y: np.ndarray):\n",
    "    plt.scatter(X[y == 0, 0], X[y == 0, 1], label=\"Class #0\", alpha=0.5, linewidth=0.15,c='b')\n",
    "    plt.scatter(X[y == 1, 0], X[y == 1, 1], label=\"Class #1\", alpha=0.5, linewidth=0.15, c='r')\n",
    "    plt.legend()\n",
    "    return plt.show()"
   ]
  },
  {
   "cell_type": "code",
   "execution_count": 10,
   "id": "bdeca423",
   "metadata": {},
   "outputs": [],
   "source": [
    "X, y = prep_data(df)"
   ]
  },
  {
   "cell_type": "code",
   "execution_count": 11,
   "id": "be3c4136",
   "metadata": {},
   "outputs": [
    {
     "name": "stdout",
     "output_type": "stream",
     "text": [
      "[[-1.33725592e+00 -1.01268723e+00 -3.61656463e-01 ... -1.57676763e-02\n",
      "   1.07902703e-02  1.89000000e+02]\n",
      " [-1.68187486e+00  5.33349336e-01 -3.26064341e-01 ... -1.70682293e-02\n",
      "   6.35420640e-02  3.15170000e+02]\n",
      " [-6.56667445e-01  1.02973756e+00  2.53898951e-01 ... -3.50555792e-02\n",
      "   1.73125091e-02  5.99800000e+01]\n",
      " ...\n",
      " [ 2.77308160e+00 -6.75784507e+00  4.44645597e+00 ... -7.66848112e-01\n",
      "   4.09423944e-01  1.06900000e+02]\n",
      " [ 1.86341354e+00 -2.51513548e+00  5.46368065e+00 ... -2.40929959e-01\n",
      "  -7.81055196e-01  3.24590000e+02]\n",
      " [ 6.86619841e+00 -1.18382692e+01  4.19421097e+00 ...  1.17002652e+00\n",
      "   2.29300915e-01  9.99900000e+01]]\n",
      "[0 0 0 ... 1 1 1]\n"
     ]
    }
   ],
   "source": [
    "print(X)\n",
    "print(y)"
   ]
  },
  {
   "cell_type": "code",
   "execution_count": 12,
   "id": "e1620314",
   "metadata": {},
   "outputs": [
    {
     "data": {
      "image/png": "[encoded data removed]",
      "text/plain": [
       "<Figure size 640x480 with 1 Axes>"
      ]
     },
     "metadata": {},
     "output_type": "display_data"
    }
   ],
   "source": [
    "plot_data(X, y)"
   ]
  },
  {
   "cell_type": "markdown",
   "id": "523a2b8a",
   "metadata": {},
   "source": [
    "As we visualize the data,we can see right away how dispersed our fraud cases are across the data and how few there are overall.\n",
    "How can we improve our fraud to non-fraud balance?(Data Resampling)"
   ]
  },
  {
   "cell_type": "markdown",
   "id": "0ed2ed10",
   "metadata": {},
   "source": [
    "The best resampling method is situational\n",
    "Random Undersampling (RUS):\n",
    "  If there is a lot of data and many minority cases, then undersampling may be computationally more convenient. In most cases, throwing away data is not desirable\n",
    "Random Oversampling (ROS):\n",
    "  Straightforward. Training the model on many duplicates\n",
    "SMOTE:\n",
    "  more sophisticated. Realistic data set. Training on synthetic data. Only works well if the minority case features are similar\n",
    "  if fraud is spread through the data and not distinct, using nearest neighbors to create more fraud cases, introduces noise into the data, as the nearest neighbors might not be fraud cases"
   ]
  },
  {
   "cell_type": "markdown",
   "id": "d1d26045",
   "metadata": {},
   "source": [
    " We are going to re-balance our data using the Synthetic Minority Over-sampling Technique (SMOTE). Unlike ROS, SMOTE does not create exact copies of observations, but creates new, synthetic, samples that are quite similar to the existing observations in the minority class."
   ]
  },
  {
   "cell_type": "code",
   "execution_count": 13,
   "id": "a8f82428",
   "metadata": {},
   "outputs": [
    {
     "name": "stdout",
     "output_type": "stream",
     "text": [
      "X shape: (5050, 28)\n",
      "y shape: (5050,)\n"
     ]
    }
   ],
   "source": [
    "print(f'X shape: {X.shape}\\ny shape: {y.shape}')"
   ]
  },
  {
   "cell_type": "code",
   "execution_count": 14,
   "id": "2752d07d",
   "metadata": {},
   "outputs": [],
   "source": [
    "oversample = SMOTE()"
   ]
  },
  {
   "cell_type": "code",
   "execution_count": 15,
   "id": "758e43bb",
   "metadata": {},
   "outputs": [],
   "source": [
    "X_resampled, y_resampled = oversample.fit_resample(X, y)"
   ]
  },
  {
   "cell_type": "code",
   "execution_count": 16,
   "id": "29a4e0c2",
   "metadata": {},
   "outputs": [
    {
     "name": "stdout",
     "output_type": "stream",
     "text": [
      "X shape: (10000, 28)\n",
      "y shape: (10000,)\n"
     ]
    }
   ],
   "source": [
    "print(f'X shape: {X_resampled.shape}\\ny shape: {y_resampled.shape}')"
   ]
  },
  {
   "cell_type": "code",
   "execution_count": 17,
   "id": "003c16a5",
   "metadata": {},
   "outputs": [
    {
     "data": {
      "image/png": "[encoded data removed]",
      "text/plain": [
       "<Figure size 640x480 with 1 Axes>"
      ]
     },
     "metadata": {},
     "output_type": "display_data"
    }
   ],
   "source": [
    "plot_data(X_resampled, y_resampled)"
   ]
  },
  {
   "cell_type": "code",
   "execution_count": 18,
   "id": "510aebad",
   "metadata": {},
   "outputs": [],
   "source": [
    "def compare_plot(X: np.ndarray, y: np.ndarray, X_resampled: np.ndarray, y_resampled: np.ndarray, method: str):\n",
    "    plt.subplot(1, 2, 1)\n",
    "    plt.scatter(X[y == 0, 0], X[y == 0, 1], label=\"Class #0\", alpha=0.5, linewidth=0.15)\n",
    "    plt.scatter(X[y == 1, 0], X[y == 1, 1], label=\"Class #1\", alpha=0.5, linewidth=0.15, c='r')\n",
    "    plt.title('Original Set')\n",
    "    plt.subplot(1, 2, 2)\n",
    "    plt.scatter(X_resampled[y_resampled == 0, 0], X_resampled[y_resampled == 0, 1], label=\"Class #0\", alpha=0.5, linewidth=0.15)\n",
    "    plt.scatter(X_resampled[y_resampled == 1, 0], X_resampled[y_resampled == 1, 1], label=\"Class #1\", alpha=0.5, linewidth=0.15, c='r')\n",
    "    plt.title(method)\n",
    "    plt.legend()\n",
    "    plt.show()"
   ]
  },
  {
   "cell_type": "code",
   "execution_count": 19,
   "id": "ffa70150",
   "metadata": {},
   "outputs": [
    {
     "data": {
      "image/png": "[encoded data removed]",
      "text/plain": [
       "<Figure size 640x480 with 2 Axes>"
      ]
     },
     "metadata": {},
     "output_type": "display_data"
    }
   ],
   "source": [
    "compare_plot(X, y, X_resampled, y_resampled, method='SMOTE')"
   ]
  },
  {
   "cell_type": "markdown",
   "id": "d3df839c",
   "metadata": {},
   "source": [
    " Visualizing the data shows the effect on the data very clearly. "
   ]
  },
  {
   "cell_type": "markdown",
   "id": "3a7ac052",
   "metadata": {},
   "source": [
    "Split the features and labels into train and test data"
   ]
  },
  {
   "cell_type": "code",
   "execution_count": 20,
   "id": "d1b3dda1",
   "metadata": {},
   "outputs": [],
   "source": [
    "X_train, X_test, y_train, y_test = train_test_split(X_resampled, y_resampled, test_size=0.2)"
   ]
  },
  {
   "cell_type": "code",
   "execution_count": 21,
   "id": "8b0c0480",
   "metadata": {},
   "outputs": [],
   "source": [
    "model = LinearRegression()"
   ]
  },
  {
   "cell_type": "code",
   "execution_count": 22,
   "id": "82692a6f",
   "metadata": {},
   "outputs": [
    {
     "data": {
      "text/plain": [
       "LinearRegression()"
      ]
     },
     "execution_count": 22,
     "metadata": {},
     "output_type": "execute_result"
    }
   ],
   "source": [
    "model.fit(X_train, y_train)"
   ]
  },
  {
   "cell_type": "code",
   "execution_count": 23,
   "id": "56790e14",
   "metadata": {},
   "outputs": [],
   "source": [
    "y_predicted = model.predict(X_test)"
   ]
  },
  {
   "cell_type": "code",
   "execution_count": 24,
   "id": "efd7c330",
   "metadata": {},
   "outputs": [
    {
     "data": {
      "text/plain": [
       "0.8081578023885478"
      ]
     },
     "execution_count": 24,
     "metadata": {},
     "output_type": "execute_result"
    }
   ],
   "source": [
    "r2_score(y_test, y_predicted)"
   ]
  },
  {
   "cell_type": "code",
   "execution_count": 25,
   "id": "6be5c49c",
   "metadata": {},
   "outputs": [],
   "source": [
    "X_train, X_test, y_train, y_test = train_test_split(X, y, test_size=0.2)"
   ]
  },
  {
   "cell_type": "code",
   "execution_count": 26,
   "id": "d50d5ffb",
   "metadata": {},
   "outputs": [],
   "source": [
    "model = LinearRegression()"
   ]
  },
  {
   "cell_type": "code",
   "execution_count": 27,
   "id": "23d676c2",
   "metadata": {},
   "outputs": [
    {
     "data": {
      "text/plain": [
       "LinearRegression()"
      ]
     },
     "execution_count": 27,
     "metadata": {},
     "output_type": "execute_result"
    }
   ],
   "source": [
    "model.fit(X_train, y_train)"
   ]
  },
  {
   "cell_type": "code",
   "execution_count": 28,
   "id": "a62af908",
   "metadata": {},
   "outputs": [],
   "source": [
    "y_predicted = model.predict(X_test)"
   ]
  },
  {
   "cell_type": "code",
   "execution_count": 29,
   "id": "c823ddab",
   "metadata": {},
   "outputs": [
    {
     "data": {
      "text/plain": [
       "0.6447033374359594"
      ]
     },
     "execution_count": 29,
     "metadata": {},
     "output_type": "execute_result"
    }
   ],
   "source": [
    "r2_score(y_test, y_predicted)"
   ]
  },
  {
   "cell_type": "markdown",
   "id": "d73e5432",
   "metadata": {},
   "source": [
    "We are going to try finding fraud cases in our credit card dataset the \"old way\". First you'll define threshold values using common statistics, to split fraud and non-fraud. Then, use those thresholds on your features to detect fraud."
   ]
  },
  {
   "cell_type": "code",
   "execution_count": 30,
   "id": "aad8696a",
   "metadata": {},
   "outputs": [],
   "source": [
    "df.drop(['Unnamed: 0'], axis=1, inplace=True)"
   ]
  },
  {
   "cell_type": "code",
   "execution_count": 31,
   "id": "823ba248",
   "metadata": {},
   "outputs": [
    {
     "data": {
      "text/html": [
       "<div>\n",
       "<style scoped>\n",
       "    .dataframe tbody tr th:only-of-type {\n",
       "        vertical-align: middle;\n",
       "    }\n",
       "\n",
       "    .dataframe tbody tr th {\n",
       "        vertical-align: top;\n",
       "    }\n",
       "\n",
       "    .dataframe thead th {\n",
       "        text-align: right;\n",
       "    }\n",
       "</style>\n",
       "<table border=\"1\" class=\"dataframe\">\n",
       "  <thead>\n",
       "    <tr style=\"text-align: right;\">\n",
       "      <th></th>\n",
       "      <th>V1</th>\n",
       "      <th>V2</th>\n",
       "      <th>V3</th>\n",
       "      <th>V4</th>\n",
       "      <th>V5</th>\n",
       "      <th>V6</th>\n",
       "      <th>V7</th>\n",
       "      <th>V8</th>\n",
       "      <th>V9</th>\n",
       "      <th>V10</th>\n",
       "      <th>...</th>\n",
       "      <th>V21</th>\n",
       "      <th>V22</th>\n",
       "      <th>V23</th>\n",
       "      <th>V24</th>\n",
       "      <th>V25</th>\n",
       "      <th>V26</th>\n",
       "      <th>V27</th>\n",
       "      <th>V28</th>\n",
       "      <th>Amount</th>\n",
       "      <th>Class</th>\n",
       "    </tr>\n",
       "  </thead>\n",
       "  <tbody>\n",
       "    <tr>\n",
       "      <th>0</th>\n",
       "      <td>1.725265</td>\n",
       "      <td>-1.337256</td>\n",
       "      <td>-1.012687</td>\n",
       "      <td>-0.361656</td>\n",
       "      <td>-1.431611</td>\n",
       "      <td>-1.098681</td>\n",
       "      <td>-0.842274</td>\n",
       "      <td>-0.026594</td>\n",
       "      <td>-0.032409</td>\n",
       "      <td>0.215113</td>\n",
       "      <td>...</td>\n",
       "      <td>0.414524</td>\n",
       "      <td>0.793434</td>\n",
       "      <td>0.028887</td>\n",
       "      <td>0.419421</td>\n",
       "      <td>-0.367529</td>\n",
       "      <td>-0.155634</td>\n",
       "      <td>-0.015768</td>\n",
       "      <td>0.010790</td>\n",
       "      <td>189.00</td>\n",
       "      <td>0</td>\n",
       "    </tr>\n",
       "    <tr>\n",
       "      <th>1</th>\n",
       "      <td>0.683254</td>\n",
       "      <td>-1.681875</td>\n",
       "      <td>0.533349</td>\n",
       "      <td>-0.326064</td>\n",
       "      <td>-1.455603</td>\n",
       "      <td>0.101832</td>\n",
       "      <td>-0.520590</td>\n",
       "      <td>0.114036</td>\n",
       "      <td>-0.601760</td>\n",
       "      <td>0.444011</td>\n",
       "      <td>...</td>\n",
       "      <td>0.116898</td>\n",
       "      <td>-0.304605</td>\n",
       "      <td>-0.125547</td>\n",
       "      <td>0.244848</td>\n",
       "      <td>0.069163</td>\n",
       "      <td>-0.460712</td>\n",
       "      <td>-0.017068</td>\n",
       "      <td>0.063542</td>\n",
       "      <td>315.17</td>\n",
       "      <td>0</td>\n",
       "    </tr>\n",
       "    <tr>\n",
       "      <th>2</th>\n",
       "      <td>1.067973</td>\n",
       "      <td>-0.656667</td>\n",
       "      <td>1.029738</td>\n",
       "      <td>0.253899</td>\n",
       "      <td>-1.172715</td>\n",
       "      <td>0.073232</td>\n",
       "      <td>-0.745771</td>\n",
       "      <td>0.249803</td>\n",
       "      <td>1.383057</td>\n",
       "      <td>-0.483771</td>\n",
       "      <td>...</td>\n",
       "      <td>-0.189315</td>\n",
       "      <td>-0.426743</td>\n",
       "      <td>0.079539</td>\n",
       "      <td>0.129692</td>\n",
       "      <td>0.002778</td>\n",
       "      <td>0.970498</td>\n",
       "      <td>-0.035056</td>\n",
       "      <td>0.017313</td>\n",
       "      <td>59.98</td>\n",
       "      <td>0</td>\n",
       "    </tr>\n",
       "    <tr>\n",
       "      <th>3</th>\n",
       "      <td>0.119513</td>\n",
       "      <td>0.729275</td>\n",
       "      <td>-1.678879</td>\n",
       "      <td>-1.551408</td>\n",
       "      <td>3.128914</td>\n",
       "      <td>3.210632</td>\n",
       "      <td>0.356276</td>\n",
       "      <td>0.920374</td>\n",
       "      <td>-0.160589</td>\n",
       "      <td>-0.801748</td>\n",
       "      <td>...</td>\n",
       "      <td>-0.335825</td>\n",
       "      <td>-0.906171</td>\n",
       "      <td>0.108350</td>\n",
       "      <td>0.593062</td>\n",
       "      <td>-0.424303</td>\n",
       "      <td>0.164201</td>\n",
       "      <td>0.245881</td>\n",
       "      <td>0.071029</td>\n",
       "      <td>0.89</td>\n",
       "      <td>0</td>\n",
       "    </tr>\n",
       "    <tr>\n",
       "      <th>4</th>\n",
       "      <td>1.271253</td>\n",
       "      <td>0.275694</td>\n",
       "      <td>0.159568</td>\n",
       "      <td>1.003096</td>\n",
       "      <td>-0.128535</td>\n",
       "      <td>-0.608730</td>\n",
       "      <td>0.088777</td>\n",
       "      <td>-0.145336</td>\n",
       "      <td>0.156047</td>\n",
       "      <td>0.022707</td>\n",
       "      <td>...</td>\n",
       "      <td>0.031958</td>\n",
       "      <td>0.123503</td>\n",
       "      <td>-0.174528</td>\n",
       "      <td>-0.147535</td>\n",
       "      <td>0.735909</td>\n",
       "      <td>-0.262270</td>\n",
       "      <td>0.015577</td>\n",
       "      <td>0.015955</td>\n",
       "      <td>6.53</td>\n",
       "      <td>0</td>\n",
       "    </tr>\n",
       "  </tbody>\n",
       "</table>\n",
       "<p>5 rows × 30 columns</p>\n",
       "</div>"
      ],
      "text/plain": [
       "         V1        V2        V3        V4        V5        V6        V7  \\\n",
       "0  1.725265 -1.337256 -1.012687 -0.361656 -1.431611 -1.098681 -0.842274   \n",
       "1  0.683254 -1.681875  0.533349 -0.326064 -1.455603  0.101832 -0.520590   \n",
       "2  1.067973 -0.656667  1.029738  0.253899 -1.172715  0.073232 -0.745771   \n",
       "3  0.119513  0.729275 -1.678879 -1.551408  3.128914  3.210632  0.356276   \n",
       "4  1.271253  0.275694  0.159568  1.003096 -0.128535 -0.608730  0.088777   \n",
       "\n",
       "         V8        V9       V10  ...       V21       V22       V23       V24  \\\n",
       "0 -0.026594 -0.032409  0.215113  ...  0.414524  0.793434  0.028887  0.419421   \n",
       "1  0.114036 -0.601760  0.444011  ...  0.116898 -0.304605 -0.125547  0.244848   \n",
       "2  0.249803  1.383057 -0.483771  ... -0.189315 -0.426743  0.079539  0.129692   \n",
       "3  0.920374 -0.160589 -0.801748  ... -0.335825 -0.906171  0.108350  0.593062   \n",
       "4 -0.145336  0.156047  0.022707  ...  0.031958  0.123503 -0.174528 -0.147535   \n",
       "\n",
       "        V25       V26       V27       V28  Amount  Class  \n",
       "0 -0.367529 -0.155634 -0.015768  0.010790  189.00      0  \n",
       "1  0.069163 -0.460712 -0.017068  0.063542  315.17      0  \n",
       "2  0.002778  0.970498 -0.035056  0.017313   59.98      0  \n",
       "3 -0.424303  0.164201  0.245881  0.071029    0.89      0  \n",
       "4  0.735909 -0.262270  0.015577  0.015955    6.53      0  \n",
       "\n",
       "[5 rows x 30 columns]"
      ]
     },
     "execution_count": 31,
     "metadata": {},
     "output_type": "execute_result"
    }
   ],
   "source": [
    "df.head()"
   ]
  },
  {
   "cell_type": "code",
   "execution_count": 32,
   "id": "f205fcdc",
   "metadata": {},
   "outputs": [
    {
     "data": {
      "text/html": [
       "<div>\n",
       "<style scoped>\n",
       "    .dataframe tbody tr th:only-of-type {\n",
       "        vertical-align: middle;\n",
       "    }\n",
       "\n",
       "    .dataframe tbody tr th {\n",
       "        vertical-align: top;\n",
       "    }\n",
       "\n",
       "    .dataframe thead th {\n",
       "        text-align: right;\n",
       "    }\n",
       "</style>\n",
       "<table border=\"1\" class=\"dataframe\">\n",
       "  <thead>\n",
       "    <tr style=\"text-align: right;\">\n",
       "      <th></th>\n",
       "      <th>V1</th>\n",
       "      <th>V2</th>\n",
       "      <th>V3</th>\n",
       "      <th>V4</th>\n",
       "      <th>V5</th>\n",
       "      <th>V6</th>\n",
       "      <th>V7</th>\n",
       "      <th>V8</th>\n",
       "      <th>V9</th>\n",
       "      <th>V10</th>\n",
       "      <th>...</th>\n",
       "      <th>V20</th>\n",
       "      <th>V21</th>\n",
       "      <th>V22</th>\n",
       "      <th>V23</th>\n",
       "      <th>V24</th>\n",
       "      <th>V25</th>\n",
       "      <th>V26</th>\n",
       "      <th>V27</th>\n",
       "      <th>V28</th>\n",
       "      <th>Amount</th>\n",
       "    </tr>\n",
       "    <tr>\n",
       "      <th>Class</th>\n",
       "      <th></th>\n",
       "      <th></th>\n",
       "      <th></th>\n",
       "      <th></th>\n",
       "      <th></th>\n",
       "      <th></th>\n",
       "      <th></th>\n",
       "      <th></th>\n",
       "      <th></th>\n",
       "      <th></th>\n",
       "      <th></th>\n",
       "      <th></th>\n",
       "      <th></th>\n",
       "      <th></th>\n",
       "      <th></th>\n",
       "      <th></th>\n",
       "      <th></th>\n",
       "      <th></th>\n",
       "      <th></th>\n",
       "      <th></th>\n",
       "      <th></th>\n",
       "    </tr>\n",
       "  </thead>\n",
       "  <tbody>\n",
       "    <tr>\n",
       "      <th>0</th>\n",
       "      <td>0.035030</td>\n",
       "      <td>0.011553</td>\n",
       "      <td>0.037444</td>\n",
       "      <td>-0.045760</td>\n",
       "      <td>-0.013825</td>\n",
       "      <td>-0.030885</td>\n",
       "      <td>0.014315</td>\n",
       "      <td>-0.022432</td>\n",
       "      <td>-0.002227</td>\n",
       "      <td>0.001667</td>\n",
       "      <td>...</td>\n",
       "      <td>-0.002896</td>\n",
       "      <td>-0.010583</td>\n",
       "      <td>-0.010206</td>\n",
       "      <td>-0.003305</td>\n",
       "      <td>-0.000918</td>\n",
       "      <td>-0.002613</td>\n",
       "      <td>-0.004651</td>\n",
       "      <td>-0.009584</td>\n",
       "      <td>0.002414</td>\n",
       "      <td>85.843714</td>\n",
       "    </tr>\n",
       "    <tr>\n",
       "      <th>1</th>\n",
       "      <td>-4.985211</td>\n",
       "      <td>3.321539</td>\n",
       "      <td>-7.293909</td>\n",
       "      <td>4.827952</td>\n",
       "      <td>-3.326587</td>\n",
       "      <td>-1.591882</td>\n",
       "      <td>-5.776541</td>\n",
       "      <td>1.395058</td>\n",
       "      <td>-2.537728</td>\n",
       "      <td>-5.917934</td>\n",
       "      <td>...</td>\n",
       "      <td>0.194580</td>\n",
       "      <td>0.703182</td>\n",
       "      <td>0.069065</td>\n",
       "      <td>-0.088374</td>\n",
       "      <td>-0.029425</td>\n",
       "      <td>-0.073336</td>\n",
       "      <td>-0.023377</td>\n",
       "      <td>0.380072</td>\n",
       "      <td>0.009304</td>\n",
       "      <td>113.469000</td>\n",
       "    </tr>\n",
       "  </tbody>\n",
       "</table>\n",
       "<p>2 rows × 29 columns</p>\n",
       "</div>"
      ],
      "text/plain": [
       "             V1        V2        V3        V4        V5        V6        V7  \\\n",
       "Class                                                                         \n",
       "0      0.035030  0.011553  0.037444 -0.045760 -0.013825 -0.030885  0.014315   \n",
       "1     -4.985211  3.321539 -7.293909  4.827952 -3.326587 -1.591882 -5.776541   \n",
       "\n",
       "             V8        V9       V10  ...       V20       V21       V22  \\\n",
       "Class                                ...                                 \n",
       "0     -0.022432 -0.002227  0.001667  ... -0.002896 -0.010583 -0.010206   \n",
       "1      1.395058 -2.537728 -5.917934  ...  0.194580  0.703182  0.069065   \n",
       "\n",
       "            V23       V24       V25       V26       V27       V28      Amount  \n",
       "Class                                                                          \n",
       "0     -0.003305 -0.000918 -0.002613 -0.004651 -0.009584  0.002414   85.843714  \n",
       "1     -0.088374 -0.029425 -0.073336 -0.023377  0.380072  0.009304  113.469000  \n",
       "\n",
       "[2 rows x 29 columns]"
      ]
     },
     "execution_count": 32,
     "metadata": {},
     "output_type": "execute_result"
    }
   ],
   "source": [
    "df.groupby('Class').mean()"
   ]
  },
  {
   "cell_type": "code",
   "execution_count": 33,
   "id": "7c417e3a",
   "metadata": {},
   "outputs": [],
   "source": [
    "df['flag_as_fraud']=np.where((df.V1< -3) & (df.V3< -5),1,0 )"
   ]
  },
  {
   "cell_type": "code",
   "execution_count": 34,
   "id": "10369aa0",
   "metadata": {},
   "outputs": [
    {
     "data": {
      "text/html": [
       "<div>\n",
       "<style scoped>\n",
       "    .dataframe tbody tr th:only-of-type {\n",
       "        vertical-align: middle;\n",
       "    }\n",
       "\n",
       "    .dataframe tbody tr th {\n",
       "        vertical-align: top;\n",
       "    }\n",
       "\n",
       "    .dataframe thead th {\n",
       "        text-align: right;\n",
       "    }\n",
       "</style>\n",
       "<table border=\"1\" class=\"dataframe\">\n",
       "  <thead>\n",
       "    <tr style=\"text-align: right;\">\n",
       "      <th></th>\n",
       "      <th>V1</th>\n",
       "      <th>V2</th>\n",
       "      <th>V3</th>\n",
       "      <th>V4</th>\n",
       "      <th>V5</th>\n",
       "      <th>V6</th>\n",
       "      <th>V7</th>\n",
       "      <th>V8</th>\n",
       "      <th>V9</th>\n",
       "      <th>V10</th>\n",
       "      <th>...</th>\n",
       "      <th>V22</th>\n",
       "      <th>V23</th>\n",
       "      <th>V24</th>\n",
       "      <th>V25</th>\n",
       "      <th>V26</th>\n",
       "      <th>V27</th>\n",
       "      <th>V28</th>\n",
       "      <th>Amount</th>\n",
       "      <th>Class</th>\n",
       "      <th>flag_as_fraud</th>\n",
       "    </tr>\n",
       "  </thead>\n",
       "  <tbody>\n",
       "    <tr>\n",
       "      <th>0</th>\n",
       "      <td>1.725265</td>\n",
       "      <td>-1.337256</td>\n",
       "      <td>-1.012687</td>\n",
       "      <td>-0.361656</td>\n",
       "      <td>-1.431611</td>\n",
       "      <td>-1.098681</td>\n",
       "      <td>-0.842274</td>\n",
       "      <td>-0.026594</td>\n",
       "      <td>-0.032409</td>\n",
       "      <td>0.215113</td>\n",
       "      <td>...</td>\n",
       "      <td>0.793434</td>\n",
       "      <td>0.028887</td>\n",
       "      <td>0.419421</td>\n",
       "      <td>-0.367529</td>\n",
       "      <td>-0.155634</td>\n",
       "      <td>-0.015768</td>\n",
       "      <td>0.010790</td>\n",
       "      <td>189.00</td>\n",
       "      <td>0</td>\n",
       "      <td>0</td>\n",
       "    </tr>\n",
       "    <tr>\n",
       "      <th>1</th>\n",
       "      <td>0.683254</td>\n",
       "      <td>-1.681875</td>\n",
       "      <td>0.533349</td>\n",
       "      <td>-0.326064</td>\n",
       "      <td>-1.455603</td>\n",
       "      <td>0.101832</td>\n",
       "      <td>-0.520590</td>\n",
       "      <td>0.114036</td>\n",
       "      <td>-0.601760</td>\n",
       "      <td>0.444011</td>\n",
       "      <td>...</td>\n",
       "      <td>-0.304605</td>\n",
       "      <td>-0.125547</td>\n",
       "      <td>0.244848</td>\n",
       "      <td>0.069163</td>\n",
       "      <td>-0.460712</td>\n",
       "      <td>-0.017068</td>\n",
       "      <td>0.063542</td>\n",
       "      <td>315.17</td>\n",
       "      <td>0</td>\n",
       "      <td>0</td>\n",
       "    </tr>\n",
       "    <tr>\n",
       "      <th>2</th>\n",
       "      <td>1.067973</td>\n",
       "      <td>-0.656667</td>\n",
       "      <td>1.029738</td>\n",
       "      <td>0.253899</td>\n",
       "      <td>-1.172715</td>\n",
       "      <td>0.073232</td>\n",
       "      <td>-0.745771</td>\n",
       "      <td>0.249803</td>\n",
       "      <td>1.383057</td>\n",
       "      <td>-0.483771</td>\n",
       "      <td>...</td>\n",
       "      <td>-0.426743</td>\n",
       "      <td>0.079539</td>\n",
       "      <td>0.129692</td>\n",
       "      <td>0.002778</td>\n",
       "      <td>0.970498</td>\n",
       "      <td>-0.035056</td>\n",
       "      <td>0.017313</td>\n",
       "      <td>59.98</td>\n",
       "      <td>0</td>\n",
       "      <td>0</td>\n",
       "    </tr>\n",
       "    <tr>\n",
       "      <th>3</th>\n",
       "      <td>0.119513</td>\n",
       "      <td>0.729275</td>\n",
       "      <td>-1.678879</td>\n",
       "      <td>-1.551408</td>\n",
       "      <td>3.128914</td>\n",
       "      <td>3.210632</td>\n",
       "      <td>0.356276</td>\n",
       "      <td>0.920374</td>\n",
       "      <td>-0.160589</td>\n",
       "      <td>-0.801748</td>\n",
       "      <td>...</td>\n",
       "      <td>-0.906171</td>\n",
       "      <td>0.108350</td>\n",
       "      <td>0.593062</td>\n",
       "      <td>-0.424303</td>\n",
       "      <td>0.164201</td>\n",
       "      <td>0.245881</td>\n",
       "      <td>0.071029</td>\n",
       "      <td>0.89</td>\n",
       "      <td>0</td>\n",
       "      <td>0</td>\n",
       "    </tr>\n",
       "    <tr>\n",
       "      <th>4</th>\n",
       "      <td>1.271253</td>\n",
       "      <td>0.275694</td>\n",
       "      <td>0.159568</td>\n",
       "      <td>1.003096</td>\n",
       "      <td>-0.128535</td>\n",
       "      <td>-0.608730</td>\n",
       "      <td>0.088777</td>\n",
       "      <td>-0.145336</td>\n",
       "      <td>0.156047</td>\n",
       "      <td>0.022707</td>\n",
       "      <td>...</td>\n",
       "      <td>0.123503</td>\n",
       "      <td>-0.174528</td>\n",
       "      <td>-0.147535</td>\n",
       "      <td>0.735909</td>\n",
       "      <td>-0.262270</td>\n",
       "      <td>0.015577</td>\n",
       "      <td>0.015955</td>\n",
       "      <td>6.53</td>\n",
       "      <td>0</td>\n",
       "      <td>0</td>\n",
       "    </tr>\n",
       "  </tbody>\n",
       "</table>\n",
       "<p>5 rows × 31 columns</p>\n",
       "</div>"
      ],
      "text/plain": [
       "         V1        V2        V3        V4        V5        V6        V7  \\\n",
       "0  1.725265 -1.337256 -1.012687 -0.361656 -1.431611 -1.098681 -0.842274   \n",
       "1  0.683254 -1.681875  0.533349 -0.326064 -1.455603  0.101832 -0.520590   \n",
       "2  1.067973 -0.656667  1.029738  0.253899 -1.172715  0.073232 -0.745771   \n",
       "3  0.119513  0.729275 -1.678879 -1.551408  3.128914  3.210632  0.356276   \n",
       "4  1.271253  0.275694  0.159568  1.003096 -0.128535 -0.608730  0.088777   \n",
       "\n",
       "         V8        V9       V10  ...       V22       V23       V24       V25  \\\n",
       "0 -0.026594 -0.032409  0.215113  ...  0.793434  0.028887  0.419421 -0.367529   \n",
       "1  0.114036 -0.601760  0.444011  ... -0.304605 -0.125547  0.244848  0.069163   \n",
       "2  0.249803  1.383057 -0.483771  ... -0.426743  0.079539  0.129692  0.002778   \n",
       "3  0.920374 -0.160589 -0.801748  ... -0.906171  0.108350  0.593062 -0.424303   \n",
       "4 -0.145336  0.156047  0.022707  ...  0.123503 -0.174528 -0.147535  0.735909   \n",
       "\n",
       "        V26       V27       V28  Amount  Class  flag_as_fraud  \n",
       "0 -0.155634 -0.015768  0.010790  189.00      0              0  \n",
       "1 -0.460712 -0.017068  0.063542  315.17      0              0  \n",
       "2  0.970498 -0.035056  0.017313   59.98      0              0  \n",
       "3  0.164201  0.245881  0.071029    0.89      0              0  \n",
       "4 -0.262270  0.015577  0.015955    6.53      0              0  \n",
       "\n",
       "[5 rows x 31 columns]"
      ]
     },
     "execution_count": 34,
     "metadata": {},
     "output_type": "execute_result"
    }
   ],
   "source": [
    "df.head()"
   ]
  },
  {
   "cell_type": "code",
   "execution_count": 35,
   "id": "7222042c",
   "metadata": {},
   "outputs": [
    {
     "data": {
      "text/html": [
       "<div>\n",
       "<style scoped>\n",
       "    .dataframe tbody tr th:only-of-type {\n",
       "        vertical-align: middle;\n",
       "    }\n",
       "\n",
       "    .dataframe tbody tr th {\n",
       "        vertical-align: top;\n",
       "    }\n",
       "\n",
       "    .dataframe thead th {\n",
       "        text-align: right;\n",
       "    }\n",
       "</style>\n",
       "<table border=\"1\" class=\"dataframe\">\n",
       "  <thead>\n",
       "    <tr style=\"text-align: right;\">\n",
       "      <th>Flagged Fraud</th>\n",
       "      <th>0</th>\n",
       "      <th>1</th>\n",
       "    </tr>\n",
       "    <tr>\n",
       "      <th>Actual Fraud</th>\n",
       "      <th></th>\n",
       "      <th></th>\n",
       "    </tr>\n",
       "  </thead>\n",
       "  <tbody>\n",
       "    <tr>\n",
       "      <th>0</th>\n",
       "      <td>4984</td>\n",
       "      <td>16</td>\n",
       "    </tr>\n",
       "    <tr>\n",
       "      <th>1</th>\n",
       "      <td>28</td>\n",
       "      <td>22</td>\n",
       "    </tr>\n",
       "  </tbody>\n",
       "</table>\n",
       "</div>"
      ],
      "text/plain": [
       "Flagged Fraud     0   1\n",
       "Actual Fraud           \n",
       "0              4984  16\n",
       "1                28  22"
      ]
     },
     "execution_count": 35,
     "metadata": {},
     "output_type": "execute_result"
    }
   ],
   "source": [
    "pd.crosstab(df.Class,df.flag_as_fraud,rownames=['Actual Fraud'],colnames=['Flagged Fraud'])"
   ]
  },
  {
   "cell_type": "markdown",
   "id": "9e05d710",
   "metadata": {},
   "source": [
    " Let's use the Logistic Regression model"
   ]
  },
  {
   "cell_type": "code",
   "execution_count": 36,
   "id": "735eef18",
   "metadata": {},
   "outputs": [],
   "source": [
    "X_train, X_test, y_train, y_test = train_test_split(X, y, test_size=0.3, random_state=0)"
   ]
  },
  {
   "cell_type": "code",
   "execution_count": 37,
   "id": "469345b8",
   "metadata": {},
   "outputs": [
    {
     "data": {
      "text/plain": [
       "LogisticRegression(solver='liblinear')"
      ]
     },
     "execution_count": 37,
     "metadata": {},
     "output_type": "execute_result"
    }
   ],
   "source": [
    "model = LogisticRegression(solver='liblinear')\n",
    "model.fit(X_train, y_train)"
   ]
  },
  {
   "cell_type": "code",
   "execution_count": 38,
   "id": "57a56b8d",
   "metadata": {},
   "outputs": [],
   "source": [
    "predicted=model.predict(X_test)"
   ]
  },
  {
   "cell_type": "code",
   "execution_count": 39,
   "id": "d5f76bd5",
   "metadata": {},
   "outputs": [
    {
     "name": "stdout",
     "output_type": "stream",
     "text": [
      "Classification report:\n",
      "               precision    recall  f1-score   support\n",
      "\n",
      "           0       1.00      1.00      1.00      1505\n",
      "           1       0.89      0.80      0.84        10\n",
      "\n",
      "    accuracy                           1.00      1515\n",
      "   macro avg       0.94      0.90      0.92      1515\n",
      "weighted avg       1.00      1.00      1.00      1515\n",
      "\n"
     ]
    }
   ],
   "source": [
    "print('Classification report:\\n', classification_report(y_test, predicted))"
   ]
  },
  {
   "cell_type": "code",
   "execution_count": 40,
   "id": "7a850ef6",
   "metadata": {},
   "outputs": [
    {
     "name": "stdout",
     "output_type": "stream",
     "text": [
      "[[1504    1]\n",
      " [   2    8]]\n"
     ]
    }
   ],
   "source": [
    "cnf_mat=confusion_matrix(y_true=y_test,y_pred=predicted)\n",
    "print(cnf_mat)"
   ]
  },
  {
   "cell_type": "markdown",
   "id": "0d2832f1",
   "metadata": {},
   "source": [
    "If we compare it with the results of the threshould methode we can see the difference.\n",
    "The classification methode is more accurate than the threshold method.\n",
    "We miss 1 fraud transaction, in the old method we miss 28.\n",
    "Also, we detect 2 normal transactions as frauds, in the old method 16.\n",
    "So the accuracy is better when we use logistic regression."
   ]
  },
  {
   "cell_type": "markdown",
   "id": "3b273fae",
   "metadata": {},
   "source": [
    "We will combine the Logistic Regression model and the SMOTE resampling method, to see what imporvement that maketo our model.(We will use Pipeline to do such combination.)"
   ]
  },
  {
   "cell_type": "code",
   "execution_count": 41,
   "id": "20eb3a8f",
   "metadata": {},
   "outputs": [],
   "source": [
    "resampling = BorderlineSMOTE()\n",
    "model = LogisticRegression(solver='liblinear')"
   ]
  },
  {
   "cell_type": "code",
   "execution_count": 42,
   "id": "6f8bd91f",
   "metadata": {},
   "outputs": [],
   "source": [
    "pipeline = Pipeline([('SMOTE', resampling), ('Logistic Regression', model)])"
   ]
  },
  {
   "cell_type": "code",
   "execution_count": 43,
   "id": "753ec713",
   "metadata": {},
   "outputs": [],
   "source": [
    "pipeline.fit(X_train, y_train) \n",
    "predicted = pipeline.predict(X_test)"
   ]
  },
  {
   "cell_type": "code",
   "execution_count": 44,
   "id": "fce2ae11",
   "metadata": {},
   "outputs": [
    {
     "name": "stdout",
     "output_type": "stream",
     "text": [
      "Classifcation report:\n",
      "               precision    recall  f1-score   support\n",
      "\n",
      "           0       1.00      1.00      1.00      1505\n",
      "           1       0.62      1.00      0.77        10\n",
      "\n",
      "    accuracy                           1.00      1515\n",
      "   macro avg       0.81      1.00      0.88      1515\n",
      "weighted avg       1.00      1.00      1.00      1515\n",
      "\n"
     ]
    }
   ],
   "source": [
    "print('Classifcation report:\\n', classification_report(y_test, predicted))"
   ]
  },
  {
   "cell_type": "code",
   "execution_count": 45,
   "id": "460cf47b",
   "metadata": {},
   "outputs": [
    {
     "name": "stdout",
     "output_type": "stream",
     "text": [
      "Confusion matrix:\n",
      " [[1499    6]\n",
      " [   0   10]]\n"
     ]
    }
   ],
   "source": [
    "conf_mat = confusion_matrix(y_true=y_test, y_pred=predicted)\n",
    "print('Confusion matrix:\\n', conf_mat)"
   ]
  },
  {
   "cell_type": "markdown",
   "id": "9bf576b1",
   "metadata": {},
   "source": [
    "The SMOTE improves our resutls,we detect all the frauds but we have higher number of false posities"
   ]
  },
  {
   "cell_type": "markdown",
   "id": "3a27315e",
   "metadata": {},
   "source": [
    "Now, let us create our first random forest classifier for our peoblem. It will serve as the baseline model that we are going to improve to optimize the accuracy."
   ]
  },
  {
   "cell_type": "code",
   "execution_count": 46,
   "id": "f36def51",
   "metadata": {},
   "outputs": [],
   "source": [
    "df2=pd.read_csv('data/creditcard_sampledata_2.csv')"
   ]
  },
  {
   "cell_type": "code",
   "execution_count": 47,
   "id": "26c9a65a",
   "metadata": {},
   "outputs": [
    {
     "data": {
      "text/html": [
       "<div>\n",
       "<style scoped>\n",
       "    .dataframe tbody tr th:only-of-type {\n",
       "        vertical-align: middle;\n",
       "    }\n",
       "\n",
       "    .dataframe tbody tr th {\n",
       "        vertical-align: top;\n",
       "    }\n",
       "\n",
       "    .dataframe thead th {\n",
       "        text-align: right;\n",
       "    }\n",
       "</style>\n",
       "<table border=\"1\" class=\"dataframe\">\n",
       "  <thead>\n",
       "    <tr style=\"text-align: right;\">\n",
       "      <th></th>\n",
       "      <th>Unnamed: 0</th>\n",
       "      <th>V1</th>\n",
       "      <th>V2</th>\n",
       "      <th>V3</th>\n",
       "      <th>V4</th>\n",
       "      <th>V5</th>\n",
       "      <th>V6</th>\n",
       "      <th>V7</th>\n",
       "      <th>V8</th>\n",
       "      <th>V9</th>\n",
       "      <th>...</th>\n",
       "      <th>V21</th>\n",
       "      <th>V22</th>\n",
       "      <th>V23</th>\n",
       "      <th>V24</th>\n",
       "      <th>V25</th>\n",
       "      <th>V26</th>\n",
       "      <th>V27</th>\n",
       "      <th>V28</th>\n",
       "      <th>Amount</th>\n",
       "      <th>Class</th>\n",
       "    </tr>\n",
       "  </thead>\n",
       "  <tbody>\n",
       "    <tr>\n",
       "      <th>0</th>\n",
       "      <td>221547</td>\n",
       "      <td>-1.191668</td>\n",
       "      <td>0.428409</td>\n",
       "      <td>1.640028</td>\n",
       "      <td>-1.848859</td>\n",
       "      <td>-0.870903</td>\n",
       "      <td>-0.204849</td>\n",
       "      <td>-0.385675</td>\n",
       "      <td>0.352793</td>\n",
       "      <td>-1.098301</td>\n",
       "      <td>...</td>\n",
       "      <td>0.507173</td>\n",
       "      <td>1.292565</td>\n",
       "      <td>-0.467752</td>\n",
       "      <td>1.244887</td>\n",
       "      <td>0.697707</td>\n",
       "      <td>0.059375</td>\n",
       "      <td>-0.319964</td>\n",
       "      <td>-0.017444</td>\n",
       "      <td>27.44</td>\n",
       "      <td>0</td>\n",
       "    </tr>\n",
       "    <tr>\n",
       "      <th>1</th>\n",
       "      <td>184524</td>\n",
       "      <td>1.966614</td>\n",
       "      <td>-0.450087</td>\n",
       "      <td>-1.228586</td>\n",
       "      <td>0.142873</td>\n",
       "      <td>-0.150627</td>\n",
       "      <td>-0.543590</td>\n",
       "      <td>-0.076217</td>\n",
       "      <td>-0.108390</td>\n",
       "      <td>0.973310</td>\n",
       "      <td>...</td>\n",
       "      <td>0.124055</td>\n",
       "      <td>0.564916</td>\n",
       "      <td>-0.039331</td>\n",
       "      <td>-0.283904</td>\n",
       "      <td>0.186400</td>\n",
       "      <td>0.192932</td>\n",
       "      <td>-0.039155</td>\n",
       "      <td>-0.071314</td>\n",
       "      <td>35.95</td>\n",
       "      <td>0</td>\n",
       "    </tr>\n",
       "    <tr>\n",
       "      <th>2</th>\n",
       "      <td>91201</td>\n",
       "      <td>1.528452</td>\n",
       "      <td>-1.296191</td>\n",
       "      <td>-0.890677</td>\n",
       "      <td>-2.504028</td>\n",
       "      <td>0.803202</td>\n",
       "      <td>3.350793</td>\n",
       "      <td>-1.633016</td>\n",
       "      <td>0.815350</td>\n",
       "      <td>-1.884692</td>\n",
       "      <td>...</td>\n",
       "      <td>-0.412088</td>\n",
       "      <td>-1.017485</td>\n",
       "      <td>0.129566</td>\n",
       "      <td>0.948048</td>\n",
       "      <td>0.287826</td>\n",
       "      <td>-0.396592</td>\n",
       "      <td>0.042997</td>\n",
       "      <td>0.025853</td>\n",
       "      <td>28.40</td>\n",
       "      <td>0</td>\n",
       "    </tr>\n",
       "    <tr>\n",
       "      <th>3</th>\n",
       "      <td>26115</td>\n",
       "      <td>-0.774614</td>\n",
       "      <td>1.100916</td>\n",
       "      <td>0.679080</td>\n",
       "      <td>1.034016</td>\n",
       "      <td>0.168633</td>\n",
       "      <td>0.874582</td>\n",
       "      <td>0.209454</td>\n",
       "      <td>0.770550</td>\n",
       "      <td>-0.558106</td>\n",
       "      <td>...</td>\n",
       "      <td>0.011158</td>\n",
       "      <td>0.146017</td>\n",
       "      <td>-0.130401</td>\n",
       "      <td>-0.848815</td>\n",
       "      <td>0.005698</td>\n",
       "      <td>-0.183295</td>\n",
       "      <td>0.282940</td>\n",
       "      <td>0.123856</td>\n",
       "      <td>43.20</td>\n",
       "      <td>0</td>\n",
       "    </tr>\n",
       "    <tr>\n",
       "      <th>4</th>\n",
       "      <td>201292</td>\n",
       "      <td>-1.075860</td>\n",
       "      <td>1.361160</td>\n",
       "      <td>1.496972</td>\n",
       "      <td>2.242604</td>\n",
       "      <td>1.314751</td>\n",
       "      <td>0.272787</td>\n",
       "      <td>1.005246</td>\n",
       "      <td>0.132932</td>\n",
       "      <td>-1.558317</td>\n",
       "      <td>...</td>\n",
       "      <td>0.254485</td>\n",
       "      <td>0.530692</td>\n",
       "      <td>-0.651119</td>\n",
       "      <td>0.626389</td>\n",
       "      <td>1.040212</td>\n",
       "      <td>0.249501</td>\n",
       "      <td>-0.146745</td>\n",
       "      <td>0.029714</td>\n",
       "      <td>10.59</td>\n",
       "      <td>0</td>\n",
       "    </tr>\n",
       "  </tbody>\n",
       "</table>\n",
       "<p>5 rows × 31 columns</p>\n",
       "</div>"
      ],
      "text/plain": [
       "   Unnamed: 0        V1        V2        V3        V4        V5        V6  \\\n",
       "0      221547 -1.191668  0.428409  1.640028 -1.848859 -0.870903 -0.204849   \n",
       "1      184524  1.966614 -0.450087 -1.228586  0.142873 -0.150627 -0.543590   \n",
       "2       91201  1.528452 -1.296191 -0.890677 -2.504028  0.803202  3.350793   \n",
       "3       26115 -0.774614  1.100916  0.679080  1.034016  0.168633  0.874582   \n",
       "4      201292 -1.075860  1.361160  1.496972  2.242604  1.314751  0.272787   \n",
       "\n",
       "         V7        V8        V9  ...       V21       V22       V23       V24  \\\n",
       "0 -0.385675  0.352793 -1.098301  ...  0.507173  1.292565 -0.467752  1.244887   \n",
       "1 -0.076217 -0.108390  0.973310  ...  0.124055  0.564916 -0.039331 -0.283904   \n",
       "2 -1.633016  0.815350 -1.884692  ... -0.412088 -1.017485  0.129566  0.948048   \n",
       "3  0.209454  0.770550 -0.558106  ...  0.011158  0.146017 -0.130401 -0.848815   \n",
       "4  1.005246  0.132932 -1.558317  ...  0.254485  0.530692 -0.651119  0.626389   \n",
       "\n",
       "        V25       V26       V27       V28  Amount  Class  \n",
       "0  0.697707  0.059375 -0.319964 -0.017444   27.44      0  \n",
       "1  0.186400  0.192932 -0.039155 -0.071314   35.95      0  \n",
       "2  0.287826 -0.396592  0.042997  0.025853   28.40      0  \n",
       "3  0.005698 -0.183295  0.282940  0.123856   43.20      0  \n",
       "4  1.040212  0.249501 -0.146745  0.029714   10.59      0  \n",
       "\n",
       "[5 rows x 31 columns]"
      ]
     },
     "execution_count": 47,
     "metadata": {},
     "output_type": "execute_result"
    }
   ],
   "source": [
    "df2.head()"
   ]
  },
  {
   "cell_type": "code",
   "execution_count": 48,
   "id": "950e9c01",
   "metadata": {},
   "outputs": [
    {
     "name": "stdout",
     "output_type": "stream",
     "text": [
      "X shape: (7300, 28)\n",
      "y shape: (7300,)\n"
     ]
    }
   ],
   "source": [
    "X, y = prep_data(df2)\n",
    "print(f'X shape: {X.shape}\\ny shape: {y.shape}')"
   ]
  },
  {
   "cell_type": "code",
   "execution_count": 49,
   "id": "e4e9f98f",
   "metadata": {},
   "outputs": [
    {
     "data": {
      "text/plain": [
       "array([ 4.28408570e-01,  1.64002800e+00, -1.84885886e+00, -8.70902974e-01,\n",
       "       -2.04848888e-01, -3.85675453e-01,  3.52792552e-01, -1.09830131e+00,\n",
       "       -3.34596757e-01, -6.79088729e-01, -3.96709268e-02,  1.37266082e+00,\n",
       "       -7.32000706e-01, -3.44528134e-01,  1.02475103e+00,  3.80208554e-01,\n",
       "       -1.08734881e+00,  3.64507163e-01,  5.19236276e-02,  5.07173439e-01,\n",
       "        1.29256539e+00, -4.67752261e-01,  1.24488683e+00,  6.97706854e-01,\n",
       "        5.93750372e-02, -3.19964326e-01, -1.74444289e-02,  2.74400000e+01])"
      ]
     },
     "execution_count": 49,
     "metadata": {},
     "output_type": "execute_result"
    }
   ],
   "source": [
    "X[0,:]"
   ]
  },
  {
   "cell_type": "code",
   "execution_count": 50,
   "id": "2749ed67",
   "metadata": {},
   "outputs": [
    {
     "data": {
      "text/plain": [
       "0    7000\n",
       "1     300\n",
       "Name: Class, dtype: int64"
      ]
     },
     "execution_count": 50,
     "metadata": {},
     "output_type": "execute_result"
    }
   ],
   "source": [
    "df2.Class.value_counts()"
   ]
  },
  {
   "cell_type": "code",
   "execution_count": 51,
   "id": "deb21d28",
   "metadata": {},
   "outputs": [
    {
     "name": "stdout",
     "output_type": "stream",
     "text": [
      "7300\n"
     ]
    }
   ],
   "source": [
    "total_obs=len(y)\n",
    "print(total_obs)"
   ]
  },
  {
   "cell_type": "code",
   "execution_count": 52,
   "id": "583577e1",
   "metadata": {},
   "outputs": [
    {
     "name": "stdout",
     "output_type": "stream",
     "text": [
      "7000\n"
     ]
    }
   ],
   "source": [
    "non_fraud=[i for i in y if i==0]\n",
    "nub_non_fraud=non_fraud.count(0)\n",
    "print(nub_non_fraud)"
   ]
  },
  {
   "cell_type": "code",
   "execution_count": 53,
   "id": "6ebc12fa",
   "metadata": {},
   "outputs": [
    {
     "name": "stdout",
     "output_type": "stream",
     "text": [
      "95.89%\n"
     ]
    }
   ],
   "source": [
    "percentage=(nub_non_fraud/total_obs )*100\n",
    "print(f'{percentage:0.2f}%')"
   ]
  },
  {
   "cell_type": "markdown",
   "id": "3a023fdc",
   "metadata": {},
   "source": [
    "By doing nothing we have a 95.89% of accuracy. Lets see how can we improve that using random forest."
   ]
  },
  {
   "cell_type": "code",
   "execution_count": 54,
   "id": "5832c921",
   "metadata": {},
   "outputs": [],
   "source": [
    "X_train, X_test,y_train,y_test=train_test_split(X,y,test_size=0.3,random_state=0)"
   ]
  },
  {
   "cell_type": "code",
   "execution_count": 55,
   "id": "d30eb4ce",
   "metadata": {},
   "outputs": [
    {
     "name": "stdout",
     "output_type": "stream",
     "text": [
      "(5110, 28)\n"
     ]
    },
    {
     "data": {
      "text/plain": [
       "(2190, 28)"
      ]
     },
     "execution_count": 55,
     "metadata": {},
     "output_type": "execute_result"
    }
   ],
   "source": [
    "print(X_train.shape)\n",
    "X_test.shape"
   ]
  },
  {
   "cell_type": "code",
   "execution_count": 56,
   "id": "be5fca52",
   "metadata": {},
   "outputs": [],
   "source": [
    "model=RandomForestClassifier(random_state=5,n_estimators=20)"
   ]
  },
  {
   "cell_type": "code",
   "execution_count": 57,
   "id": "e0da8084",
   "metadata": {},
   "outputs": [
    {
     "data": {
      "text/plain": [
       "RandomForestClassifier(n_estimators=20, random_state=5)"
      ]
     },
     "execution_count": 57,
     "metadata": {},
     "output_type": "execute_result"
    }
   ],
   "source": [
    "model.fit(X_train,y_train)"
   ]
  },
  {
   "cell_type": "code",
   "execution_count": 58,
   "id": "5f591d69",
   "metadata": {},
   "outputs": [],
   "source": [
    "predicted=model.predict(X_test)"
   ]
  },
  {
   "cell_type": "code",
   "execution_count": 59,
   "id": "70cb7dd7",
   "metadata": {},
   "outputs": [
    {
     "data": {
      "text/plain": [
       "(2190,)"
      ]
     },
     "execution_count": 59,
     "metadata": {},
     "output_type": "execute_result"
    }
   ],
   "source": [
    "predicted.shape"
   ]
  },
  {
   "cell_type": "code",
   "execution_count": 60,
   "id": "8ede5f6e",
   "metadata": {},
   "outputs": [
    {
     "name": "stdout",
     "output_type": "stream",
     "text": [
      "Accuraccy score :\n",
      "99.09%\n"
     ]
    }
   ],
   "source": [
    "print(f'Accuraccy score :\\n{accuracy_score(y_test,predicted)*100:0.2f}%')"
   ]
  },
  {
   "cell_type": "markdown",
   "id": "7bbfa6de",
   "metadata": {},
   "source": [
    "The benefit of using Random Forest is that it prevents overfitting, because it combines the subtrees of submsamples of features."
   ]
  },
  {
   "cell_type": "markdown",
   "id": "88a2d69b",
   "metadata": {},
   "source": [
    "With such problem(imbaleced data) the accuracy can be a miseleading to evaluate our model.\n",
    "So lets use the classification_report"
   ]
  },
  {
   "cell_type": "code",
   "execution_count": 61,
   "id": "27339118",
   "metadata": {},
   "outputs": [
    {
     "name": "stdout",
     "output_type": "stream",
     "text": [
      "              precision    recall  f1-score   support\n",
      "\n",
      "           0       0.99      1.00      1.00      2099\n",
      "           1       0.97      0.80      0.88        91\n",
      "\n",
      "    accuracy                           0.99      2190\n",
      "   macro avg       0.98      0.90      0.94      2190\n",
      "weighted avg       0.99      0.99      0.99      2190\n",
      "\n"
     ]
    }
   ],
   "source": [
    "print(classification_report(y_test,predicted))"
   ]
  },
  {
   "cell_type": "code",
   "execution_count": 62,
   "id": "1f0d8c1c",
   "metadata": {},
   "outputs": [
    {
     "data": {
      "text/plain": [
       "array([[1., 0.],\n",
       "       [1., 0.],\n",
       "       [1., 0.],\n",
       "       ...,\n",
       "       [1., 0.],\n",
       "       [1., 0.],\n",
       "       [1., 0.]])"
      ]
     },
     "execution_count": 62,
     "metadata": {},
     "output_type": "execute_result"
    }
   ],
   "source": [
    "probs=model.predict_proba(X_test)\n",
    "probs"
   ]
  },
  {
   "cell_type": "code",
   "execution_count": 63,
   "id": "55fecfb8",
   "metadata": {},
   "outputs": [
    {
     "name": "stdout",
     "output_type": "stream",
     "text": [
      "ROC Score :  0.94\n",
      "Confusion Martix: \n",
      "[[2097    2]\n",
      " [  18   73]]\n"
     ]
    }
   ],
   "source": [
    "print(f'ROC Score : {roc_auc_score(y_test, probs[:,1]): 0.2f}')\n",
    "print(f'Confusion Martix: \\n{confusion_matrix(y_test,predicted)}')"
   ]
  },
  {
   "cell_type": "markdown",
   "id": "c8ba7b31",
   "metadata": {},
   "source": [
    "To investigate the trade-off between precision and recall curve. We need a balance between these two in our model.Otherwise we might end up with many false positives, or not enough actual fraud cases caught. "
   ]
  },
  {
   "cell_type": "code",
   "execution_count": 64,
   "id": "e155b890",
   "metadata": {},
   "outputs": [
    {
     "data": {
      "text/plain": [
       "0.7890250388880526"
      ]
     },
     "execution_count": 64,
     "metadata": {},
     "output_type": "execute_result"
    }
   ],
   "source": [
    "average_precision=average_precision_score(y_test,predicted)\n",
    "average_precision"
   ]
  },
  {
   "cell_type": "code",
   "execution_count": 65,
   "id": "1045f5ff",
   "metadata": {},
   "outputs": [
    {
     "name": "stdout",
     "output_type": "stream",
     "text": [
      "precision: [0.04155251 0.97333333 1.        ] \n",
      " recall: [1.        0.8021978 0.       ]\n"
     ]
    }
   ],
   "source": [
    "precision,recall,_=precision_recall_curve(y_test,predicted)\n",
    "print(f'precision: {precision} \\n recall: {recall}')"
   ]
  },
  {
   "cell_type": "code",
   "execution_count": 66,
   "id": "16a6719c",
   "metadata": {},
   "outputs": [],
   "source": [
    "def plot_pr_curve(recall, precision, average_precision):\n",
    "    \"\"\"\n",
    "    https://scikit-learn.org/stable/auto_examples/model_selection/plot_precision_recall.html\n",
    "    \"\"\"\n",
    "    from inspect import signature\n",
    "    plt.figure()\n",
    "    step_kwargs = ({'step': 'post'}\n",
    "                   if 'step' in signature(plt.fill_between).parameters\n",
    "                   else {})\n",
    "\n",
    "    plt.step(recall, precision, color='b', alpha=0.2, where='post')\n",
    "    plt.fill_between(recall, precision, alpha=0.2, color='b', **step_kwargs)\n",
    "\n",
    "    plt.xlabel('Recall')\n",
    "    plt.ylabel('Precision')\n",
    "    plt.ylim([0.0, 1.0])\n",
    "    plt.xlim([0.0, 1.0])\n",
    "    plt.title(f'2-class Precision-Recall curve: AP={average_precision:0.2f}')\n",
    "    return plt.show()"
   ]
  },
  {
   "cell_type": "code",
   "execution_count": 67,
   "id": "18ed7a92",
   "metadata": {},
   "outputs": [
    {
     "data": {
      "image/png": "[encoded data removed]",
      "text/plain": [
       "<Figure size 640x480 with 1 Axes>"
      ]
     },
     "metadata": {},
     "output_type": "display_data"
    }
   ],
   "source": [
    "plot_pr_curve(recall,precision,average_precision)"
   ]
  },
  {
   "cell_type": "markdown",
   "id": "c070fc2d",
   "metadata": {},
   "source": [
    "To optimaze our Random Forest model we will change Hyperparameter of RandomForestClassifier using GridSearchCV.But first we will use class_weights option when defining the sklearn model."
   ]
  },
  {
   "cell_type": "code",
   "execution_count": 73,
   "id": "c465aa0f",
   "metadata": {},
   "outputs": [],
   "source": [
    "model=RandomForestClassifier(class_weight='balanced_subsample',random_state=5,n_estimators=100)"
   ]
  },
  {
   "cell_type": "code",
   "execution_count": 74,
   "id": "45dd1368",
   "metadata": {},
   "outputs": [
    {
     "data": {
      "text/plain": [
       "RandomForestClassifier(class_weight='balanced_subsample', random_state=5)"
      ]
     },
     "execution_count": 74,
     "metadata": {},
     "output_type": "execute_result"
    }
   ],
   "source": [
    "model.fit(X_train,y_train)"
   ]
  },
  {
   "cell_type": "code",
   "execution_count": 78,
   "id": "fa5e5638",
   "metadata": {},
   "outputs": [],
   "source": [
    "predicted=model.predict(X_test)\n",
    "prob=model.predict_proba(X_test)"
   ]
  },
  {
   "cell_type": "code",
   "execution_count": 79,
   "id": "ee765acc",
   "metadata": {},
   "outputs": [
    {
     "name": "stdout",
     "output_type": "stream",
     "text": [
      "ROC Score:\n",
      "0.9419896444670147\n",
      "\n",
      "Classification Report:\n",
      "              precision    recall  f1-score   support\n",
      "\n",
      "           0       0.99      1.00      1.00      2099\n",
      "           1       0.99      0.80      0.88        91\n",
      "\n",
      "    accuracy                           0.99      2190\n",
      "   macro avg       0.99      0.90      0.94      2190\n",
      "weighted avg       0.99      0.99      0.99      2190\n",
      "\n",
      "\n",
      "Confusion Matrix:\n",
      "[[2098    1]\n",
      " [  18   73]]\n"
     ]
    }
   ],
   "source": [
    "print('ROC Score:')\n",
    "print(roc_auc_score(y_test, probs[:,1]))\n",
    "print('\\nClassification Report:')\n",
    "print(classification_report(y_test, predicted))\n",
    "print('\\nConfusion Matrix:')\n",
    "print(confusion_matrix(y_test, predicted))"
   ]
  },
  {
   "cell_type": "markdown",
   "id": "d2bdbf18",
   "metadata": {},
   "source": [
    "We now have 3 less false positives, but now 19 in stead of 18 false negatives.The model don't improve drastically.\n",
    "Now lets adjust Random forest parameters."
   ]
  },
  {
   "cell_type": "code",
   "execution_count": 80,
   "id": "0ed1aef7",
   "metadata": {},
   "outputs": [],
   "source": [
    "def get_model_results(X_train: np.ndarray, y_train: np.ndarray,\n",
    "                      X_test: np.ndarray, y_test: np.ndarray, model):\n",
    "    # Fit your training model to your training set\n",
    "    model.fit(X_train, y_train)\n",
    "\n",
    "    # Obtain the predicted values and probabilities from the model \n",
    "    predicted = model.predict(X_test)\n",
    "    \n",
    "    try:\n",
    "        probs = model.predict_proba(X_test)\n",
    "        print('ROC Score:')\n",
    "        print(roc_auc_score(y_test, probs[:,1]))\n",
    "    except AttributeError:\n",
    "        pass\n",
    "\n",
    "    # Print the ROC curve, classification report and confusion matrix\n",
    "    print('\\nClassification Report:')\n",
    "    print(classification_report(y_test, predicted))\n",
    "    print('\\nConfusion Matrix:')\n",
    "    print(confusion_matrix(y_test, predicted))"
   ]
  },
  {
   "cell_type": "code",
   "execution_count": 84,
   "id": "99d52469",
   "metadata": {},
   "outputs": [],
   "source": [
    "model=RandomForestClassifier(bootstrap=True,class_weight={0:1,1:12},criterion='entropy',max_depth=10,min_samples_leaf=10,n_estimators=20,n_jobs=1,random_state=5)"
   ]
  },
  {
   "cell_type": "code",
   "execution_count": 85,
   "id": "2ee0d4a0",
   "metadata": {},
   "outputs": [
    {
     "name": "stdout",
     "output_type": "stream",
     "text": [
      "ROC Score:\n",
      "0.9609651901219315\n",
      "\n",
      "Classification Report:\n",
      "              precision    recall  f1-score   support\n",
      "\n",
      "           0       0.99      1.00      1.00      2099\n",
      "           1       0.97      0.85      0.91        91\n",
      "\n",
      "    accuracy                           0.99      2190\n",
      "   macro avg       0.98      0.92      0.95      2190\n",
      "weighted avg       0.99      0.99      0.99      2190\n",
      "\n",
      "\n",
      "Confusion Matrix:\n",
      "[[2097    2]\n",
      " [  14   77]]\n"
     ]
    }
   ],
   "source": [
    "get_model_results(X_train,y_train,X_test,y_test,model)"
   ]
  },
  {
   "cell_type": "markdown",
   "id": "b2d841fb",
   "metadata": {},
   "source": [
    "We can see that our model improves.Lets see if we use GridSearchCV."
   ]
  },
  {
   "cell_type": "code",
   "execution_count": 87,
   "id": "12624a28",
   "metadata": {},
   "outputs": [],
   "source": [
    "param_grid = {'n_estimators': [1, 30],\n",
    "              'max_features': ['auto', 'log2'], \n",
    "              'max_depth': [4, 8, 10, 12],\n",
    "              'criterion': ['gini', 'entropy']}"
   ]
  },
  {
   "cell_type": "code",
   "execution_count": 88,
   "id": "cd879a62",
   "metadata": {},
   "outputs": [],
   "source": [
    "model=RandomForestClassifier(random_state=5)"
   ]
  },
  {
   "cell_type": "code",
   "execution_count": 90,
   "id": "b03f427e",
   "metadata": {},
   "outputs": [],
   "source": [
    "Cv_model=GridSearchCV(estimator=model,param_grid=param_grid,cv=5,scoring='recall',n_jobs=-1)"
   ]
  },
  {
   "cell_type": "code",
   "execution_count": 93,
   "id": "60fa76c6",
   "metadata": {},
   "outputs": [
    {
     "data": {
      "text/plain": [
       "GridSearchCV(cv=5, estimator=RandomForestClassifier(random_state=5), n_jobs=-1,\n",
       "             param_grid={'criterion': ['gini', 'entropy'],\n",
       "                         'max_depth': [4, 8, 10, 12],\n",
       "                         'max_features': ['auto', 'log2'],\n",
       "                         'n_estimators': [1, 30]},\n",
       "             scoring='recall')"
      ]
     },
     "execution_count": 93,
     "metadata": {},
     "output_type": "execute_result"
    }
   ],
   "source": [
    "Cv_model.fit(X_train,y_train)"
   ]
  },
  {
   "cell_type": "code",
   "execution_count": 94,
   "id": "48c0db41",
   "metadata": {},
   "outputs": [
    {
     "data": {
      "text/plain": [
       "{'criterion': 'gini',\n",
       " 'max_depth': 8,\n",
       " 'max_features': 'log2',\n",
       " 'n_estimators': 30}"
      ]
     },
     "execution_count": 94,
     "metadata": {},
     "output_type": "execute_result"
    }
   ],
   "source": [
    "Cv_model.best_params_"
   ]
  },
  {
   "cell_type": "code",
   "execution_count": 102,
   "id": "33b02be9",
   "metadata": {},
   "outputs": [],
   "source": [
    "model=RandomForestClassifier(random_state=5,min_samples_leaf=10,class_weight={0:1,1:12},criterion='gini',max_depth=8,max_features='log2',n_estimators=30,n_jobs=-1)"
   ]
  },
  {
   "cell_type": "code",
   "execution_count": 103,
   "id": "a690ab69",
   "metadata": {},
   "outputs": [
    {
     "name": "stdout",
     "output_type": "stream",
     "text": [
      "ROC Score:\n",
      "0.9749697658225529\n",
      "\n",
      "Classification Report:\n",
      "              precision    recall  f1-score   support\n",
      "\n",
      "           0       0.99      1.00      1.00      2099\n",
      "           1       0.95      0.84      0.89        91\n",
      "\n",
      "    accuracy                           0.99      2190\n",
      "   macro avg       0.97      0.92      0.94      2190\n",
      "weighted avg       0.99      0.99      0.99      2190\n",
      "\n",
      "\n",
      "Confusion Matrix:\n",
      "[[2095    4]\n",
      " [  15   76]]\n"
     ]
    }
   ],
   "source": [
    "get_model_results(X_train,y_train,X_test,y_test,model)"
   ]
  },
  {
   "cell_type": "markdown",
   "id": "4cfae829",
   "metadata": {},
   "source": [
    "We can see that the model improves even further. Now we are catching more cases of fraud. However, you see that the number of false positives actually went up(Precision-Recall trade-off in action)"
   ]
  },
  {
   "cell_type": "code",
   "execution_count": null,
   "id": "3c095117",
   "metadata": {},
   "outputs": [],
   "source": []
  },
  {
   "cell_type": "code",
   "execution_count": null,
   "id": "fb3eedf4",
   "metadata": {},
   "outputs": [],
   "source": []
  },
  {
   "cell_type": "code",
   "execution_count": null,
   "id": "93bb724b",
   "metadata": {},
   "outputs": [],
   "source": []
  },
  {
   "cell_type": "code",
   "execution_count": null,
   "id": "5b119c0b",
   "metadata": {},
   "outputs": [],
   "source": []
  },
  {
   "cell_type": "code",
   "execution_count": null,
   "id": "777d35ae",
   "metadata": {},
   "outputs": [],
   "source": []
  },
  {
   "cell_type": "code",
   "execution_count": null,
   "id": "bda576d6",
   "metadata": {},
   "outputs": [],
   "source": []
  },
  {
   "cell_type": "code",
   "execution_count": null,
   "id": "a7b37c53",
   "metadata": {},
   "outputs": [],
   "source": []
  }
 ],
 "metadata": {
  "kernelspec": {
   "display_name": "Python 3 (ipykernel)",
   "language": "python",
   "name": "python3"
  },
  "language_info": {
   "codemirror_mode": {
    "name": "ipython",
    "version": 3
   },
   "file_extension": ".py",
   "mimetype": "text/x-python",
   "name": "python",
   "nbconvert_exporter": "python",
   "pygments_lexer": "ipython3",
   "version": "3.9.15"
  }
 },
 "nbformat": 4,
 "nbformat_minor": 5
}
